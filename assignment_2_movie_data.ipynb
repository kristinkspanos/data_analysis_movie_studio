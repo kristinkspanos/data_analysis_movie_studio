{
 "cells": [
  {
   "cell_type": "markdown",
   "metadata": {},
   "source": [
    "# Determinants of Box Office Success"
   ]
  },
  {
   "cell_type": "markdown",
   "metadata": {},
   "source": [
    "## Imports"
   ]
  },
  {
   "cell_type": "code",
   "execution_count": null,
   "metadata": {},
   "outputs": [],
   "source": [
    "import pandas as pd\n",
    "import numpy as np\n",
    "from functools import reduce\n",
    "from scipy.stats import iqr\n",
    "\n",
    "# visualization tools\n",
    "%matplotlib inline\n",
    "import matplotlib.pyplot as plt\n",
    "\n",
    "import seaborn as sns"
   ]
  },
  {
   "cell_type": "code",
   "execution_count": null,
   "metadata": {},
   "outputs": [],
   "source": [
    "movies = pd.read_csv('movie_data.csv')\n",
    "#print(movies.columns)\n",
    "#print(movies.info())\n",
    "#movies"
   ]
  },
  {
   "cell_type": "markdown",
   "metadata": {},
   "source": [
    "**Numeric columns:** num_critic_reviews, duration, director_facebook_likes, actor_1_facebook_likes, actor_2_facebook_likes, actor_3_facebook_likes, movie_facebook_likes, gross, num_users_voted (int), cast_total_facebook_likes  (int), num_user_reviews, budget, title_year , movie_score, aspect_ratio (int)                                                          "
   ]
  },
  {
   "cell_type": "markdown",
   "metadata": {},
   "source": [
    "## Explore and Clean Dataset"
   ]
  },
  {
   "cell_type": "code",
   "execution_count": null,
   "metadata": {},
   "outputs": [],
   "source": [
    "# remove missing values\n",
    "movies.dropna(inplace=True)\n",
    "\n",
    "# remove duplicate rows based on the 'movie_title' column\n",
    "movies.drop_duplicates(subset=['movie_title'], keep=False, inplace=True)\n",
    "\n",
    "# reset index\n",
    "movies.reset_index(drop=True, inplace=True)"
   ]
  },
  {
   "cell_type": "code",
   "execution_count": null,
   "metadata": {},
   "outputs": [],
   "source": [
    "# transform budget and gross metrics\n",
    "movies['budget_millions'] = round(movies['budget'] / 1000000, 4)\n",
    "movies['gross_millions'] = round(movies['gross'] / 1000000, 4)\n",
    "\n",
    "# add calcuated columns\n",
    "movies['profit_millions'] = movies['gross_millions'] - movies['budget_millions']\n",
    "movies['roi'] = round((movies['profit_millions'] / movies['budget_millions']), 4)\n",
    "movies['profit_margin'] = movies['profit_millions'] / movies['gross_millions']\n",
    "\n",
    "movies['budget_millions'] = movies['budget_millions'].replace(0, np.NaN)\n",
    "movies['gross_millions'] = movies['gross_millions'].replace(0,np.NaN)\n",
    "\n",
    "#movies.to_csv('movies_pm_roi.csv')"
   ]
  },
  {
   "cell_type": "markdown",
   "metadata": {},
   "source": [
    "### Remove irrelevant movies\n",
    "All movies released prior to 1996 are removed; All non-English language movies are removed"
   ]
  },
  {
   "cell_type": "code",
   "execution_count": null,
   "metadata": {},
   "outputs": [],
   "source": [
    "# remove all movies from before the year 1996 in order to focus on the most recent data points\n",
    "movies = movies[movies['title_year']>=1996]\n",
    "\n",
    "# keep only English language movies\n",
    "movies = movies[movies['language'] == 'English']\n",
    "\n",
    "movies.reset_index(drop=True, inplace=True)"
   ]
  },
  {
   "cell_type": "markdown",
   "metadata": {},
   "source": [
    "## Explore Numeric Variables\n",
    "\n",
    "Several of the numeric variables have significant outliers that will make it more difficult to accurately assess relationships between variables. \n",
    "\n",
    "**Solution** - trim numeric variables by replacing outliers with upper whisker values.\n",
    "\n",
    "**Method** - outliers are identified using the IQR method; replace outliers with upper whisker value; trimmed values will be stored in a separate dataframe (movies_trimmed)"
   ]
  },
  {
   "cell_type": "code",
   "execution_count": null,
   "metadata": {},
   "outputs": [],
   "source": [
    "# define movies trimmed to hold trimmed variables\n",
    "movies_trimmed = movies.copy(deep = True)"
   ]
  },
  {
   "cell_type": "code",
   "execution_count": null,
   "metadata": {},
   "outputs": [],
   "source": [
    "# separate numerical fields from categorical\n",
    "movies_numeric = movies.select_dtypes(include=['float64', 'int64'])\n",
    "\n",
    "# replace outliers with upper whisker / lower whisker value\n",
    "for column in movies_numeric:\n",
    "    q1 = movies_trimmed[column].quantile(0.25)\n",
    "    q3 = movies_trimmed[column].quantile(0.75)\n",
    "    iqr = q3 - q1\n",
    "    upper_whisker = q3 + (iqr*1.5)\n",
    "    lower_whisker = q1 - (iqr*1.5)\n",
    "    movies_trimmed.loc[movies_trimmed[column] > upper_whisker, column] = upper_whisker\n",
    "    movies_trimmed.loc[movies_trimmed[column] < lower_whisker, column] = lower_whisker"
   ]
  },
  {
   "cell_type": "code",
   "execution_count": null,
   "metadata": {},
   "outputs": [],
   "source": [
    "#boxplot = movies_trimmed.boxplot(column=['duration'])"
   ]
  },
  {
   "cell_type": "code",
   "execution_count": null,
   "metadata": {},
   "outputs": [],
   "source": [
    "#boxplot = movies_trimmed.boxplot(column=['num_critic_reviews'])"
   ]
  },
  {
   "cell_type": "code",
   "execution_count": null,
   "metadata": {},
   "outputs": [],
   "source": [
    "#boxplot = movies_trimmed.boxplot(column=['director_facebook_likes'])"
   ]
  },
  {
   "cell_type": "code",
   "execution_count": null,
   "metadata": {},
   "outputs": [],
   "source": [
    "#boxplot = movies_trimmed.boxplot(column=['actor_1_facebook_likes'])"
   ]
  },
  {
   "cell_type": "code",
   "execution_count": null,
   "metadata": {},
   "outputs": [],
   "source": [
    "#boxplot = movies_trimmed.boxplot(column=['actor_2_facebook_likes'])"
   ]
  },
  {
   "cell_type": "code",
   "execution_count": null,
   "metadata": {},
   "outputs": [],
   "source": [
    "#boxplot = movies_trimmed.boxplot(column=['actor_3_facebook_likes'])"
   ]
  },
  {
   "cell_type": "code",
   "execution_count": null,
   "metadata": {},
   "outputs": [],
   "source": [
    "#boxplot = movies_trimmed.boxplot(column=['movie_facebook_likes'])"
   ]
  },
  {
   "cell_type": "code",
   "execution_count": null,
   "metadata": {},
   "outputs": [],
   "source": [
    "#boxplot = movies_trimmed.boxplot(column=['cast_total_facebook_likes'])"
   ]
  },
  {
   "cell_type": "code",
   "execution_count": null,
   "metadata": {},
   "outputs": [],
   "source": [
    "#boxplot = movies_trimmed.boxplot(column=['gross_millions'])"
   ]
  },
  {
   "cell_type": "code",
   "execution_count": null,
   "metadata": {},
   "outputs": [],
   "source": [
    "#boxplot = movies_trimmed.boxplot(column=['budget_millions'])"
   ]
  },
  {
   "cell_type": "code",
   "execution_count": null,
   "metadata": {},
   "outputs": [],
   "source": [
    "#boxplot = movies_trimmed.boxplot(column=['movie_score'])"
   ]
  },
  {
   "cell_type": "markdown",
   "metadata": {},
   "source": [
    "## Explore Categorical Variables"
   ]
  },
  {
   "cell_type": "code",
   "execution_count": null,
   "metadata": {},
   "outputs": [],
   "source": [
    "movies['director_name'].value_counts()"
   ]
  },
  {
   "cell_type": "code",
   "execution_count": null,
   "metadata": {},
   "outputs": [],
   "source": [
    "movies['actor_1_name'].value_counts()"
   ]
  },
  {
   "cell_type": "code",
   "execution_count": null,
   "metadata": {},
   "outputs": [],
   "source": [
    "movies['actor_2_name'].value_counts()"
   ]
  },
  {
   "cell_type": "code",
   "execution_count": null,
   "metadata": {},
   "outputs": [],
   "source": [
    "movies['actor_3_name'].value_counts()"
   ]
  },
  {
   "cell_type": "code",
   "execution_count": null,
   "metadata": {},
   "outputs": [],
   "source": [
    "movies['plot_keywords'].value_counts()\n",
    "\n",
    "# plot keywords will be more effectively analyzed by separating the keywords"
   ]
  },
  {
   "cell_type": "code",
   "execution_count": null,
   "metadata": {},
   "outputs": [],
   "source": [
    "movies['country'].value_counts()"
   ]
  },
  {
   "cell_type": "code",
   "execution_count": null,
   "metadata": {},
   "outputs": [],
   "source": [
    "movies['content_rating'].value_counts()"
   ]
  },
  {
   "cell_type": "code",
   "execution_count": null,
   "metadata": {},
   "outputs": [],
   "source": [
    "movies['key_actors'] = movies['actor_1_name'].map(str) + '-' + movies['actor_2_name'].map(str) + '-' + movies['actor_3_name'].map(str)\n",
    "movies['key_actors']"
   ]
  },
  {
   "cell_type": "markdown",
   "metadata": {},
   "source": [
    "### VAR (Value Above Replacement)\n",
    "Value Above Replacement (VAR) represents a value of number of times a figure (actor/actress or a director) has exceeded an average amount. In terms of profit, VAR measures the X times an actor/actress or a director appeared in movies with an above average profit.\n",
    "\n",
    "VAR is calculated by taking the number of times an actor/actress or a director appeared in a movie, dividing it by the net profit of movies they appeared in.\n",
    "\n",
    "For the sake of this project, we will consider both actors/actresses and directors, with a condition for actor having appeared in at least 5 movies, and directors directing at least 3 movies."
   ]
  },
  {
   "cell_type": "code",
   "execution_count": 32,
   "metadata": {},
   "outputs": [],
   "source": [
    "#calculating VAR for actors/actresses\n",
    "\n",
    "actor1_counts = movies['actor_1_name'].value_counts()\n",
    "\n",
    "#creating a list with a condition of having appeared in at least 5 movies\n",
    "actor1_list = actor1_counts[actor1_counts >= 5].index.tolist()\n",
    "\n",
    "#creating a dataframe with actors in 5 or more movies\n",
    "actors1 = movies[movies['actor_1_name'].isin(actor1_list)]\n",
    "\n",
    "#creating a dataframe with actors and the average profit\n",
    "actor1_total = actors1.groupby(['actor_1_name'], as_index=False)['profit_millions'].mean().sort_values(by='profit_millions', ascending=False)\n",
    "\n",
    "#creating the VAR value feature\n",
    "actor1_total['VAR'] = (actor1_total['profit_millions']/actor1_total['profit_millions'].mean())"
   ]
  },
  {
   "cell_type": "code",
   "execution_count": 33,
   "metadata": {},
   "outputs": [],
   "source": [
    "#calculating VAR for directors\n",
    "\n",
    "director_counts = movies['director_name'].value_counts()\n",
    "\n",
    "#creating a list with a condition of having appeared in at least 5 movies\n",
    "director_list = director_counts[director_counts >= 5].index.tolist()\n",
    "\n",
    "#creating a dataframe with actors in 5 or more movies\n",
    "director = movies[movies['director_name'].isin(director_list)]\n",
    "\n",
    "#creating a dataframe with actors and the average profit\n",
    "director_total = director.groupby(['director_name'], as_index=False)['profit_millions'].mean().sort_values(by='profit_millions', ascending=False)\n",
    "\n",
    "#creating the VAR value feature\n",
    "director_total['VAR'] = (director_total['profit_millions']/director_total['profit_millions'].mean())"
   ]
  },
  {
   "cell_type": "markdown",
   "metadata": {},
   "source": [
    "## Explore Relationships in the Data"
   ]
  },
  {
   "cell_type": "markdown",
   "metadata": {},
   "source": [
    "**Variables that are moderately correlated (correlation > 0.4) with gross revenue:** num_critic_reviews, num_users_voted, num_user_reviews, budget, profit_millions, roi, profit_margin \n",
    "<br>\n",
    "**Variables that are moderately correlated (correlation > 0.4) with profit:** gross_millions, num_users_voted, roi, profit_margin\n",
    "<br>\n",
    "**Variables that are moderately correlated (correlation > 0.4) with profit margin:** gross_millions, roi, profit_margin\n",
    "<br>\n",
    "**Variables that are moderately correlated (correlation > 0.4) with ROI:** gross_millions, profit_millions, profit_margin"
   ]
  },
  {
   "cell_type": "code",
   "execution_count": null,
   "metadata": {},
   "outputs": [],
   "source": [
    "corr_matrix_trimmed = movies_trimmed.corr()\n",
    "corr_matrix_trimmed.to_csv('corr_matrix_trimmed.csv')\n",
    "\n",
    "corr_matrix_trimmed"
   ]
  },
  {
   "cell_type": "markdown",
   "metadata": {},
   "source": [
    "## Success Metrics\n",
    "Which of the metrics that we have access to demonstrate the success of a film?\n",
    "\n",
    "Potential measures of success:\n",
    "1. num_critic_review\n",
    "2. gross\n",
    "3. num_user_reviews\n",
    "4. movie_score"
   ]
  },
  {
   "cell_type": "markdown",
   "metadata": {},
   "source": [
    "## Analyze director success\n",
    "\n",
    "Do certain director's tend to make more successful movies?"
   ]
  },
  {
   "cell_type": "code",
   "execution_count": null,
   "metadata": {},
   "outputs": [],
   "source": [
    "#group by director; average gross income\n",
    "directors_gross = movies[['director_name','gross']].groupby(['director_name']).mean().sort_values(by='gross', ascending=False)\n",
    "directors_gross['gross_millions'] = round(directors_gross['gross'] / 1000000, 2)\n",
    "\n",
    "#directors_gross.head(10)"
   ]
  },
  {
   "cell_type": "code",
   "execution_count": null,
   "metadata": {},
   "outputs": [],
   "source": [
    "#group by director; count number of movies\n",
    "directors_count = movies[['director_name','color']].groupby(['director_name']).count().sort_values(by='color',ascending = False)\n",
    "directors_count = directors_count.rename(columns = {'color': 'num_movies'})\n",
    "\n",
    "#directors_count"
   ]
  },
  {
   "cell_type": "code",
   "execution_count": null,
   "metadata": {},
   "outputs": [],
   "source": [
    "#group by director; average movie score\n",
    "directors_score = movies[['director_name','movie_score']].groupby(['director_name']).mean().sort_values(by='movie_score', ascending = False)\n",
    "\n",
    "#directors_score.head(10)"
   ]
  },
  {
   "cell_type": "code",
   "execution_count": null,
   "metadata": {},
   "outputs": [],
   "source": [
    "#group by director; average budget\n",
    "directors_budget = movies[['director_name','budget']].groupby(['director_name']).mean().sort_values(by='budget', ascending = False)\n",
    "directors_budget['budget_millions'] = round(directors_budget['budget'] / 1000000, 2)\n",
    "\n",
    "#directors_score.head(10)"
   ]
  },
  {
   "cell_type": "code",
   "execution_count": null,
   "metadata": {},
   "outputs": [],
   "source": [
    "#group by director; average facebook likes\n",
    "director_fblikes = movies[['director_name','director_facebook_likes']].groupby(['director_name']).mean().sort_values(by='director_facebook_likes', ascending = False)\n",
    "\n",
    "#director_fblikes.head(10)"
   ]
  },
  {
   "cell_type": "code",
   "execution_count": null,
   "metadata": {},
   "outputs": [],
   "source": [
    "#group by director; average movie facebook likes\n",
    "movie_fblikes = movies[['director_name','movie_facebook_likes']].groupby(['director_name']).mean().sort_values(by='movie_facebook_likes', ascending = False)\n",
    "\n",
    "#movie_fblikes.head(10)"
   ]
  },
  {
   "cell_type": "code",
   "execution_count": null,
   "metadata": {},
   "outputs": [],
   "source": [
    "# merge director data into one df\n",
    "directors_df_lst = [directors_gross, directors_budget, directors_count, directors_score, director_fblikes, movie_fblikes]\n",
    "directors_df = reduce(lambda left,right: pd.merge(left,right,on='director_name'), directors_df_lst)\n",
    "directors_df = directors_df.drop(columns=['gross', 'budget'])\n",
    "directors_df = directors_df.rename(columns = {'gross_millions': 'avg_gross_millions',\n",
    "                                             'budget_millions': 'avg_budget_million',\n",
    "                                             'movie_score': 'avg_movie_score',\n",
    "                                             'director_facebook_likes':'avg_director_fb_likes',\n",
    "                                             'movie_facebook_likes':'avg_movie_fb_likes'})\n",
    "\n",
    "directors_df['avg_movie_score'] = round(directors_df['avg_movie_score'],2)\n",
    "directors_df['avg_movie_fb_likes'] = round(directors_df['avg_movie_fb_likes'],2)\n",
    "directors_df.to_csv('directors_df.csv')\n",
    "\n",
    "# filter df to focus on most successful directors\n",
    "directors_df_filter = directors_df[directors_df['avg_gross_millions']>=100]"
   ]
  },
  {
   "cell_type": "code",
   "execution_count": null,
   "metadata": {},
   "outputs": [],
   "source": [
    "# scatterplot to show relationship between number of movies directed and avg. gross per movie\n",
    "\n",
    "#sns.set(rc={'figure.figsize':(8,12)})\n",
    "#sns.set(font_scale=2)\n",
    "#sns.scatterplot(data=directors_df, x=\"avg_gross_millions\", y=\"num_movies\", s = 70)\n",
    "#plt.savefig('director_scatter_nummovies_avggross.png')"
   ]
  },
  {
   "cell_type": "code",
   "execution_count": null,
   "metadata": {
    "scrolled": true
   },
   "outputs": [],
   "source": [
    "# top grossing directors\n",
    "directors_df_filter.head(10)"
   ]
  },
  {
   "cell_type": "code",
   "execution_count": null,
   "metadata": {},
   "outputs": [],
   "source": [
    "# directors with top average movie scores\n",
    "directors_df_filter.sort_values(by = 'avg_movie_score', ascending = False).head(10)"
   ]
  },
  {
   "cell_type": "code",
   "execution_count": null,
   "metadata": {},
   "outputs": [],
   "source": [
    "# directors who directed the highest number of movies\n",
    "directors_df_filter.sort_values(by = 'num_movies', ascending = False).head(10)"
   ]
  },
  {
   "cell_type": "markdown",
   "metadata": {},
   "source": [
    "## Analzye Genre Success"
   ]
  },
  {
   "cell_type": "code",
   "execution_count": null,
   "metadata": {},
   "outputs": [],
   "source": [
    "movies['genres'].value_counts()"
   ]
  },
  {
   "cell_type": "code",
   "execution_count": null,
   "metadata": {},
   "outputs": [],
   "source": [
    "# create genre dfs\n",
    "genre_action = movies[movies['genres'].str.contains('Action')]\n",
    "genre_adventure = movies[movies['genres'].str.contains('Adventure')]\n",
    "genre_fantasy = movies[movies['genres'].str.contains('Fantasy')]\n",
    "genre_thriller = movies[movies['genres'].str.contains('Thriller')]\n",
    "genre_scifi = movies[movies['genres'].str.contains('Sci-Fi')]\n",
    "genre_crime = movies[movies['genres'].str.contains('Crime')]\n",
    "genre_comedy = movies[movies['genres'].str.contains('Comedy')]\n",
    "genre_drama = movies[movies['genres'].str.contains('Drama')]\n",
    "genre_doc = movies[movies['genres'].str.contains('Documentary')]\n",
    "genre_romance = movies[movies['genres'].str.contains('Romance')]\n",
    "genre_horror = movies[movies['genres'].str.contains('Horror')]"
   ]
  },
  {
   "cell_type": "code",
   "execution_count": null,
   "metadata": {},
   "outputs": [],
   "source": [
    "# add binary genre variable to movies df\n",
    "genre_lst = ['Action','Adventure','Animation','Comedy','Crime','Documentary','Drama','Family','Fantasy','Music','Mystery','Thriller','Horror','Romance','Sci-Fi']\n",
    "\n",
    "# create column for each genre in genre_lst\n",
    "for x in genre_lst:\n",
    "    movies['genre_' + x.lower()] = \"\"\n",
    "\n",
    "# populate columns with binary field\n",
    "for x in range(len(movies['genres'])):\n",
    "    for y in genre_lst:\n",
    "        if y in movies['genres'][x]:\n",
    "            movies['genre_' + y.lower()][x] = y.lower()\n",
    "        else:\n",
    "            movies['genre_' + y.lower()][x] = 'not ' + y.lower()"
   ]
  },
  {
   "cell_type": "markdown",
   "metadata": {},
   "source": [
    "### Create df to analyze average outcome by genre"
   ]
  },
  {
   "cell_type": "code",
   "execution_count": null,
   "metadata": {},
   "outputs": [],
   "source": [
    "genre_avg = pd.DataFrame()\n",
    "for x in genre_lst:\n",
    "    x = movies.groupby(['genre_' + x.lower()]).mean()\n",
    "    x = x.rename_axis('genre', axis= 0)\n",
    "    genre_avg = genre_avg.append(x)\n",
    "\n",
    "genre_avg = genre_avg[genre_avg.index.str.contains(\"not\")==False]\n",
    "genre_avg.to_csv('genre_avg.csv')\n",
    "\n",
    "#genre_avg"
   ]
  },
  {
   "cell_type": "markdown",
   "metadata": {},
   "source": [
    "#### barplot - average gross by genre"
   ]
  },
  {
   "cell_type": "code",
   "execution_count": null,
   "metadata": {},
   "outputs": [],
   "source": [
    "genre_avg_gross = sns.barplot(x= genre_avg.index, y=\"gross_millions\", data=genre_avg)\n",
    "genre_avg_gross.set_xticklabels(genre_avg_gross.get_xticklabels(),rotation=45)\n",
    "sns.set(rc={'figure.figsize':(20,20)})\n",
    "sns.set(font_scale=2)\n",
    "#plt.savefig('genre_avg_gross.png')"
   ]
  },
  {
   "cell_type": "markdown",
   "metadata": {},
   "source": [
    "#### barplot - average budget by genre"
   ]
  },
  {
   "cell_type": "code",
   "execution_count": null,
   "metadata": {},
   "outputs": [],
   "source": [
    "genre_avg_budget = sns.barplot(x= genre_avg.index, y=\"budget_millions\", data=genre_avg)\n",
    "genre_avg_budget.set_xticklabels(genre_avg_budget.get_xticklabels(),rotation=45)"
   ]
  },
  {
   "cell_type": "markdown",
   "metadata": {},
   "source": [
    "#### barplot - average revenue by genre"
   ]
  },
  {
   "cell_type": "code",
   "execution_count": null,
   "metadata": {},
   "outputs": [],
   "source": [
    "genre_avg_revenue = sns.barplot(x= genre_avg.index, y=\"revenue_millions\", data=genre_avg)\n",
    "genre_avg_revenue.set_xticklabels(genre_avg_revenue.get_xticklabels(),rotation=45)\n",
    "sns.set(rc={'figure.figsize':(20,15)})\n",
    "sns.set(font_scale=2)\n",
    "#plt.savefig('genre_avg_revenue.png')"
   ]
  },
  {
   "cell_type": "markdown",
   "metadata": {},
   "source": [
    "### Create df to analyzing total outcome (sum) by genre"
   ]
  },
  {
   "cell_type": "code",
   "execution_count": null,
   "metadata": {},
   "outputs": [],
   "source": [
    "genre_sum = pd.DataFrame()\n",
    "for x in genre_lst:\n",
    "    x = movies.groupby(['genre_' + x.lower()]).sum()\n",
    "    x = x.rename_axis('genre', axis= 0)\n",
    "    genre_sum = genre_sum.append(x)\n",
    "\n",
    "genre_sum = genre_sum[genre_sum.index.str.contains(\"not\")==False]\n",
    "#genre_sum.to_csv('genre_sum.csv')"
   ]
  },
  {
   "cell_type": "markdown",
   "metadata": {},
   "source": [
    "#### barplot - total gross by genre"
   ]
  },
  {
   "cell_type": "code",
   "execution_count": null,
   "metadata": {},
   "outputs": [],
   "source": [
    "#genre_sum_gross = sns.barplot(x= genre_sum.index, y=\"gross_millions\", data=genre_sum)\n",
    "#genre_sum_gross.set_xticklabels(genre_sum_gross.get_xticklabels(),rotation=45)\n",
    "#sns.set(rc={'figure.figsize':(20,15)})\n",
    "#sns.set(font_scale=2)\n",
    "#plt.savefig('genre_sum_gross.png')"
   ]
  },
  {
   "cell_type": "markdown",
   "metadata": {},
   "source": [
    "#### barplot - total budget by genre"
   ]
  },
  {
   "cell_type": "code",
   "execution_count": null,
   "metadata": {},
   "outputs": [],
   "source": [
    "#genre_sum_budget = sns.barplot(x= genre_sum.index, y=\"budget_millions\", data=genre_sum)\n",
    "#genre_sum_budget.set_xticklabels(genre_sum_budget.get_xticklabels(),rotation=45)"
   ]
  },
  {
   "cell_type": "markdown",
   "metadata": {},
   "source": [
    "#### barplot - total revenue by genre"
   ]
  },
  {
   "cell_type": "code",
   "execution_count": null,
   "metadata": {},
   "outputs": [],
   "source": [
    "#genre_sum_revenue = sns.barplot(x= genre_sum.index, y=\"revenue_millions\", data=genre_sum)\n",
    "#genre_sum_revenue.set_xticklabels(genre_sum_revenue.get_xticklabels(),rotation=45)\n",
    "#sns.set(rc={'figure.figsize':(20,15)})\n",
    "#sns.set(font_scale=2)\n",
    "#plt.savefig('genre_sum_revenue.png')"
   ]
  },
  {
   "cell_type": "code",
   "execution_count": null,
   "metadata": {},
   "outputs": [],
   "source": []
  },
  {
   "cell_type": "code",
   "execution_count": null,
   "metadata": {},
   "outputs": [],
   "source": []
  },
  {
   "cell_type": "code",
   "execution_count": null,
   "metadata": {},
   "outputs": [],
   "source": []
  },
  {
   "cell_type": "code",
   "execution_count": null,
   "metadata": {},
   "outputs": [],
   "source": []
  }
 ],
 "metadata": {
  "kernelspec": {
   "display_name": "Python 3",
   "language": "python",
   "name": "python3"
  },
  "language_info": {
   "codemirror_mode": {
    "name": "ipython",
    "version": 3
   },
   "file_extension": ".py",
   "mimetype": "text/x-python",
   "name": "python",
   "nbconvert_exporter": "python",
   "pygments_lexer": "ipython3",
   "version": "3.7.6"
  }
 },
 "nbformat": 4,
 "nbformat_minor": 4
}

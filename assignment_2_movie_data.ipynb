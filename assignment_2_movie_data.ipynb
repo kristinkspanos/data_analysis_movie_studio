{
 "cells": [
  {
   "cell_type": "markdown",
   "metadata": {},
   "source": [
    "# Determinants of Box Office Success"
   ]
  },
  {
   "cell_type": "markdown",
   "metadata": {},
   "source": [
    "## Imports"
   ]
  },
  {
   "cell_type": "code",
   "execution_count": 26,
   "metadata": {},
   "outputs": [],
   "source": [
    "import pandas as pd\n",
    "import numpy as np\n",
    "from functools import reduce\n",
    "from scipy.stats import iqr\n",
    "\n",
    "# visualization tools\n",
    "%matplotlib inline\n",
    "import matplotlib.pyplot as plt\n",
    "import seaborn as sns"
   ]
  },
  {
   "cell_type": "code",
   "execution_count": 27,
   "metadata": {},
   "outputs": [],
   "source": [
    "movies = pd.read_csv('movie_data.csv')"
   ]
  },
  {
   "cell_type": "markdown",
   "metadata": {},
   "source": [
    "## Explore and Clean Dataset"
   ]
  },
  {
   "cell_type": "markdown",
   "metadata": {},
   "source": [
    "**Numeric variables:** num_critic_reviews, duration, director_facebook_likes, actor_1_facebook_likes, actor_2_facebook_likes, actor_3_facebook_likes, movie_facebook_likes, gross, num_users_voted (int), cast_total_facebook_likes  (int), num_user_reviews, budget, title_year , movie_score, aspect_ratio (int)  <br><br>\n",
    "**Categorical variables:** color, director_name, actor_1_name, actor_2_name, actor_3_name, genres, plot_keywords, language, country, content_rating"
   ]
  },
  {
   "cell_type": "code",
   "execution_count": 28,
   "metadata": {},
   "outputs": [
    {
     "name": "stdout",
     "output_type": "stream",
     "text": [
      "<class 'pandas.core.frame.DataFrame'>\n",
      "RangeIndex: 5043 entries, 0 to 5042\n",
      "Data columns (total 26 columns):\n",
      " #   Column                     Non-Null Count  Dtype  \n",
      "---  ------                     --------------  -----  \n",
      " 0   color                      5024 non-null   object \n",
      " 1   director_name              4939 non-null   object \n",
      " 2   num_critic_reviews         4993 non-null   float64\n",
      " 3   duration                   5028 non-null   float64\n",
      " 4   director_facebook_likes    4939 non-null   float64\n",
      " 5   actor_3_facebook_likes     5020 non-null   float64\n",
      " 6   actor_2_name               5030 non-null   object \n",
      " 7   actor_1_facebook_likes     5036 non-null   float64\n",
      " 8   gross                      4159 non-null   float64\n",
      " 9   genres                     5043 non-null   object \n",
      " 10  actor_1_name               5036 non-null   object \n",
      " 11  movie_title                5043 non-null   object \n",
      " 12  num_users_voted            5043 non-null   int64  \n",
      " 13  cast_total_facebook_likes  5043 non-null   int64  \n",
      " 14  actor_3_name               5020 non-null   object \n",
      " 15  plot_keywords              4890 non-null   object \n",
      " 16  num_user_reviews           5022 non-null   float64\n",
      " 17  language                   5031 non-null   object \n",
      " 18  country                    5038 non-null   object \n",
      " 19  content_rating             4740 non-null   object \n",
      " 20  budget                     4551 non-null   float64\n",
      " 21  title_year                 4935 non-null   float64\n",
      " 22  actor_2_facebook_likes     5030 non-null   float64\n",
      " 23  movie_score                5043 non-null   float64\n",
      " 24  aspect_ratio               4714 non-null   float64\n",
      " 25  movie_facebook_likes       5043 non-null   int64  \n",
      "dtypes: float64(12), int64(3), object(11)\n",
      "memory usage: 1.0+ MB\n"
     ]
    }
   ],
   "source": [
    "movies.info()"
   ]
  },
  {
   "cell_type": "code",
   "execution_count": 29,
   "metadata": {},
   "outputs": [],
   "source": [
    "# remove duplicate rows based on the 'movie_title' and 'title_year' column\n",
    "movies.drop_duplicates(subset=['movie_title','title_year'], keep=False, inplace=True)\n",
    "\n",
    "# reset index\n",
    "movies.reset_index(drop=True, inplace=True)"
   ]
  },
  {
   "cell_type": "code",
   "execution_count": 30,
   "metadata": {},
   "outputs": [],
   "source": [
    "# replace zeros in budget and gross columns with NaN\n",
    "movies['budget'] = movies['budget'].replace(0, np.NaN)\n",
    "movies['gross'] = movies['gross'].replace(0,np.NaN)\n",
    "\n",
    "# transform budget and gross metrics to show in millions\n",
    "movies['budget_millions'] = round(movies['budget'] / 1000000, 4)\n",
    "movies['gross_millions'] = round(movies['gross'] / 1000000, 4)\n",
    "\n",
    "# add calcuated columns\n",
    "movies['profit_millions'] = movies['gross_millions'] - movies['budget_millions']\n",
    "movies['roi'] = round((movies['profit_millions'] / movies['budget_millions']), 4)\n",
    "movies['profit_margin'] = movies['profit_millions'] / movies['gross_millions']"
   ]
  },
  {
   "cell_type": "markdown",
   "metadata": {},
   "source": [
    "### Remove irrelevant movies\n",
    "**Challenge** - The dataset contains movies that are not relevant to the move studio's current strategy, including movies from as early as 1916 and non-English language movies.\n",
    "\n",
    "**Solution** - filter df to exclude all movies released prior to 1996 and all non-English language movies."
   ]
  },
  {
   "cell_type": "code",
   "execution_count": 31,
   "metadata": {},
   "outputs": [],
   "source": [
    "# remove all movies from before the year 1996 in order to focus on the most recent data points\n",
    "movies = movies[movies['title_year']>=1996]\n",
    "\n",
    "# keep only English language movies\n",
    "movies = movies[movies['language'] == 'English']\n",
    "\n",
    "movies.reset_index(drop=True, inplace=True)"
   ]
  },
  {
   "cell_type": "markdown",
   "metadata": {},
   "source": [
    "### Explore Numeric Variables\n",
    "\n",
    "**Challenge** - After a preliminary exploration of the numeric variables, it became apparent that several of the numeric variables have significant outliers. The inclusion of outliers will make it more difficult to accurately assess relationships between variables. \n",
    "\n",
    "**Solution** - trim numeric variables by replacing outliers with upper whisker values.\n",
    "\n",
    "**Method** - outliers are identified using the IQR method; replace outliers with upper whisker value; trimmed values are stored in a separate dataframe (movies_trimmed)."
   ]
  },
  {
   "cell_type": "code",
   "execution_count": 32,
   "metadata": {},
   "outputs": [],
   "source": [
    "# define movies trimmed to hold trimmed variables\n",
    "movies_trimmed = movies.copy(deep = True)"
   ]
  },
  {
   "cell_type": "code",
   "execution_count": 33,
   "metadata": {},
   "outputs": [],
   "source": [
    "# separate numerical fields from categorical\n",
    "movies_numeric = movies.select_dtypes(include=['float64', 'int64'])\n",
    "\n",
    "# replace outliers with upper whisker / lower whisker value\n",
    "for column in movies_numeric:\n",
    "    q1 = movies_trimmed[column].quantile(0.25)\n",
    "    q3 = movies_trimmed[column].quantile(0.75)\n",
    "    iqr = q3 - q1\n",
    "    upper_whisker = q3 + (iqr*1.5)\n",
    "    lower_whisker = q1 - (iqr*1.5)\n",
    "    movies_trimmed.loc[movies_trimmed[column] > upper_whisker, column] = upper_whisker\n",
    "    movies_trimmed.loc[movies_trimmed[column] < lower_whisker, column] = lower_whisker"
   ]
  },
  {
   "cell_type": "code",
   "execution_count": 34,
   "metadata": {},
   "outputs": [],
   "source": [
    "#boxplot = movies_trimmed.boxplot(column=['duration'])\n",
    "#boxplot = movies_trimmed.boxplot(column=['movie_score'])\n",
    "#boxplot = movies_trimmed.boxplot(column=['num_critic_reviews'])"
   ]
  },
  {
   "cell_type": "code",
   "execution_count": 35,
   "metadata": {},
   "outputs": [
    {
     "name": "stderr",
     "output_type": "stream",
     "text": [
      "c:\\users\\kspanos\\appdata\\local\\programs\\python\\python37\\lib\\site-packages\\numpy\\core\\_asarray.py:83: VisibleDeprecationWarning: Creating an ndarray from ragged nested sequences (which is a list-or-tuple of lists-or-tuples-or ndarrays with different lengths or shapes) is deprecated. If you meant to do this, you must specify 'dtype=object' when creating the ndarray\n",
      "  return array(a, dtype, copy=False, order=order)\n"
     ]
    },
    {
     "data": {
      "image/png": "[encoded data removed]",
      "text/plain": [
       "<Figure size 432x288 with 1 Axes>"
      ]
     },
     "metadata": {
      "needs_background": "light"
     },
     "output_type": "display_data"
    }
   ],
   "source": [
    "# boxplot showing facebook likes for actors\n",
    "boxplot = movies_trimmed.boxplot(column=['actor_1_facebook_likes','actor_2_facebook_likes','actor_3_facebook_likes','cast_total_facebook_likes'], rot=45)"
   ]
  },
  {
   "cell_type": "code",
   "execution_count": 36,
   "metadata": {},
   "outputs": [
    {
     "data": {
      "image/png": "[encoded data removed]",
      "text/plain": [
       "<Figure size 432x288 with 1 Axes>"
      ]
     },
     "metadata": {
      "needs_background": "light"
     },
     "output_type": "display_data"
    }
   ],
   "source": [
    "# boxplot showing facebook likes for directors and movies\n",
    "boxplot = movies_trimmed.boxplot(column=['director_facebook_likes','movie_facebook_likes'], rot=45)"
   ]
  },
  {
   "cell_type": "code",
   "execution_count": 37,
   "metadata": {},
   "outputs": [
    {
     "data": {
      "image/png": "[encoded data removed]",
      "text/plain": [
       "<Figure size 432x288 with 1 Axes>"
      ]
     },
     "metadata": {
      "needs_background": "light"
     },
     "output_type": "display_data"
    }
   ],
   "source": [
    "# boxplot showing roi\n",
    "boxplot = movies_trimmed.boxplot(column=['roi'])"
   ]
  },
  {
   "cell_type": "code",
   "execution_count": 38,
   "metadata": {},
   "outputs": [
    {
     "name": "stderr",
     "output_type": "stream",
     "text": [
      "c:\\users\\kspanos\\appdata\\local\\programs\\python\\python37\\lib\\site-packages\\numpy\\core\\_asarray.py:83: VisibleDeprecationWarning: Creating an ndarray from ragged nested sequences (which is a list-or-tuple of lists-or-tuples-or ndarrays with different lengths or shapes) is deprecated. If you meant to do this, you must specify 'dtype=object' when creating the ndarray\n",
      "  return array(a, dtype, copy=False, order=order)\n"
     ]
    },
    {
     "data": {
      "image/png": "[encoded data removed]",
      "text/plain": [
       "<Figure size 432x288 with 1 Axes>"
      ]
     },
     "metadata": {
      "needs_background": "light"
     },
     "output_type": "display_data"
    }
   ],
   "source": [
    "# boxplot showing financial variables\n",
    "boxplot = movies_trimmed.boxplot(column=['gross_millions','budget_millions','profit_millions'])"
   ]
  },
  {
   "cell_type": "code",
   "execution_count": 39,
   "metadata": {},
   "outputs": [],
   "source": [
    "mean_profit = movies['profit_millions'].mean()\n",
    "mean_gross = movies['gross_millions'].mean()"
   ]
  },
  {
   "cell_type": "markdown",
   "metadata": {},
   "source": [
    "### Explore Categorical Variables"
   ]
  },
  {
   "cell_type": "code",
   "execution_count": 40,
   "metadata": {},
   "outputs": [
    {
     "data": {
      "text/plain": [
       "Steven Spielberg        15\n",
       "Woody Allen             15\n",
       "Clint Eastwood          14\n",
       "Steven Soderbergh       13\n",
       "Ridley Scott            12\n",
       "                        ..\n",
       "Marc Levin               1\n",
       "Michael Landon Jr.       1\n",
       "Robert Fontaine          1\n",
       "Eric Nicholas            1\n",
       "Michael Patrick King     1\n",
       "Name: director_name, Length: 1906, dtype: int64"
      ]
     },
     "execution_count": 40,
     "metadata": {},
     "output_type": "execute_result"
    }
   ],
   "source": [
    "movies['director_name'].value_counts()"
   ]
  },
  {
   "cell_type": "code",
   "execution_count": 41,
   "metadata": {},
   "outputs": [
    {
     "data": {
      "text/plain": [
       "Robert De Niro     33\n",
       "Matt Damon         28\n",
       "J.K. Simmons       27\n",
       "Nicolas Cage       27\n",
       "Johnny Depp        25\n",
       "                   ..\n",
       "Richard Moll        1\n",
       "Fann Wong           1\n",
       "Danny Strong        1\n",
       "Vanessa Lengies     1\n",
       "Austin Nichols      1\n",
       "Name: actor_1_name, Length: 1500, dtype: int64"
      ]
     },
     "execution_count": 41,
     "metadata": {},
     "output_type": "execute_result"
    }
   ],
   "source": [
    "movies['actor_1_name'].value_counts()"
   ]
  },
  {
   "cell_type": "code",
   "execution_count": 42,
   "metadata": {},
   "outputs": [
    {
     "data": {
      "text/plain": [
       "Morgan Freeman       13\n",
       "Charlize Theron      13\n",
       "Brad Pitt            10\n",
       "Adam Sandler         10\n",
       "James Franco          9\n",
       "                     ..\n",
       "Tim Daly              1\n",
       "Aaron Kwok            1\n",
       "Brit Morgan           1\n",
       "Ari Gold              1\n",
       "Dennis L.A. White     1\n",
       "Name: actor_2_name, Length: 2227, dtype: int64"
      ]
     },
     "execution_count": 42,
     "metadata": {},
     "output_type": "execute_result"
    }
   ],
   "source": [
    "movies['actor_2_name'].value_counts()"
   ]
  },
  {
   "cell_type": "code",
   "execution_count": 43,
   "metadata": {},
   "outputs": [
    {
     "data": {
      "text/plain": [
       "Steve Coogan        8\n",
       "Stephen Root        7\n",
       "Bruce McGill        6\n",
       "Steve Carell        6\n",
       "Shawn Hatosy        6\n",
       "                   ..\n",
       "Richard E. Grant    1\n",
       "Nikki Griffin       1\n",
       "Samuel Roukin       1\n",
       "Desmond Llewelyn    1\n",
       "Austin Nichols      1\n",
       "Name: actor_3_name, Length: 2615, dtype: int64"
      ]
     },
     "execution_count": 43,
     "metadata": {},
     "output_type": "execute_result"
    }
   ],
   "source": [
    "movies['actor_3_name'].value_counts()"
   ]
  },
  {
   "cell_type": "code",
   "execution_count": 44,
   "metadata": {},
   "outputs": [
    {
     "data": {
      "text/plain": [
       "based on novel                                                                 3\n",
       "one word title                                                                 3\n",
       "after dark horrorfest                                                          2\n",
       "two word title                                                                 2\n",
       "avatar|college|death|tron|university                                           1\n",
       "                                                                              ..\n",
       "college|drugs|patient|psychologist|secret                                      1\n",
       "blood splatter|detention|high school|overalls|reference to c. thomas howell    1\n",
       "birthday|falling through a glass roof|game|hitchcockian|suicide                1\n",
       "50s|film within a film|hollywood|illegitimate pregnancy|twins                  1\n",
       "flood|mammoth|no opening credits|squirrel|valley                               1\n",
       "Name: plot_keywords, Length: 3514, dtype: int64"
      ]
     },
     "execution_count": 44,
     "metadata": {},
     "output_type": "execute_result"
    }
   ],
   "source": [
    "movies['plot_keywords'].value_counts()\n",
    "\n",
    "# plot keywords will be more effectively analyzed by separating the keywords"
   ]
  },
  {
   "cell_type": "code",
   "execution_count": 45,
   "metadata": {},
   "outputs": [
    {
     "data": {
      "text/plain": [
       "USA               2907\n",
       "UK                 317\n",
       "Canada              99\n",
       "France              78\n",
       "Germany             75\n",
       "Australia           37\n",
       "Spain               20\n",
       "Ireland             12\n",
       "New Zealand         10\n",
       "South Africa         7\n",
       "Italy                6\n",
       "Denmark              6\n",
       "South Korea          5\n",
       "India                5\n",
       "Hong Kong            5\n",
       "China                4\n",
       "Mexico               3\n",
       "Japan                3\n",
       "Belgium              2\n",
       "Norway               2\n",
       "Czech Republic       2\n",
       "Romania              2\n",
       "Thailand             2\n",
       "New Line             1\n",
       "Bahamas              1\n",
       "Aruba                1\n",
       "Philippines          1\n",
       "Russia               1\n",
       "Greece               1\n",
       "Official site        1\n",
       "Iceland              1\n",
       "Hungary              1\n",
       "Switzerland          1\n",
       "Nigeria              1\n",
       "Georgia              1\n",
       "Slovakia             1\n",
       "Cameroon             1\n",
       "Bulgaria             1\n",
       "Chile                1\n",
       "Brazil               1\n",
       "Poland               1\n",
       "Kyrgyzstan           1\n",
       "Panama               1\n",
       "Cambodia             1\n",
       "Name: country, dtype: int64"
      ]
     },
     "execution_count": 45,
     "metadata": {},
     "output_type": "execute_result"
    }
   ],
   "source": [
    "movies['country'].value_counts()"
   ]
  },
  {
   "cell_type": "code",
   "execution_count": 46,
   "metadata": {},
   "outputs": [
    {
     "data": {
      "text/plain": [
       "R            1598\n",
       "PG-13        1223\n",
       "PG            467\n",
       "G              74\n",
       "Not Rated      64\n",
       "Unrated        26\n",
       "NC-17           4\n",
       "TV-PG           3\n",
       "TV-G            3\n",
       "TV-14           2\n",
       "Name: content_rating, dtype: int64"
      ]
     },
     "execution_count": 46,
     "metadata": {},
     "output_type": "execute_result"
    }
   ],
   "source": [
    "movies['content_rating'].value_counts()"
   ]
  },
  {
   "cell_type": "code",
   "execution_count": 47,
   "metadata": {},
   "outputs": [
    {
     "data": {
      "text/plain": [
       "0               CCH Pounder-Joel David Moore-Wes Studi\n",
       "1             Johnny Depp-Orlando Bloom-Jack Davenport\n",
       "2        Christoph Waltz-Rory Kinnear-Stephanie Sigman\n",
       "3        Tom Hardy-Christian Bale-Joseph Gordon-Levitt\n",
       "4            Daryl Sabara-Samantha Morton-Polly Walker\n",
       "                             ...                      \n",
       "3626    Kerry Bishé-Caitlin FitzGerald-Daniella Pineda\n",
       "3627            Eric Mabius-Daphne Zuniga-Crystal Lowe\n",
       "3628          Eva Boehnke-Maxwell Moody-David Chandler\n",
       "3629               Alan Ruck-Daniel Henney-Eliza Coupe\n",
       "3630             John August-Brian Herzlinger-Jon Gunn\n",
       "Name: key_actors, Length: 3631, dtype: object"
      ]
     },
     "execution_count": 47,
     "metadata": {},
     "output_type": "execute_result"
    }
   ],
   "source": [
    "movies['key_actors'] = movies['actor_1_name'].map(str) + '-' + movies['actor_2_name'].map(str) + '-' + movies['actor_3_name'].map(str)\n",
    "movies['key_actors']"
   ]
  },
  {
   "cell_type": "markdown",
   "metadata": {},
   "source": [
    "### Explore Relationships in the Data"
   ]
  },
  {
   "cell_type": "markdown",
   "metadata": {},
   "source": [
    "**Variables that are moderately correlated (correlation > 0.4) with gross revenue:** num_critic_reviews, num_users_voted, num_user_reviews, budget, profit_millions, roi, profit_margin \n",
    "<br><br>\n",
    "**Variables that are moderately correlated (correlation > 0.4) with profit:** gross_millions, num_users_voted, roi, profit_margin\n",
    "<br><br>\n",
    "**Variables that are moderately correlated (correlation > 0.4) with profit margin:** gross_millions, roi, profit_margin\n",
    "<br><br>\n",
    "**Variables that are moderately correlated (correlation > 0.4) with ROI:** gross_millions, profit_millions, profit_margin"
   ]
  },
  {
   "cell_type": "code",
   "execution_count": 48,
   "metadata": {},
   "outputs": [
    {
     "data": {
      "text/html": [
       "<div>\n",
       "<style scoped>\n",
       "    .dataframe tbody tr th:only-of-type {\n",
       "        vertical-align: middle;\n",
       "    }\n",
       "\n",
       "    .dataframe tbody tr th {\n",
       "        vertical-align: top;\n",
       "    }\n",
       "\n",
       "    .dataframe thead th {\n",
       "        text-align: right;\n",
       "    }\n",
       "</style>\n",
       "<table border=\"1\" class=\"dataframe\">\n",
       "  <thead>\n",
       "    <tr style=\"text-align: right;\">\n",
       "      <th></th>\n",
       "      <th>num_critic_reviews</th>\n",
       "      <th>duration</th>\n",
       "      <th>director_facebook_likes</th>\n",
       "      <th>actor_3_facebook_likes</th>\n",
       "      <th>actor_1_facebook_likes</th>\n",
       "      <th>gross</th>\n",
       "      <th>num_users_voted</th>\n",
       "      <th>cast_total_facebook_likes</th>\n",
       "      <th>num_user_reviews</th>\n",
       "      <th>budget</th>\n",
       "      <th>title_year</th>\n",
       "      <th>actor_2_facebook_likes</th>\n",
       "      <th>movie_score</th>\n",
       "      <th>aspect_ratio</th>\n",
       "      <th>movie_facebook_likes</th>\n",
       "      <th>budget_millions</th>\n",
       "      <th>gross_millions</th>\n",
       "      <th>profit_millions</th>\n",
       "      <th>roi</th>\n",
       "      <th>profit_margin</th>\n",
       "    </tr>\n",
       "  </thead>\n",
       "  <tbody>\n",
       "    <tr>\n",
       "      <th>num_critic_reviews</th>\n",
       "      <td>1.000000</td>\n",
       "      <td>0.394289</td>\n",
       "      <td>0.301181</td>\n",
       "      <td>0.268481</td>\n",
       "      <td>0.354494</td>\n",
       "      <td>0.488449</td>\n",
       "      <td>0.767494</td>\n",
       "      <td>0.370048</td>\n",
       "      <td>0.701138</td>\n",
       "      <td>0.454179</td>\n",
       "      <td>0.315778</td>\n",
       "      <td>0.318822</td>\n",
       "      <td>0.427926</td>\n",
       "      <td>0.224160</td>\n",
       "      <td>0.658916</td>\n",
       "      <td>0.454179</td>\n",
       "      <td>0.488449</td>\n",
       "      <td>0.243002</td>\n",
       "      <td>0.214949</td>\n",
       "      <td>0.295355</td>\n",
       "    </tr>\n",
       "    <tr>\n",
       "      <th>duration</th>\n",
       "      <td>0.394289</td>\n",
       "      <td>1.000000</td>\n",
       "      <td>0.297912</td>\n",
       "      <td>0.228265</td>\n",
       "      <td>0.283452</td>\n",
       "      <td>0.300564</td>\n",
       "      <td>0.439145</td>\n",
       "      <td>0.296022</td>\n",
       "      <td>0.461759</td>\n",
       "      <td>0.399573</td>\n",
       "      <td>-0.047786</td>\n",
       "      <td>0.256024</td>\n",
       "      <td>0.378546</td>\n",
       "      <td>0.265530</td>\n",
       "      <td>0.275274</td>\n",
       "      <td>0.399573</td>\n",
       "      <td>0.300564</td>\n",
       "      <td>0.038622</td>\n",
       "      <td>-0.029660</td>\n",
       "      <td>0.052817</td>\n",
       "    </tr>\n",
       "    <tr>\n",
       "      <th>director_facebook_likes</th>\n",
       "      <td>0.301181</td>\n",
       "      <td>0.297912</td>\n",
       "      <td>1.000000</td>\n",
       "      <td>0.125384</td>\n",
       "      <td>0.199145</td>\n",
       "      <td>0.174941</td>\n",
       "      <td>0.312317</td>\n",
       "      <td>0.199772</td>\n",
       "      <td>0.302551</td>\n",
       "      <td>0.229678</td>\n",
       "      <td>-0.033751</td>\n",
       "      <td>0.155277</td>\n",
       "      <td>0.222228</td>\n",
       "      <td>0.106776</td>\n",
       "      <td>0.189447</td>\n",
       "      <td>0.229678</td>\n",
       "      <td>0.174941</td>\n",
       "      <td>0.025408</td>\n",
       "      <td>0.022295</td>\n",
       "      <td>0.067312</td>\n",
       "    </tr>\n",
       "    <tr>\n",
       "      <th>actor_3_facebook_likes</th>\n",
       "      <td>0.268481</td>\n",
       "      <td>0.228265</td>\n",
       "      <td>0.125384</td>\n",
       "      <td>1.000000</td>\n",
       "      <td>0.479158</td>\n",
       "      <td>0.322661</td>\n",
       "      <td>0.315646</td>\n",
       "      <td>0.619941</td>\n",
       "      <td>0.272083</td>\n",
       "      <td>0.327581</td>\n",
       "      <td>0.006159</td>\n",
       "      <td>0.786824</td>\n",
       "      <td>0.061721</td>\n",
       "      <td>0.092626</td>\n",
       "      <td>0.185486</td>\n",
       "      <td>0.327581</td>\n",
       "      <td>0.322661</td>\n",
       "      <td>0.142608</td>\n",
       "      <td>0.046355</td>\n",
       "      <td>0.152088</td>\n",
       "    </tr>\n",
       "    <tr>\n",
       "      <th>actor_1_facebook_likes</th>\n",
       "      <td>0.354494</td>\n",
       "      <td>0.283452</td>\n",
       "      <td>0.199145</td>\n",
       "      <td>0.479158</td>\n",
       "      <td>1.000000</td>\n",
       "      <td>0.250702</td>\n",
       "      <td>0.401760</td>\n",
       "      <td>0.957450</td>\n",
       "      <td>0.313532</td>\n",
       "      <td>0.311591</td>\n",
       "      <td>0.048491</td>\n",
       "      <td>0.591973</td>\n",
       "      <td>0.221685</td>\n",
       "      <td>0.155500</td>\n",
       "      <td>0.259046</td>\n",
       "      <td>0.311591</td>\n",
       "      <td>0.250702</td>\n",
       "      <td>0.056227</td>\n",
       "      <td>0.009701</td>\n",
       "      <td>0.092336</td>\n",
       "    </tr>\n",
       "    <tr>\n",
       "      <th>gross</th>\n",
       "      <td>0.488449</td>\n",
       "      <td>0.300564</td>\n",
       "      <td>0.174941</td>\n",
       "      <td>0.322661</td>\n",
       "      <td>0.250702</td>\n",
       "      <td>1.000000</td>\n",
       "      <td>0.690126</td>\n",
       "      <td>0.290694</td>\n",
       "      <td>0.573019</td>\n",
       "      <td>0.700651</td>\n",
       "      <td>0.080818</td>\n",
       "      <td>0.329247</td>\n",
       "      <td>0.192612</td>\n",
       "      <td>0.126180</td>\n",
       "      <td>0.298114</td>\n",
       "      <td>0.700651</td>\n",
       "      <td>1.000000</td>\n",
       "      <td>0.640619</td>\n",
       "      <td>0.427922</td>\n",
       "      <td>0.527961</td>\n",
       "    </tr>\n",
       "    <tr>\n",
       "      <th>num_users_voted</th>\n",
       "      <td>0.767494</td>\n",
       "      <td>0.439145</td>\n",
       "      <td>0.312317</td>\n",
       "      <td>0.315646</td>\n",
       "      <td>0.401760</td>\n",
       "      <td>0.690126</td>\n",
       "      <td>1.000000</td>\n",
       "      <td>0.419525</td>\n",
       "      <td>0.841718</td>\n",
       "      <td>0.552155</td>\n",
       "      <td>0.020237</td>\n",
       "      <td>0.367225</td>\n",
       "      <td>0.477585</td>\n",
       "      <td>0.175432</td>\n",
       "      <td>0.535428</td>\n",
       "      <td>0.552155</td>\n",
       "      <td>0.690126</td>\n",
       "      <td>0.415107</td>\n",
       "      <td>0.303764</td>\n",
       "      <td>0.390671</td>\n",
       "    </tr>\n",
       "    <tr>\n",
       "      <th>cast_total_facebook_likes</th>\n",
       "      <td>0.370048</td>\n",
       "      <td>0.296022</td>\n",
       "      <td>0.199772</td>\n",
       "      <td>0.619941</td>\n",
       "      <td>0.957450</td>\n",
       "      <td>0.290694</td>\n",
       "      <td>0.419525</td>\n",
       "      <td>1.000000</td>\n",
       "      <td>0.329231</td>\n",
       "      <td>0.343167</td>\n",
       "      <td>0.054140</td>\n",
       "      <td>0.735610</td>\n",
       "      <td>0.207834</td>\n",
       "      <td>0.152439</td>\n",
       "      <td>0.274626</td>\n",
       "      <td>0.343167</td>\n",
       "      <td>0.290695</td>\n",
       "      <td>0.082020</td>\n",
       "      <td>0.020069</td>\n",
       "      <td>0.110551</td>\n",
       "    </tr>\n",
       "    <tr>\n",
       "      <th>num_user_reviews</th>\n",
       "      <td>0.701138</td>\n",
       "      <td>0.461759</td>\n",
       "      <td>0.302551</td>\n",
       "      <td>0.272083</td>\n",
       "      <td>0.313532</td>\n",
       "      <td>0.573019</td>\n",
       "      <td>0.841718</td>\n",
       "      <td>0.329231</td>\n",
       "      <td>1.000000</td>\n",
       "      <td>0.495204</td>\n",
       "      <td>-0.140842</td>\n",
       "      <td>0.299983</td>\n",
       "      <td>0.384821</td>\n",
       "      <td>0.159724</td>\n",
       "      <td>0.387019</td>\n",
       "      <td>0.495204</td>\n",
       "      <td>0.573019</td>\n",
       "      <td>0.313815</td>\n",
       "      <td>0.268043</td>\n",
       "      <td>0.355777</td>\n",
       "    </tr>\n",
       "    <tr>\n",
       "      <th>budget</th>\n",
       "      <td>0.454179</td>\n",
       "      <td>0.399573</td>\n",
       "      <td>0.229678</td>\n",
       "      <td>0.327581</td>\n",
       "      <td>0.311591</td>\n",
       "      <td>0.700651</td>\n",
       "      <td>0.552155</td>\n",
       "      <td>0.343167</td>\n",
       "      <td>0.495204</td>\n",
       "      <td>1.000000</td>\n",
       "      <td>-0.016055</td>\n",
       "      <td>0.356489</td>\n",
       "      <td>0.127242</td>\n",
       "      <td>0.215136</td>\n",
       "      <td>0.242201</td>\n",
       "      <td>1.000000</td>\n",
       "      <td>0.700651</td>\n",
       "      <td>-0.039952</td>\n",
       "      <td>-0.138542</td>\n",
       "      <td>0.122853</td>\n",
       "    </tr>\n",
       "    <tr>\n",
       "      <th>title_year</th>\n",
       "      <td>0.315778</td>\n",
       "      <td>-0.047786</td>\n",
       "      <td>-0.033751</td>\n",
       "      <td>0.006159</td>\n",
       "      <td>0.048491</td>\n",
       "      <td>0.080818</td>\n",
       "      <td>0.020237</td>\n",
       "      <td>0.054140</td>\n",
       "      <td>-0.140842</td>\n",
       "      <td>-0.016055</td>\n",
       "      <td>1.000000</td>\n",
       "      <td>0.033305</td>\n",
       "      <td>-0.047929</td>\n",
       "      <td>0.221830</td>\n",
       "      <td>0.392450</td>\n",
       "      <td>-0.016055</td>\n",
       "      <td>0.080818</td>\n",
       "      <td>0.040058</td>\n",
       "      <td>0.033550</td>\n",
       "      <td>-0.004944</td>\n",
       "    </tr>\n",
       "    <tr>\n",
       "      <th>actor_2_facebook_likes</th>\n",
       "      <td>0.318822</td>\n",
       "      <td>0.256024</td>\n",
       "      <td>0.155277</td>\n",
       "      <td>0.786824</td>\n",
       "      <td>0.591973</td>\n",
       "      <td>0.329247</td>\n",
       "      <td>0.367225</td>\n",
       "      <td>0.735610</td>\n",
       "      <td>0.299983</td>\n",
       "      <td>0.356489</td>\n",
       "      <td>0.033305</td>\n",
       "      <td>1.000000</td>\n",
       "      <td>0.117004</td>\n",
       "      <td>0.120461</td>\n",
       "      <td>0.229547</td>\n",
       "      <td>0.356489</td>\n",
       "      <td>0.329247</td>\n",
       "      <td>0.118552</td>\n",
       "      <td>0.027363</td>\n",
       "      <td>0.140700</td>\n",
       "    </tr>\n",
       "    <tr>\n",
       "      <th>movie_score</th>\n",
       "      <td>0.427926</td>\n",
       "      <td>0.378546</td>\n",
       "      <td>0.222228</td>\n",
       "      <td>0.061721</td>\n",
       "      <td>0.221685</td>\n",
       "      <td>0.192612</td>\n",
       "      <td>0.477585</td>\n",
       "      <td>0.207834</td>\n",
       "      <td>0.384821</td>\n",
       "      <td>0.127242</td>\n",
       "      <td>-0.047929</td>\n",
       "      <td>0.117004</td>\n",
       "      <td>1.000000</td>\n",
       "      <td>0.071233</td>\n",
       "      <td>0.333489</td>\n",
       "      <td>0.127242</td>\n",
       "      <td>0.192612</td>\n",
       "      <td>0.224044</td>\n",
       "      <td>0.173180</td>\n",
       "      <td>0.149813</td>\n",
       "    </tr>\n",
       "    <tr>\n",
       "      <th>aspect_ratio</th>\n",
       "      <td>0.224160</td>\n",
       "      <td>0.265530</td>\n",
       "      <td>0.106776</td>\n",
       "      <td>0.092626</td>\n",
       "      <td>0.155500</td>\n",
       "      <td>0.126180</td>\n",
       "      <td>0.175432</td>\n",
       "      <td>0.152439</td>\n",
       "      <td>0.159724</td>\n",
       "      <td>0.215136</td>\n",
       "      <td>0.221830</td>\n",
       "      <td>0.120461</td>\n",
       "      <td>0.071233</td>\n",
       "      <td>1.000000</td>\n",
       "      <td>0.155457</td>\n",
       "      <td>0.215136</td>\n",
       "      <td>0.126180</td>\n",
       "      <td>-0.063231</td>\n",
       "      <td>-0.125234</td>\n",
       "      <td>-0.044244</td>\n",
       "    </tr>\n",
       "    <tr>\n",
       "      <th>movie_facebook_likes</th>\n",
       "      <td>0.658916</td>\n",
       "      <td>0.275274</td>\n",
       "      <td>0.189447</td>\n",
       "      <td>0.185486</td>\n",
       "      <td>0.259046</td>\n",
       "      <td>0.298114</td>\n",
       "      <td>0.535428</td>\n",
       "      <td>0.274626</td>\n",
       "      <td>0.387019</td>\n",
       "      <td>0.242201</td>\n",
       "      <td>0.392450</td>\n",
       "      <td>0.229547</td>\n",
       "      <td>0.333489</td>\n",
       "      <td>0.155457</td>\n",
       "      <td>1.000000</td>\n",
       "      <td>0.242201</td>\n",
       "      <td>0.298114</td>\n",
       "      <td>0.175326</td>\n",
       "      <td>0.186329</td>\n",
       "      <td>0.182177</td>\n",
       "    </tr>\n",
       "    <tr>\n",
       "      <th>budget_millions</th>\n",
       "      <td>0.454179</td>\n",
       "      <td>0.399573</td>\n",
       "      <td>0.229678</td>\n",
       "      <td>0.327581</td>\n",
       "      <td>0.311591</td>\n",
       "      <td>0.700651</td>\n",
       "      <td>0.552155</td>\n",
       "      <td>0.343167</td>\n",
       "      <td>0.495204</td>\n",
       "      <td>1.000000</td>\n",
       "      <td>-0.016055</td>\n",
       "      <td>0.356489</td>\n",
       "      <td>0.127242</td>\n",
       "      <td>0.215136</td>\n",
       "      <td>0.242201</td>\n",
       "      <td>1.000000</td>\n",
       "      <td>0.700651</td>\n",
       "      <td>-0.039952</td>\n",
       "      <td>-0.138542</td>\n",
       "      <td>0.122853</td>\n",
       "    </tr>\n",
       "    <tr>\n",
       "      <th>gross_millions</th>\n",
       "      <td>0.488449</td>\n",
       "      <td>0.300564</td>\n",
       "      <td>0.174941</td>\n",
       "      <td>0.322661</td>\n",
       "      <td>0.250702</td>\n",
       "      <td>1.000000</td>\n",
       "      <td>0.690126</td>\n",
       "      <td>0.290695</td>\n",
       "      <td>0.573019</td>\n",
       "      <td>0.700651</td>\n",
       "      <td>0.080818</td>\n",
       "      <td>0.329247</td>\n",
       "      <td>0.192612</td>\n",
       "      <td>0.126180</td>\n",
       "      <td>0.298114</td>\n",
       "      <td>0.700651</td>\n",
       "      <td>1.000000</td>\n",
       "      <td>0.640619</td>\n",
       "      <td>0.427922</td>\n",
       "      <td>0.527961</td>\n",
       "    </tr>\n",
       "    <tr>\n",
       "      <th>profit_millions</th>\n",
       "      <td>0.243002</td>\n",
       "      <td>0.038622</td>\n",
       "      <td>0.025408</td>\n",
       "      <td>0.142608</td>\n",
       "      <td>0.056227</td>\n",
       "      <td>0.640619</td>\n",
       "      <td>0.415107</td>\n",
       "      <td>0.082020</td>\n",
       "      <td>0.313815</td>\n",
       "      <td>-0.039952</td>\n",
       "      <td>0.040058</td>\n",
       "      <td>0.118552</td>\n",
       "      <td>0.224044</td>\n",
       "      <td>-0.063231</td>\n",
       "      <td>0.175326</td>\n",
       "      <td>-0.039952</td>\n",
       "      <td>0.640619</td>\n",
       "      <td>1.000000</td>\n",
       "      <td>0.728296</td>\n",
       "      <td>0.606810</td>\n",
       "    </tr>\n",
       "    <tr>\n",
       "      <th>roi</th>\n",
       "      <td>0.214949</td>\n",
       "      <td>-0.029660</td>\n",
       "      <td>0.022295</td>\n",
       "      <td>0.046355</td>\n",
       "      <td>0.009701</td>\n",
       "      <td>0.427922</td>\n",
       "      <td>0.303764</td>\n",
       "      <td>0.020069</td>\n",
       "      <td>0.268043</td>\n",
       "      <td>-0.138542</td>\n",
       "      <td>0.033550</td>\n",
       "      <td>0.027363</td>\n",
       "      <td>0.173180</td>\n",
       "      <td>-0.125234</td>\n",
       "      <td>0.186329</td>\n",
       "      <td>-0.138542</td>\n",
       "      <td>0.427922</td>\n",
       "      <td>0.728296</td>\n",
       "      <td>1.000000</td>\n",
       "      <td>0.733740</td>\n",
       "    </tr>\n",
       "    <tr>\n",
       "      <th>profit_margin</th>\n",
       "      <td>0.295355</td>\n",
       "      <td>0.052817</td>\n",
       "      <td>0.067312</td>\n",
       "      <td>0.152088</td>\n",
       "      <td>0.092336</td>\n",
       "      <td>0.527961</td>\n",
       "      <td>0.390671</td>\n",
       "      <td>0.110551</td>\n",
       "      <td>0.355777</td>\n",
       "      <td>0.122853</td>\n",
       "      <td>-0.004944</td>\n",
       "      <td>0.140700</td>\n",
       "      <td>0.149813</td>\n",
       "      <td>-0.044244</td>\n",
       "      <td>0.182177</td>\n",
       "      <td>0.122853</td>\n",
       "      <td>0.527961</td>\n",
       "      <td>0.606810</td>\n",
       "      <td>0.733740</td>\n",
       "      <td>1.000000</td>\n",
       "    </tr>\n",
       "  </tbody>\n",
       "</table>\n",
       "</div>"
      ],
      "text/plain": [
       "                           num_critic_reviews  duration  \\\n",
       "num_critic_reviews                   1.000000  0.394289   \n",
       "duration                             0.394289  1.000000   \n",
       "director_facebook_likes              0.301181  0.297912   \n",
       "actor_3_facebook_likes               0.268481  0.228265   \n",
       "actor_1_facebook_likes               0.354494  0.283452   \n",
       "gross                                0.488449  0.300564   \n",
       "num_users_voted                      0.767494  0.439145   \n",
       "cast_total_facebook_likes            0.370048  0.296022   \n",
       "num_user_reviews                     0.701138  0.461759   \n",
       "budget                               0.454179  0.399573   \n",
       "title_year                           0.315778 -0.047786   \n",
       "actor_2_facebook_likes               0.318822  0.256024   \n",
       "movie_score                          0.427926  0.378546   \n",
       "aspect_ratio                         0.224160  0.265530   \n",
       "movie_facebook_likes                 0.658916  0.275274   \n",
       "budget_millions                      0.454179  0.399573   \n",
       "gross_millions                       0.488449  0.300564   \n",
       "profit_millions                      0.243002  0.038622   \n",
       "roi                                  0.214949 -0.029660   \n",
       "profit_margin                        0.295355  0.052817   \n",
       "\n",
       "                           director_facebook_likes  actor_3_facebook_likes  \\\n",
       "num_critic_reviews                        0.301181                0.268481   \n",
       "duration                                  0.297912                0.228265   \n",
       "director_facebook_likes                   1.000000                0.125384   \n",
       "actor_3_facebook_likes                    0.125384                1.000000   \n",
       "actor_1_facebook_likes                    0.199145                0.479158   \n",
       "gross                                     0.174941                0.322661   \n",
       "num_users_voted                           0.312317                0.315646   \n",
       "cast_total_facebook_likes                 0.199772                0.619941   \n",
       "num_user_reviews                          0.302551                0.272083   \n",
       "budget                                    0.229678                0.327581   \n",
       "title_year                               -0.033751                0.006159   \n",
       "actor_2_facebook_likes                    0.155277                0.786824   \n",
       "movie_score                               0.222228                0.061721   \n",
       "aspect_ratio                              0.106776                0.092626   \n",
       "movie_facebook_likes                      0.189447                0.185486   \n",
       "budget_millions                           0.229678                0.327581   \n",
       "gross_millions                            0.174941                0.322661   \n",
       "profit_millions                           0.025408                0.142608   \n",
       "roi                                       0.022295                0.046355   \n",
       "profit_margin                             0.067312                0.152088   \n",
       "\n",
       "                           actor_1_facebook_likes     gross  num_users_voted  \\\n",
       "num_critic_reviews                       0.354494  0.488449         0.767494   \n",
       "duration                                 0.283452  0.300564         0.439145   \n",
       "director_facebook_likes                  0.199145  0.174941         0.312317   \n",
       "actor_3_facebook_likes                   0.479158  0.322661         0.315646   \n",
       "actor_1_facebook_likes                   1.000000  0.250702         0.401760   \n",
       "gross                                    0.250702  1.000000         0.690126   \n",
       "num_users_voted                          0.401760  0.690126         1.000000   \n",
       "cast_total_facebook_likes                0.957450  0.290694         0.419525   \n",
       "num_user_reviews                         0.313532  0.573019         0.841718   \n",
       "budget                                   0.311591  0.700651         0.552155   \n",
       "title_year                               0.048491  0.080818         0.020237   \n",
       "actor_2_facebook_likes                   0.591973  0.329247         0.367225   \n",
       "movie_score                              0.221685  0.192612         0.477585   \n",
       "aspect_ratio                             0.155500  0.126180         0.175432   \n",
       "movie_facebook_likes                     0.259046  0.298114         0.535428   \n",
       "budget_millions                          0.311591  0.700651         0.552155   \n",
       "gross_millions                           0.250702  1.000000         0.690126   \n",
       "profit_millions                          0.056227  0.640619         0.415107   \n",
       "roi                                      0.009701  0.427922         0.303764   \n",
       "profit_margin                            0.092336  0.527961         0.390671   \n",
       "\n",
       "                           cast_total_facebook_likes  num_user_reviews  \\\n",
       "num_critic_reviews                          0.370048          0.701138   \n",
       "duration                                    0.296022          0.461759   \n",
       "director_facebook_likes                     0.199772          0.302551   \n",
       "actor_3_facebook_likes                      0.619941          0.272083   \n",
       "actor_1_facebook_likes                      0.957450          0.313532   \n",
       "gross                                       0.290694          0.573019   \n",
       "num_users_voted                             0.419525          0.841718   \n",
       "cast_total_facebook_likes                   1.000000          0.329231   \n",
       "num_user_reviews                            0.329231          1.000000   \n",
       "budget                                      0.343167          0.495204   \n",
       "title_year                                  0.054140         -0.140842   \n",
       "actor_2_facebook_likes                      0.735610          0.299983   \n",
       "movie_score                                 0.207834          0.384821   \n",
       "aspect_ratio                                0.152439          0.159724   \n",
       "movie_facebook_likes                        0.274626          0.387019   \n",
       "budget_millions                             0.343167          0.495204   \n",
       "gross_millions                              0.290695          0.573019   \n",
       "profit_millions                             0.082020          0.313815   \n",
       "roi                                         0.020069          0.268043   \n",
       "profit_margin                               0.110551          0.355777   \n",
       "\n",
       "                             budget  title_year  actor_2_facebook_likes  \\\n",
       "num_critic_reviews         0.454179    0.315778                0.318822   \n",
       "duration                   0.399573   -0.047786                0.256024   \n",
       "director_facebook_likes    0.229678   -0.033751                0.155277   \n",
       "actor_3_facebook_likes     0.327581    0.006159                0.786824   \n",
       "actor_1_facebook_likes     0.311591    0.048491                0.591973   \n",
       "gross                      0.700651    0.080818                0.329247   \n",
       "num_users_voted            0.552155    0.020237                0.367225   \n",
       "cast_total_facebook_likes  0.343167    0.054140                0.735610   \n",
       "num_user_reviews           0.495204   -0.140842                0.299983   \n",
       "budget                     1.000000   -0.016055                0.356489   \n",
       "title_year                -0.016055    1.000000                0.033305   \n",
       "actor_2_facebook_likes     0.356489    0.033305                1.000000   \n",
       "movie_score                0.127242   -0.047929                0.117004   \n",
       "aspect_ratio               0.215136    0.221830                0.120461   \n",
       "movie_facebook_likes       0.242201    0.392450                0.229547   \n",
       "budget_millions            1.000000   -0.016055                0.356489   \n",
       "gross_millions             0.700651    0.080818                0.329247   \n",
       "profit_millions           -0.039952    0.040058                0.118552   \n",
       "roi                       -0.138542    0.033550                0.027363   \n",
       "profit_margin              0.122853   -0.004944                0.140700   \n",
       "\n",
       "                           movie_score  aspect_ratio  movie_facebook_likes  \\\n",
       "num_critic_reviews            0.427926      0.224160              0.658916   \n",
       "duration                      0.378546      0.265530              0.275274   \n",
       "director_facebook_likes       0.222228      0.106776              0.189447   \n",
       "actor_3_facebook_likes        0.061721      0.092626              0.185486   \n",
       "actor_1_facebook_likes        0.221685      0.155500              0.259046   \n",
       "gross                         0.192612      0.126180              0.298114   \n",
       "num_users_voted               0.477585      0.175432              0.535428   \n",
       "cast_total_facebook_likes     0.207834      0.152439              0.274626   \n",
       "num_user_reviews              0.384821      0.159724              0.387019   \n",
       "budget                        0.127242      0.215136              0.242201   \n",
       "title_year                   -0.047929      0.221830              0.392450   \n",
       "actor_2_facebook_likes        0.117004      0.120461              0.229547   \n",
       "movie_score                   1.000000      0.071233              0.333489   \n",
       "aspect_ratio                  0.071233      1.000000              0.155457   \n",
       "movie_facebook_likes          0.333489      0.155457              1.000000   \n",
       "budget_millions               0.127242      0.215136              0.242201   \n",
       "gross_millions                0.192612      0.126180              0.298114   \n",
       "profit_millions               0.224044     -0.063231              0.175326   \n",
       "roi                           0.173180     -0.125234              0.186329   \n",
       "profit_margin                 0.149813     -0.044244              0.182177   \n",
       "\n",
       "                           budget_millions  gross_millions  profit_millions  \\\n",
       "num_critic_reviews                0.454179        0.488449         0.243002   \n",
       "duration                          0.399573        0.300564         0.038622   \n",
       "director_facebook_likes           0.229678        0.174941         0.025408   \n",
       "actor_3_facebook_likes            0.327581        0.322661         0.142608   \n",
       "actor_1_facebook_likes            0.311591        0.250702         0.056227   \n",
       "gross                             0.700651        1.000000         0.640619   \n",
       "num_users_voted                   0.552155        0.690126         0.415107   \n",
       "cast_total_facebook_likes         0.343167        0.290695         0.082020   \n",
       "num_user_reviews                  0.495204        0.573019         0.313815   \n",
       "budget                            1.000000        0.700651        -0.039952   \n",
       "title_year                       -0.016055        0.080818         0.040058   \n",
       "actor_2_facebook_likes            0.356489        0.329247         0.118552   \n",
       "movie_score                       0.127242        0.192612         0.224044   \n",
       "aspect_ratio                      0.215136        0.126180        -0.063231   \n",
       "movie_facebook_likes              0.242201        0.298114         0.175326   \n",
       "budget_millions                   1.000000        0.700651        -0.039952   \n",
       "gross_millions                    0.700651        1.000000         0.640619   \n",
       "profit_millions                  -0.039952        0.640619         1.000000   \n",
       "roi                              -0.138542        0.427922         0.728296   \n",
       "profit_margin                     0.122853        0.527961         0.606810   \n",
       "\n",
       "                                roi  profit_margin  \n",
       "num_critic_reviews         0.214949       0.295355  \n",
       "duration                  -0.029660       0.052817  \n",
       "director_facebook_likes    0.022295       0.067312  \n",
       "actor_3_facebook_likes     0.046355       0.152088  \n",
       "actor_1_facebook_likes     0.009701       0.092336  \n",
       "gross                      0.427922       0.527961  \n",
       "num_users_voted            0.303764       0.390671  \n",
       "cast_total_facebook_likes  0.020069       0.110551  \n",
       "num_user_reviews           0.268043       0.355777  \n",
       "budget                    -0.138542       0.122853  \n",
       "title_year                 0.033550      -0.004944  \n",
       "actor_2_facebook_likes     0.027363       0.140700  \n",
       "movie_score                0.173180       0.149813  \n",
       "aspect_ratio              -0.125234      -0.044244  \n",
       "movie_facebook_likes       0.186329       0.182177  \n",
       "budget_millions           -0.138542       0.122853  \n",
       "gross_millions             0.427922       0.527961  \n",
       "profit_millions            0.728296       0.606810  \n",
       "roi                        1.000000       0.733740  \n",
       "profit_margin              0.733740       1.000000  "
      ]
     },
     "execution_count": 48,
     "metadata": {},
     "output_type": "execute_result"
    }
   ],
   "source": [
    "corr_matrix_trimmed = movies_trimmed.corr()\n",
    "corr_matrix_trimmed.to_csv('corr_matrix_trimmed.csv')\n",
    "\n",
    "corr_matrix_trimmed"
   ]
  },
  {
   "cell_type": "markdown",
   "metadata": {},
   "source": [
    "## Actor Analysis\n",
    "<br>\n",
    "Do certain actors tend to make more successful movies?"
   ]
  },
  {
   "cell_type": "code",
   "execution_count": 57,
   "metadata": {},
   "outputs": [],
   "source": [
    "# concatenate actor1, actor2, and actor3 columns to create df with all actors\n",
    "actor1_names = movies[['actor_1_name']]\n",
    "actor1_names = actor1_names.rename(columns={\"actor_1_name\": \"names\"})\n",
    "\n",
    "actor2_names = movies[['actor_2_name']]\n",
    "actor2_names = actor2_names.rename(columns={\"actor_2_name\": \"names\"})\n",
    "\n",
    "actor3_names = movies[['actor_3_name']]\n",
    "actor3_names = actor3_names.rename(columns={\"actor_3_name\": \"names\"})\n",
    "\n",
    "actor_names = pd.concat([actor1_names, actor2_names, actor3_names])\n",
    "\n",
    "# calculate number of movies per actor\n",
    "actor_counts = actor_names['names'].value_counts()\n",
    "\n",
    "# create a list that contains all actors who have appeared in at least 4 movies\n",
    "actor_counts_lst = actor_counts[actor_counts >= 4].index.tolist()\n",
    "\n",
    "# concatenate actor2, and actor3 columns to create df with all supporting actors\n",
    "actor_supporting_names = pd.concat([actor2_names, actor3_names])\n",
    "\n",
    "# calculate number of movies per actor\n",
    "actor_supporting_counts = actor_supporting_names['names'].value_counts()\n",
    "\n",
    "# create a list that contains all actors who have appeared in at least 4 movies\n",
    "actor_supporting_lst = actor_supporting_counts[actor_supporting_counts >= 4].index.tolist()"
   ]
  },
  {
   "cell_type": "markdown",
   "metadata": {},
   "source": [
    "### Profit per actor, as a percentage of average profit\n",
    "Calculating profit per actor, as a percentage of average profit normalizes the profit metric and allows for analysis of how each actor's average profit compares to the overall average. A number greater than 1 is above average; a number less than 1 is below average.\n",
    "<br>\n",
    "<br>\n",
    "**Method**: (1) filter df to show only actors who have appeared in at least 4 movies; (2) calculate average profit per actor; (3) divide average profit per actor by overall average profit for all movies.\n",
    "<br>\n",
    "<br>\n",
    "**Result**: There are 48 main actors (actor1) and 205 supporting actors (actor2 or actor3) with an average profit, as a pct. of overall average greater than 2 - indicating that the movies these actors appear in have an average profit that is at least 100% above the overall average (a value of 1 is an average value). The actors that appear on these list have a track record of appearing in movies with above-average profit, and should be hired on future movies."
   ]
  },
  {
   "cell_type": "markdown",
   "metadata": {},
   "source": [
    "#### Lead Actor"
   ]
  },
  {
   "cell_type": "code",
   "execution_count": 58,
   "metadata": {},
   "outputs": [
    {
     "data": {
      "text/plain": [
       "actor_1_name       48\n",
       "profit_millions    48\n",
       "profit_pct_mean    48\n",
       "dtype: int64"
      ]
     },
     "execution_count": 58,
     "metadata": {},
     "output_type": "execute_result"
    }
   ],
   "source": [
    "# actor1 - actors who have been the lead actor in at least 4 movies\n",
    "# calculate number of movies per actor\n",
    "actor1_counts = movies['actor_1_name'].value_counts()\n",
    "\n",
    "# create a list that contains all actors who have appeared in at least 4 movies\n",
    "actor1_list = actor1_counts[actor1_counts >= 4].index.tolist()\n",
    "\n",
    "# filter movies df to show only actors who have appeared in at least 4 movies\n",
    "actors1 = movies[movies['actor_1_name'].isin(actor1_list)]\n",
    "\n",
    "# groupby actor; calculate average profit per actor\n",
    "actor1_total = actors1.groupby(['actor_1_name'], as_index=False)['profit_millions'].mean().sort_values(by='profit_millions', ascending=False)\n",
    "\n",
    "# calculate difference from mean\n",
    "actor1_total['profit_pct_mean'] = (actor1_total['profit_millions']/ movies['profit_millions'].mean())\n",
    "\n",
    "# filter df to show only actors with a profit_pct_mean greater than 2\n",
    "actor1_profit_pct_mean = actor1_total[actor1_total['profit_pct_mean'] > 2]\n",
    "\n",
    "actor1_profit_count = actor1_profit_pct_mean.count()\n",
    "actor1_profit_count"
   ]
  },
  {
   "cell_type": "markdown",
   "metadata": {},
   "source": [
    "#### Supporting Actors"
   ]
  },
  {
   "cell_type": "code",
   "execution_count": 59,
   "metadata": {},
   "outputs": [],
   "source": [
    "# actor 2\n",
    "# filter movies df to show only actors who have appeared as a supporting actor (either actor2 or actor3) in at least 4 movies\n",
    "actors2 = movies[movies['actor_2_name'].isin(actor_supporting_lst)]\n",
    "\n",
    "# groupby actor; calculate average profit per actor\n",
    "actor2_total = actors2.groupby(['actor_2_name'], as_index=False)['profit_millions'].mean().sort_values(by='profit_millions', ascending=False)\n",
    "\n",
    "# calculate difference from mean\n",
    "actor2_total['profit_pct_mean'] = (actor2_total['profit_millions']/ movies['profit_millions'].mean())\n",
    "\n",
    "# filter df to show only actors with a profit_pct_mean greater than 2\n",
    "actor2_profit_pct_mean = actor2_total[actor2_total['profit_pct_mean'] > 2]\n",
    "\n",
    "actor2_profit_count = actor2_profit_pct_mean.count()"
   ]
  },
  {
   "cell_type": "code",
   "execution_count": 60,
   "metadata": {},
   "outputs": [],
   "source": [
    "# actor3\n",
    "# filter movies df to show only actors who have appeared as a supporting actor (either actor2 or actor3) in at least 4 movies\n",
    "actors3 = movies[movies['actor_3_name'].isin(actor_supporting_lst)]\n",
    "\n",
    "# groupby actor; calculate average profit per actor\n",
    "actor3_total = actors3.groupby(['actor_3_name'], as_index=False)['profit_millions'].mean().sort_values(by='profit_millions', ascending=False)\n",
    "\n",
    "# calculate difference from mean\n",
    "actor3_total['profit_pct_mean'] = (actor3_total['profit_millions']/ movies['profit_millions'].mean())\n",
    "\n",
    "# filter df to show only actors with a profit_pct_mean greater than 2\n",
    "actor3_profit_pct_mean = actor3_total[actor3_total['profit_pct_mean'] > 2]\n",
    "\n",
    "actor3_profit_count = actor3_profit_pct_mean.count()"
   ]
  },
  {
   "cell_type": "code",
   "execution_count": 61,
   "metadata": {},
   "outputs": [
    {
     "data": {
      "text/plain": [
       "names    205\n",
       "dtype: int64"
      ]
     },
     "execution_count": 61,
     "metadata": {},
     "output_type": "execute_result"
    }
   ],
   "source": [
    "# concatenate actor2 column from actor2_profit_pct_mean and actor3 column from actor3_profit_pct_mean\n",
    "actor2 = actor2_profit_pct_mean[['actor_2_name']]\n",
    "actor2 = actor2.rename(columns={\"actor_2_name\": \"names\"})\n",
    "\n",
    "actor3 = actor3_profit_pct_mean[['actor_3_name']]\n",
    "actor3 = actor3.rename(columns={\"actor_3_name\": \"names\"})\n",
    "\n",
    "actors_supporting = pd.concat([actor2, actor3])\n",
    "\n",
    "# drop duplicates to arrive at a list of supporting actors with a profit_pct_mean greater than 2\n",
    "actors_supporting = actors_supporting.drop_duplicates()\n",
    "\n",
    "actors_supporting_count = actors_supporting.count()\n",
    "actors_supporting_count"
   ]
  },
  {
   "cell_type": "markdown",
   "metadata": {},
   "source": [
    "### ROI per actor, as a percentage of average ROI\n",
    "Calculating ROI per actor, as a percentage of average ROI normalizes the ROI metric and allows for analysis of how each actor's average ROI compares to the overall average. A number greater than 1 is above average; a number less than 1 is below average.\n",
    "<br>\n",
    "<br>\n",
    "**Method**: (1) filter df to show only actors who have appeared in at least 4 movies; (2) calculate average ROI per actor; (3) divide average ROI per actor by overall average ROI for all actors.\n",
    "<br>\n",
    "<br>\n",
    "**Result**: There are 31 main actors (actor1) and 205 supporting actors (actor2 or actor3) with an average ROI, as a pct. of overall average greater than 1.5 - indicating that the movies these actors act in have an average roi that is at least 50% above the overall average (a value of 1 is an average value). The actors that appear on these list have a track record of appearing in movies with above-average profit, and should be hired on future movies."
   ]
  },
  {
   "cell_type": "markdown",
   "metadata": {},
   "source": [
    "#### Lead Actor"
   ]
  },
  {
   "cell_type": "code",
   "execution_count": 62,
   "metadata": {},
   "outputs": [
    {
     "data": {
      "text/plain": [
       "actor_1_name    31\n",
       "roi             31\n",
       "roi_pct_mean    31\n",
       "dtype: int64"
      ]
     },
     "execution_count": 62,
     "metadata": {},
     "output_type": "execute_result"
    }
   ],
   "source": [
    "# actor1\n",
    "# groupby actor; calculate average roi per actor\n",
    "actor1_roi = actors1.groupby(['actor_1_name'], as_index=False)['roi'].mean().sort_values(by='roi', ascending=False)\n",
    "\n",
    "# calculate difference from mean\n",
    "actor1_roi['roi_pct_mean'] = (actor1_roi['roi']/ movies['roi'].mean())\n",
    "\n",
    "# filter df to show only actors with a profit_pct_mean greater than 1.5\n",
    "actor1_roi_pct_mean = actor1_roi[actor1_roi['roi'] >= 1.5]\n",
    "\n",
    "actor1_roi_count = actor1_roi_pct_mean.count()\n",
    "actor1_roi_count"
   ]
  },
  {
   "cell_type": "markdown",
   "metadata": {},
   "source": [
    "#### Supporting Actors"
   ]
  },
  {
   "cell_type": "code",
   "execution_count": 63,
   "metadata": {},
   "outputs": [],
   "source": [
    "# actor2\n",
    "# groupby actor; calculate average roi per actor\n",
    "actor2_roi = actors2.groupby(['actor_2_name'], as_index=False)['roi'].mean().sort_values(by='roi', ascending=False)\n",
    "\n",
    "# calculate difference from mean\n",
    "actor2_roi['roi_pct_mean'] = (actor2_roi['roi']/movies['roi'].mean())\n",
    "\n",
    "# filter df to show only actors with a profit_pct_mean greater than 1.5\n",
    "actor2_roi_pct_mean = actor2_roi[actor2_roi['roi'] >= 1.5]\n",
    "\n",
    "actor2_roi_count = actor2_roi_pct_mean.count()"
   ]
  },
  {
   "cell_type": "code",
   "execution_count": 64,
   "metadata": {},
   "outputs": [],
   "source": [
    "# actor3\n",
    "# groupby actor; calculate average roi per actor\n",
    "actor3_roi = actors3.groupby(['actor_3_name'], as_index=False)['roi'].mean().sort_values(by='roi', ascending=False)\n",
    "\n",
    "# calculate difference from mean\n",
    "actor3_roi['roi_pct_mean'] = (actor3_roi['roi']/movies['roi'].mean())\n",
    "\n",
    "# filter df to show only actors with a profit_pct_mean greater than 1.5\n",
    "actor3_roi_pct_mean = actor3_roi[actor3_roi['roi'] >= 1.5]\n",
    "\n",
    "actor3_roi_count = actor3_roi_pct_mean.count()"
   ]
  },
  {
   "cell_type": "code",
   "execution_count": 65,
   "metadata": {},
   "outputs": [
    {
     "data": {
      "text/plain": [
       "names    105\n",
       "dtype: int64"
      ]
     },
     "execution_count": 65,
     "metadata": {},
     "output_type": "execute_result"
    }
   ],
   "source": [
    "# concatenate actor2 column from actor2_profit_pct_mean and actor3 column from actor3_profit_pct_mean\n",
    "actor2 = actor2_roi_pct_mean[['actor_2_name']]\n",
    "actor2 = actor2.rename(columns={\"actor_2_name\": \"names\"})\n",
    "\n",
    "actor3 = actor3_roi_pct_mean[['actor_3_name']]\n",
    "actor3 = actor3.rename(columns={\"actor_3_name\": \"names\"})\n",
    "\n",
    "actors_supporting = pd.concat([actor2, actor3])\n",
    "\n",
    "# drop duplicates to arrive at a list of supporting actors with a profit_pct_mean greater than 2\n",
    "actors_supporting = actors_supporting.drop_duplicates()\n",
    "\n",
    "actors_supporting_count = actors_supporting.count()\n",
    "actors_supporting_count"
   ]
  },
  {
   "cell_type": "markdown",
   "metadata": {},
   "source": [
    "## Analyze director success\n",
    "\n",
    "Do certain director's tend to make more successful movies?"
   ]
  },
  {
   "cell_type": "markdown",
   "metadata": {},
   "source": [
    "### Profit per director, as a percentage of average profit\n",
    "Calculating profit per director, as a percentage of average profit normalizes the profit metric and allows for analysis of how each director's average profit compares to the overall average. A number greater than 1 is above average; a number less than 1 is below average.\n",
    "<br>\n",
    "<br>\n",
    "**Method**: (1) filter df to show only directors who have directed at least 5 movies; (2) calculate average profit per director; (3) divide average profit per actor by overall average profit for all directors.\n",
    "<br>\n",
    "<br>\n",
    "**Result**: There are 59 directors with average profit, as a pct. of overall average greater than 2 - indicating that the movies these directors direct have an average profit that is at least 100% above the overall average (a value of 1 is an average value). The actors that appear on these list have a track record of appearing in movies with above-average profit, and should be hired on future movies."
   ]
  },
  {
   "cell_type": "code",
   "execution_count": 66,
   "metadata": {},
   "outputs": [
    {
     "data": {
      "text/plain": [
       "director_name      59\n",
       "profit_millions    59\n",
       "profit_pct_mean    59\n",
       "dtype: int64"
      ]
     },
     "execution_count": 66,
     "metadata": {},
     "output_type": "execute_result"
    }
   ],
   "source": [
    "#calculating profit as a pct. of average profit for directors\n",
    "director_counts = movies['director_name'].value_counts()\n",
    "\n",
    "#creating a list with a condition of having appeared in at least 5 movies\n",
    "director_list = director_counts[director_counts >= 5].index.tolist()\n",
    "\n",
    "#creating a dataframe with actors in 5 or more movies\n",
    "director = movies[movies['director_name'].isin(director_list)]\n",
    "\n",
    "#creating a dataframe with actors and the average profit\n",
    "director_total = director.groupby(['director_name'], as_index=False)['profit_millions'].mean().sort_values (by='profit_millions', ascending=False)\n",
    "\n",
    "#creating the profit_pct_mean value feature\n",
    "director_total['profit_pct_mean'] = (director_total['profit_millions']/ movies['profit_millions'].mean())\n",
    "director_profit_pct_mean = director_total[director_total['profit_pct_mean'] > 2] \n",
    "\n",
    "director_profit_pct_mean_count = director_profit_pct_mean.count()\n",
    "director_profit_pct_mean_count"
   ]
  },
  {
   "cell_type": "markdown",
   "metadata": {},
   "source": [
    "### ROI per director, as a percentage of average ROI\n",
    "Calculating ROI per director, as a percentage of average ROI normalizes the ROI metric and allows for analysis of how each director's average ROI compares to the overall average. A number greater than 1 is above average; a number less than 1 is below average.\n",
    "<br>\n",
    "<br>\n",
    "**Method**: (1) filter df to show only directors who have directed at least 5 movies; (2) calculate average ROI per director; (3) divide average ROI per actor by overall average profit for all directors.\n",
    "<br>\n",
    "<br>\n",
    "**Result**: There are 4 directors with average ROI, as a pct. of overall average greater than 1.5 - indicating that the movies these directors direct have an average ROI that is at least 50% above the overall average (a value of 1 is an average value). The actors that appear on these list have a track record of appearing in movies with above-average ROI, and should be hired on future movies."
   ]
  },
  {
   "cell_type": "code",
   "execution_count": 67,
   "metadata": {},
   "outputs": [
    {
     "data": {
      "text/plain": [
       "director_name    4\n",
       "roi              4\n",
       "roi_pct_mean     4\n",
       "dtype: int64"
      ]
     },
     "execution_count": 67,
     "metadata": {},
     "output_type": "execute_result"
    }
   ],
   "source": [
    "#calculating profit as a pct. of average profit for directors\n",
    "director_counts = movies['director_name'].value_counts()\n",
    "\n",
    "#creating a list with a condition of having appeared in at least 5 movies\n",
    "director_list = director_counts[director_counts >= 5].index.tolist()\n",
    "\n",
    "#creating a dataframe with actors in 5 or more movies\n",
    "director = movies[movies['director_name'].isin(director_list)]\n",
    "\n",
    "#creating a dataframe with actors and the average profit\n",
    "director_total = director.groupby(['director_name'], as_index=False)['roi'].mean().sort_values (by='roi', ascending=False)\n",
    "\n",
    "#creating the profit_pct_mean value feature\n",
    "director_total['roi_pct_mean'] = (director_total['roi']/ movies['roi'].mean())\n",
    "director_roi_pct_mean = director_total[director_total['roi_pct_mean'] > 1.5] \n",
    "\n",
    "director_roi_pct_mean_count = director_roi_pct_mean.count()\n",
    "director_roi_pct_mean_count"
   ]
  },
  {
   "cell_type": "markdown",
   "metadata": {},
   "source": [
    "### Summary outcomes by director\n",
    "\n",
    "**Method**: Analyze summary outcomes by director.\n",
    "<br>\n",
    "<br>\n",
    "**Result**: Several of the top directors by revenue and profit have only directed one or two movies and therefore will not be included in the profit per director analysis. This indicates while the studio should aim to work with high-VAR directors in order to seek out consistent profit, up-and-coming directors should not be ignored. Further analysis is needed to determine determinants of success for up-and-coming directors."
   ]
  },
  {
   "cell_type": "code",
   "execution_count": 68,
   "metadata": {},
   "outputs": [],
   "source": [
    "#group by director; calculate average of relevant variables\n",
    "directors_mean = movies[['director_name','gross_millions','profit_millions','budget_millions','roi','movie_score','director_facebook_likes','movie_facebook_likes']].groupby(['director_name']).mean()"
   ]
  },
  {
   "cell_type": "code",
   "execution_count": 69,
   "metadata": {},
   "outputs": [],
   "source": [
    "#group by director; count number of movies\n",
    "directors_count = movies[['director_name','color']].groupby(['director_name']).count().sort_values(by='color',ascending = False)\n",
    "directors_count = directors_count.rename(columns = {'color': 'num_movies'})"
   ]
  },
  {
   "cell_type": "code",
   "execution_count": 70,
   "metadata": {},
   "outputs": [],
   "source": [
    "# merge director data into one df\n",
    "directors_df_lst = [directors_mean, directors_count]\n",
    "directors_df = reduce(lambda left,right: pd.merge(left,right,on='director_name'), directors_df_lst)\n",
    "directors_df = directors_df.rename(columns = {'gross_millions': 'avg_gross_millions',\n",
    "                                             'budget_millions': 'avg_budget_million',\n",
    "                                              'profit_millions':'avg_profit_millions',\n",
    "                                              'roi':'avg_roi',\n",
    "                                             'movie_score': 'avg_movie_score',\n",
    "                                             'director_facebook_likes':'avg_director_fb_likes',\n",
    "                                             'movie_facebook_likes':'avg_movie_fb_likes'})\n",
    "\n",
    "directors_df['avg_movie_score'] = round(directors_df['avg_movie_score'],2)\n",
    "directors_df['avg_movie_fb_likes'] = round(directors_df['avg_movie_fb_likes'],2)\n",
    "directors_df.to_csv('directors_df.csv')"
   ]
  },
  {
   "cell_type": "code",
   "execution_count": 71,
   "metadata": {},
   "outputs": [
    {
     "data": {
      "text/html": [
       "<div>\n",
       "<style scoped>\n",
       "    .dataframe tbody tr th:only-of-type {\n",
       "        vertical-align: middle;\n",
       "    }\n",
       "\n",
       "    .dataframe tbody tr th {\n",
       "        vertical-align: top;\n",
       "    }\n",
       "\n",
       "    .dataframe thead th {\n",
       "        text-align: right;\n",
       "    }\n",
       "</style>\n",
       "<table border=\"1\" class=\"dataframe\">\n",
       "  <thead>\n",
       "    <tr style=\"text-align: right;\">\n",
       "      <th></th>\n",
       "      <th>avg_gross_millions</th>\n",
       "      <th>avg_profit_millions</th>\n",
       "      <th>avg_budget_million</th>\n",
       "      <th>avg_roi</th>\n",
       "      <th>avg_movie_score</th>\n",
       "      <th>avg_director_fb_likes</th>\n",
       "      <th>avg_movie_fb_likes</th>\n",
       "      <th>num_movies</th>\n",
       "    </tr>\n",
       "    <tr>\n",
       "      <th>director_name</th>\n",
       "      <th></th>\n",
       "      <th></th>\n",
       "      <th></th>\n",
       "      <th></th>\n",
       "      <th></th>\n",
       "      <th></th>\n",
       "      <th></th>\n",
       "      <th></th>\n",
       "    </tr>\n",
       "  </thead>\n",
       "  <tbody>\n",
       "    <tr>\n",
       "      <th>James Cameron</th>\n",
       "      <td>709.58905</td>\n",
       "      <td>491.089050</td>\n",
       "      <td>218.500000</td>\n",
       "      <td>2.251150</td>\n",
       "      <td>7.80</td>\n",
       "      <td>0.0</td>\n",
       "      <td>29500.00</td>\n",
       "      <td>2</td>\n",
       "    </tr>\n",
       "    <tr>\n",
       "      <th>Tim Miller</th>\n",
       "      <td>363.02430</td>\n",
       "      <td>305.024300</td>\n",
       "      <td>58.000000</td>\n",
       "      <td>5.259000</td>\n",
       "      <td>8.10</td>\n",
       "      <td>84.0</td>\n",
       "      <td>117000.00</td>\n",
       "      <td>1</td>\n",
       "    </tr>\n",
       "    <tr>\n",
       "      <th>George Lucas</th>\n",
       "      <td>388.49430</td>\n",
       "      <td>274.160967</td>\n",
       "      <td>114.333333</td>\n",
       "      <td>2.397733</td>\n",
       "      <td>6.93</td>\n",
       "      <td>0.0</td>\n",
       "      <td>7666.67</td>\n",
       "      <td>3</td>\n",
       "    </tr>\n",
       "    <tr>\n",
       "      <th>Kyle Balda</th>\n",
       "      <td>336.02960</td>\n",
       "      <td>262.029600</td>\n",
       "      <td>74.000000</td>\n",
       "      <td>3.540900</td>\n",
       "      <td>6.40</td>\n",
       "      <td>22.0</td>\n",
       "      <td>70000.00</td>\n",
       "      <td>1</td>\n",
       "    </tr>\n",
       "    <tr>\n",
       "      <th>Colin Trevorrow</th>\n",
       "      <td>328.09255</td>\n",
       "      <td>252.717550</td>\n",
       "      <td>75.375000</td>\n",
       "      <td>3.845750</td>\n",
       "      <td>7.00</td>\n",
       "      <td>365.0</td>\n",
       "      <td>90500.00</td>\n",
       "      <td>2</td>\n",
       "    </tr>\n",
       "    <tr>\n",
       "      <th>Chris Buck</th>\n",
       "      <td>400.73660</td>\n",
       "      <td>250.736600</td>\n",
       "      <td>150.000000</td>\n",
       "      <td>1.671600</td>\n",
       "      <td>7.60</td>\n",
       "      <td>69.0</td>\n",
       "      <td>58000.00</td>\n",
       "      <td>1</td>\n",
       "    </tr>\n",
       "    <tr>\n",
       "      <th>Yarrow Cheney</th>\n",
       "      <td>323.50550</td>\n",
       "      <td>248.505500</td>\n",
       "      <td>75.000000</td>\n",
       "      <td>3.313400</td>\n",
       "      <td>6.80</td>\n",
       "      <td>11.0</td>\n",
       "      <td>36000.00</td>\n",
       "      <td>1</td>\n",
       "    </tr>\n",
       "    <tr>\n",
       "      <th>Pierre Coffin</th>\n",
       "      <td>309.77560</td>\n",
       "      <td>237.275600</td>\n",
       "      <td>72.500000</td>\n",
       "      <td>3.243900</td>\n",
       "      <td>7.60</td>\n",
       "      <td>275.0</td>\n",
       "      <td>43500.00</td>\n",
       "      <td>2</td>\n",
       "    </tr>\n",
       "    <tr>\n",
       "      <th>Lee Unkrich</th>\n",
       "      <td>414.98450</td>\n",
       "      <td>214.984500</td>\n",
       "      <td>200.000000</td>\n",
       "      <td>1.074900</td>\n",
       "      <td>8.30</td>\n",
       "      <td>125.0</td>\n",
       "      <td>30000.00</td>\n",
       "      <td>1</td>\n",
       "    </tr>\n",
       "    <tr>\n",
       "      <th>Pete Docter</th>\n",
       "      <td>313.11380</td>\n",
       "      <td>158.113800</td>\n",
       "      <td>155.000000</td>\n",
       "      <td>1.077333</td>\n",
       "      <td>8.23</td>\n",
       "      <td>0.0</td>\n",
       "      <td>48333.33</td>\n",
       "      <td>3</td>\n",
       "    </tr>\n",
       "  </tbody>\n",
       "</table>\n",
       "</div>"
      ],
      "text/plain": [
       "                 avg_gross_millions  avg_profit_millions  avg_budget_million  \\\n",
       "director_name                                                                  \n",
       "James Cameron             709.58905           491.089050          218.500000   \n",
       "Tim Miller                363.02430           305.024300           58.000000   \n",
       "George Lucas              388.49430           274.160967          114.333333   \n",
       "Kyle Balda                336.02960           262.029600           74.000000   \n",
       "Colin Trevorrow           328.09255           252.717550           75.375000   \n",
       "Chris Buck                400.73660           250.736600          150.000000   \n",
       "Yarrow Cheney             323.50550           248.505500           75.000000   \n",
       "Pierre Coffin             309.77560           237.275600           72.500000   \n",
       "Lee Unkrich               414.98450           214.984500          200.000000   \n",
       "Pete Docter               313.11380           158.113800          155.000000   \n",
       "\n",
       "                  avg_roi  avg_movie_score  avg_director_fb_likes  \\\n",
       "director_name                                                       \n",
       "James Cameron    2.251150             7.80                    0.0   \n",
       "Tim Miller       5.259000             8.10                   84.0   \n",
       "George Lucas     2.397733             6.93                    0.0   \n",
       "Kyle Balda       3.540900             6.40                   22.0   \n",
       "Colin Trevorrow  3.845750             7.00                  365.0   \n",
       "Chris Buck       1.671600             7.60                   69.0   \n",
       "Yarrow Cheney    3.313400             6.80                   11.0   \n",
       "Pierre Coffin    3.243900             7.60                  275.0   \n",
       "Lee Unkrich      1.074900             8.30                  125.0   \n",
       "Pete Docter      1.077333             8.23                    0.0   \n",
       "\n",
       "                 avg_movie_fb_likes  num_movies  \n",
       "director_name                                    \n",
       "James Cameron              29500.00           2  \n",
       "Tim Miller                117000.00           1  \n",
       "George Lucas                7666.67           3  \n",
       "Kyle Balda                 70000.00           1  \n",
       "Colin Trevorrow            90500.00           2  \n",
       "Chris Buck                 58000.00           1  \n",
       "Yarrow Cheney              36000.00           1  \n",
       "Pierre Coffin              43500.00           2  \n",
       "Lee Unkrich                30000.00           1  \n",
       "Pete Docter                48333.33           3  "
      ]
     },
     "execution_count": 71,
     "metadata": {},
     "output_type": "execute_result"
    }
   ],
   "source": [
    "# directors with top average movie scores\n",
    "directors_df.sort_values(by = 'avg_profit_millions', ascending = False).head(10)"
   ]
  },
  {
   "cell_type": "code",
   "execution_count": 72,
   "metadata": {},
   "outputs": [
    {
     "data": {
      "text/html": [
       "<div>\n",
       "<style scoped>\n",
       "    .dataframe tbody tr th:only-of-type {\n",
       "        vertical-align: middle;\n",
       "    }\n",
       "\n",
       "    .dataframe tbody tr th {\n",
       "        vertical-align: top;\n",
       "    }\n",
       "\n",
       "    .dataframe thead th {\n",
       "        text-align: right;\n",
       "    }\n",
       "</style>\n",
       "<table border=\"1\" class=\"dataframe\">\n",
       "  <thead>\n",
       "    <tr style=\"text-align: right;\">\n",
       "      <th></th>\n",
       "      <th>avg_gross_millions</th>\n",
       "      <th>avg_profit_millions</th>\n",
       "      <th>avg_budget_million</th>\n",
       "      <th>avg_roi</th>\n",
       "      <th>avg_movie_score</th>\n",
       "      <th>avg_director_fb_likes</th>\n",
       "      <th>avg_movie_fb_likes</th>\n",
       "      <th>num_movies</th>\n",
       "    </tr>\n",
       "    <tr>\n",
       "      <th>director_name</th>\n",
       "      <th></th>\n",
       "      <th></th>\n",
       "      <th></th>\n",
       "      <th></th>\n",
       "      <th></th>\n",
       "      <th></th>\n",
       "      <th></th>\n",
       "      <th></th>\n",
       "    </tr>\n",
       "  </thead>\n",
       "  <tbody>\n",
       "    <tr>\n",
       "      <th>Woody Allen</th>\n",
       "      <td>15.347033</td>\n",
       "      <td>-1.552967</td>\n",
       "      <td>16.900000</td>\n",
       "      <td>0.033160</td>\n",
       "      <td>6.89</td>\n",
       "      <td>11000.0</td>\n",
       "      <td>10658.60</td>\n",
       "      <td>15</td>\n",
       "    </tr>\n",
       "    <tr>\n",
       "      <th>Steven Spielberg</th>\n",
       "      <td>133.659013</td>\n",
       "      <td>45.259013</td>\n",
       "      <td>88.400000</td>\n",
       "      <td>0.661140</td>\n",
       "      <td>7.27</td>\n",
       "      <td>14000.0</td>\n",
       "      <td>19600.00</td>\n",
       "      <td>15</td>\n",
       "    </tr>\n",
       "    <tr>\n",
       "      <th>Clint Eastwood</th>\n",
       "      <td>78.882093</td>\n",
       "      <td>30.896379</td>\n",
       "      <td>47.985714</td>\n",
       "      <td>0.834993</td>\n",
       "      <td>7.14</td>\n",
       "      <td>16000.0</td>\n",
       "      <td>18050.36</td>\n",
       "      <td>14</td>\n",
       "    </tr>\n",
       "    <tr>\n",
       "      <th>Steven Soderbergh</th>\n",
       "      <td>73.975315</td>\n",
       "      <td>29.206085</td>\n",
       "      <td>44.769231</td>\n",
       "      <td>1.462954</td>\n",
       "      <td>6.61</td>\n",
       "      <td>0.0</td>\n",
       "      <td>7510.54</td>\n",
       "      <td>13</td>\n",
       "    </tr>\n",
       "    <tr>\n",
       "      <th>Ridley Scott</th>\n",
       "      <td>88.017692</td>\n",
       "      <td>-2.065642</td>\n",
       "      <td>90.083333</td>\n",
       "      <td>-0.085708</td>\n",
       "      <td>7.06</td>\n",
       "      <td>0.0</td>\n",
       "      <td>27825.92</td>\n",
       "      <td>12</td>\n",
       "    </tr>\n",
       "    <tr>\n",
       "      <th>Robert Rodriguez</th>\n",
       "      <td>51.147064</td>\n",
       "      <td>18.056155</td>\n",
       "      <td>33.090909</td>\n",
       "      <td>0.630409</td>\n",
       "      <td>5.45</td>\n",
       "      <td>0.0</td>\n",
       "      <td>5599.09</td>\n",
       "      <td>11</td>\n",
       "    </tr>\n",
       "    <tr>\n",
       "      <th>Ron Howard</th>\n",
       "      <td>101.910945</td>\n",
       "      <td>18.092764</td>\n",
       "      <td>83.818182</td>\n",
       "      <td>0.152782</td>\n",
       "      <td>6.94</td>\n",
       "      <td>2000.0</td>\n",
       "      <td>12785.55</td>\n",
       "      <td>11</td>\n",
       "    </tr>\n",
       "    <tr>\n",
       "      <th>Bobby Farrelly</th>\n",
       "      <td>62.790950</td>\n",
       "      <td>24.064589</td>\n",
       "      <td>40.777778</td>\n",
       "      <td>1.007767</td>\n",
       "      <td>6.13</td>\n",
       "      <td>101.0</td>\n",
       "      <td>8300.00</td>\n",
       "      <td>10</td>\n",
       "    </tr>\n",
       "    <tr>\n",
       "      <th>Kevin Smith</th>\n",
       "      <td>25.033037</td>\n",
       "      <td>8.001788</td>\n",
       "      <td>14.525000</td>\n",
       "      <td>6.642188</td>\n",
       "      <td>6.38</td>\n",
       "      <td>0.0</td>\n",
       "      <td>4600.00</td>\n",
       "      <td>10</td>\n",
       "    </tr>\n",
       "    <tr>\n",
       "      <th>Michael Bay</th>\n",
       "      <td>209.383740</td>\n",
       "      <td>77.783740</td>\n",
       "      <td>131.600000</td>\n",
       "      <td>0.579520</td>\n",
       "      <td>6.57</td>\n",
       "      <td>0.0</td>\n",
       "      <td>25900.00</td>\n",
       "      <td>10</td>\n",
       "    </tr>\n",
       "  </tbody>\n",
       "</table>\n",
       "</div>"
      ],
      "text/plain": [
       "                   avg_gross_millions  avg_profit_millions  \\\n",
       "director_name                                                \n",
       "Woody Allen                 15.347033            -1.552967   \n",
       "Steven Spielberg           133.659013            45.259013   \n",
       "Clint Eastwood              78.882093            30.896379   \n",
       "Steven Soderbergh           73.975315            29.206085   \n",
       "Ridley Scott                88.017692            -2.065642   \n",
       "Robert Rodriguez            51.147064            18.056155   \n",
       "Ron Howard                 101.910945            18.092764   \n",
       "Bobby Farrelly              62.790950            24.064589   \n",
       "Kevin Smith                 25.033037             8.001788   \n",
       "Michael Bay                209.383740            77.783740   \n",
       "\n",
       "                   avg_budget_million   avg_roi  avg_movie_score  \\\n",
       "director_name                                                      \n",
       "Woody Allen                 16.900000  0.033160             6.89   \n",
       "Steven Spielberg            88.400000  0.661140             7.27   \n",
       "Clint Eastwood              47.985714  0.834993             7.14   \n",
       "Steven Soderbergh           44.769231  1.462954             6.61   \n",
       "Ridley Scott                90.083333 -0.085708             7.06   \n",
       "Robert Rodriguez            33.090909  0.630409             5.45   \n",
       "Ron Howard                  83.818182  0.152782             6.94   \n",
       "Bobby Farrelly              40.777778  1.007767             6.13   \n",
       "Kevin Smith                 14.525000  6.642188             6.38   \n",
       "Michael Bay                131.600000  0.579520             6.57   \n",
       "\n",
       "                   avg_director_fb_likes  avg_movie_fb_likes  num_movies  \n",
       "director_name                                                             \n",
       "Woody Allen                      11000.0            10658.60          15  \n",
       "Steven Spielberg                 14000.0            19600.00          15  \n",
       "Clint Eastwood                   16000.0            18050.36          14  \n",
       "Steven Soderbergh                    0.0             7510.54          13  \n",
       "Ridley Scott                         0.0            27825.92          12  \n",
       "Robert Rodriguez                     0.0             5599.09          11  \n",
       "Ron Howard                        2000.0            12785.55          11  \n",
       "Bobby Farrelly                     101.0             8300.00          10  \n",
       "Kevin Smith                          0.0             4600.00          10  \n",
       "Michael Bay                          0.0            25900.00          10  "
      ]
     },
     "execution_count": 72,
     "metadata": {},
     "output_type": "execute_result"
    }
   ],
   "source": [
    "# directors who directed the largest number of movies\n",
    "directors_df.sort_values(by = 'num_movies', ascending = False).head(10)"
   ]
  },
  {
   "cell_type": "markdown",
   "metadata": {},
   "source": [
    "## Analzye Genre Success\n",
    "\n",
    "**Method**: Analyze summary outcomes by genre. Movies can be classified under more than one genre; for this analysis, any movies that is classified under a genre is included in that genre's analysis. For example - a movie whose genres are \"romance\" and \"comedy\" will be included in the analyses for both genres."
   ]
  },
  {
   "cell_type": "code",
   "execution_count": 73,
   "metadata": {},
   "outputs": [
    {
     "data": {
      "text/plain": [
       "Comedy                                  169\n",
       "Drama                                   164\n",
       "Comedy|Drama                            154\n",
       "Comedy|Drama|Romance                    148\n",
       "Comedy|Romance                          139\n",
       "                                       ... \n",
       "Crime|Documentary|Drama                   1\n",
       "Crime|Romance|Thriller                    1\n",
       "Action|Fantasy|Western                    1\n",
       "Comedy|Family|Music                       1\n",
       "Crime|Drama|Mystery|Thriller|Western      1\n",
       "Name: genres, Length: 731, dtype: int64"
      ]
     },
     "execution_count": 73,
     "metadata": {},
     "output_type": "execute_result"
    }
   ],
   "source": [
    "movies['genres'].value_counts()"
   ]
  },
  {
   "cell_type": "code",
   "execution_count": 74,
   "metadata": {},
   "outputs": [
    {
     "name": "stderr",
     "output_type": "stream",
     "text": [
      "c:\\users\\kspanos\\appdata\\local\\programs\\python\\python37\\lib\\site-packages\\ipykernel_launcher.py:14: SettingWithCopyWarning: \n",
      "A value is trying to be set on a copy of a slice from a DataFrame\n",
      "\n",
      "See the caveats in the documentation: https://pandas.pydata.org/pandas-docs/stable/user_guide/indexing.html#returning-a-view-versus-a-copy\n",
      "  \n",
      "c:\\users\\kspanos\\appdata\\local\\programs\\python\\python37\\lib\\site-packages\\ipykernel_launcher.py:16: SettingWithCopyWarning: \n",
      "A value is trying to be set on a copy of a slice from a DataFrame\n",
      "\n",
      "See the caveats in the documentation: https://pandas.pydata.org/pandas-docs/stable/user_guide/indexing.html#returning-a-view-versus-a-copy\n",
      "  app.launch_new_instance()\n"
     ]
    }
   ],
   "source": [
    "# add binary genre variable to movies df\n",
    "\n",
    "#create list of genres\n",
    "genre_lst = ['Action','Adventure','Animation','Comedy','Crime','Documentary','Drama','Family','Fantasy','Music','Mystery','Thriller','Horror','Romance','Sci-Fi']\n",
    "\n",
    "# create column for each genre in genre_lst\n",
    "for x in genre_lst:\n",
    "    movies['genre_' + x.lower()] = \"\"\n",
    "\n",
    "# populate columns with binary field\n",
    "for x in range(len(movies['genres'])):\n",
    "    for y in genre_lst:\n",
    "        if y in movies['genres'][x]:\n",
    "            movies['genre_' + y.lower()][x] = y.lower()\n",
    "        else:\n",
    "            movies['genre_' + y.lower()][x] = 'not ' + y.lower()"
   ]
  },
  {
   "cell_type": "markdown",
   "metadata": {},
   "source": [
    "### Create df to analyze average outcome by genre"
   ]
  },
  {
   "cell_type": "code",
   "execution_count": 75,
   "metadata": {},
   "outputs": [],
   "source": [
    "genre_avg = pd.DataFrame()\n",
    "for x in genre_lst:\n",
    "    x = movies.groupby(['genre_' + x.lower()]).mean()\n",
    "    x = x.rename_axis('genre', axis= 0)\n",
    "    genre_avg = genre_avg.append(x)\n",
    "\n",
    "genre_avg = genre_avg[genre_avg.index.str.contains(\"not\")==False]"
   ]
  },
  {
   "cell_type": "markdown",
   "metadata": {},
   "source": [
    "#### barplot - average gross by genre"
   ]
  },
  {
   "cell_type": "code",
   "execution_count": 76,
   "metadata": {},
   "outputs": [
    {
     "data": {
      "image/png": "[encoded data removed]",
      "text/plain": [
       "<Figure size 432x288 with 1 Axes>"
      ]
     },
     "metadata": {
      "needs_background": "light"
     },
     "output_type": "display_data"
    }
   ],
   "source": [
    "genre_avg_gross = sns.barplot(x= genre_avg.index, y=\"gross_millions\", data=genre_avg)\n",
    "genre_avg_gross.set_xticklabels(genre_avg_gross.get_xticklabels(),rotation=45)\n",
    "genre_avg_gross.axhline(mean_gross)\n",
    "sns.set(rc={'figure.figsize':(20,20)})\n",
    "sns.set(font_scale=2)\n",
    "\n",
    "#plt.savefig('genre_avg_gross.png')"
   ]
  },
  {
   "cell_type": "markdown",
   "metadata": {},
   "source": [
    "#### barplot - average profit by genre"
   ]
  },
  {
   "cell_type": "code",
   "execution_count": 86,
   "metadata": {},
   "outputs": [
    {
     "data": {
      "text/plain": [
       "<matplotlib.lines.Line2D at 0x1d9359ab988>"
      ]
     },
     "execution_count": 86,
     "metadata": {},
     "output_type": "execute_result"
    },
    {
     "data": {
      "image/png": "[encoded data removed]",
      "text/plain": [
       "<Figure size 1440x1440 with 1 Axes>"
      ]
     },
     "metadata": {},
     "output_type": "display_data"
    }
   ],
   "source": [
    "genre_avg_profit = sns.barplot(x= genre_avg.index, y=\"profit_millions\", data=genre_avg)\n",
    "genre_avg_profit.set_xticklabels(genre_avg_profit.get_xticklabels(),rotation=45)\n",
    "sns.set(rc={'figure.figsize':(20,20)})\n",
    "sns.set(font_scale=2)\n",
    "genre_avg_profit.axhline(mean_profit)\n",
    "\n",
    "#plt.savefig('genre_avg_profit.png')"
   ]
  },
  {
   "cell_type": "markdown",
   "metadata": {},
   "source": [
    "### Create df to analyze total outcome (sum) by genre"
   ]
  },
  {
   "cell_type": "code",
   "execution_count": 87,
   "metadata": {},
   "outputs": [],
   "source": [
    "genre_sum = pd.DataFrame()\n",
    "for x in genre_lst:\n",
    "    x = movies.groupby(['genre_' + x.lower()]).sum()\n",
    "    x = x.rename_axis('genre', axis= 0)\n",
    "    genre_sum = genre_sum.append(x)\n",
    "\n",
    "genre_sum = genre_sum[genre_sum.index.str.contains(\"not\")==False]\n"
   ]
  },
  {
   "cell_type": "markdown",
   "metadata": {},
   "source": [
    "#### barplot - total gross by genre"
   ]
  },
  {
   "cell_type": "code",
   "execution_count": 88,
   "metadata": {},
   "outputs": [
    {
     "data": {
      "image/png": "[encoded data removed]",
      "text/plain": [
       "<Figure size 1440x1440 with 1 Axes>"
      ]
     },
     "metadata": {},
     "output_type": "display_data"
    }
   ],
   "source": [
    "genre_sum_gross = sns.barplot(x= genre_sum.index, y=\"gross_millions\", data=genre_sum)\n",
    "genre_sum_gross.set_xticklabels(genre_sum_gross.get_xticklabels(),rotation=45)\n",
    "sns.set(rc={'figure.figsize':(20,20)})\n",
    "sns.set(font_scale=2)\n",
    "\n",
    "#plt.savefig('genre_sum_gross.png')"
   ]
  },
  {
   "cell_type": "markdown",
   "metadata": {},
   "source": [
    "#### barplot - total profit by genre"
   ]
  },
  {
   "cell_type": "code",
   "execution_count": 89,
   "metadata": {},
   "outputs": [
    {
     "data": {
      "image/png": "[encoded data removed]",
      "text/plain": [
       "<Figure size 1440x1440 with 1 Axes>"
      ]
     },
     "metadata": {},
     "output_type": "display_data"
    }
   ],
   "source": [
    "genre_sum_revenue = sns.barplot(x= genre_sum.index, y=\"profit_millions\", data=genre_sum)\n",
    "genre_sum_revenue.set_xticklabels(genre_sum_revenue.get_xticklabels(),rotation=45)\n",
    "sns.set(rc={'figure.figsize':(20,15)})\n",
    "sns.set(font_scale=2)\n",
    "\n",
    "#plt.savefig('genre_sum_profit.png')"
   ]
  },
  {
   "cell_type": "markdown",
   "metadata": {},
   "source": [
    "### Create df to analyze count by genre"
   ]
  },
  {
   "cell_type": "code",
   "execution_count": 90,
   "metadata": {},
   "outputs": [
    {
     "data": {
      "text/html": [
       "<div>\n",
       "<style scoped>\n",
       "    .dataframe tbody tr th:only-of-type {\n",
       "        vertical-align: middle;\n",
       "    }\n",
       "\n",
       "    .dataframe tbody tr th {\n",
       "        vertical-align: top;\n",
       "    }\n",
       "\n",
       "    .dataframe thead th {\n",
       "        text-align: right;\n",
       "    }\n",
       "</style>\n",
       "<table border=\"1\" class=\"dataframe\">\n",
       "  <thead>\n",
       "    <tr style=\"text-align: right;\">\n",
       "      <th></th>\n",
       "      <th>count</th>\n",
       "      <th>pct_total</th>\n",
       "    </tr>\n",
       "    <tr>\n",
       "      <th>genre</th>\n",
       "      <th></th>\n",
       "      <th></th>\n",
       "    </tr>\n",
       "  </thead>\n",
       "  <tbody>\n",
       "    <tr>\n",
       "      <th>action</th>\n",
       "      <td>791</td>\n",
       "      <td>0.081404</td>\n",
       "    </tr>\n",
       "    <tr>\n",
       "      <th>adventure</th>\n",
       "      <td>615</td>\n",
       "      <td>0.063291</td>\n",
       "    </tr>\n",
       "    <tr>\n",
       "      <th>animation</th>\n",
       "      <td>194</td>\n",
       "      <td>0.019965</td>\n",
       "    </tr>\n",
       "    <tr>\n",
       "      <th>comedy</th>\n",
       "      <td>1460</td>\n",
       "      <td>0.150252</td>\n",
       "    </tr>\n",
       "    <tr>\n",
       "      <th>crime</th>\n",
       "      <td>640</td>\n",
       "      <td>0.065864</td>\n",
       "    </tr>\n",
       "    <tr>\n",
       "      <th>documentary</th>\n",
       "      <td>103</td>\n",
       "      <td>0.010600</td>\n",
       "    </tr>\n",
       "    <tr>\n",
       "      <th>drama</th>\n",
       "      <td>1813</td>\n",
       "      <td>0.186580</td>\n",
       "    </tr>\n",
       "    <tr>\n",
       "      <th>family</th>\n",
       "      <td>419</td>\n",
       "      <td>0.043120</td>\n",
       "    </tr>\n",
       "    <tr>\n",
       "      <th>fantasy</th>\n",
       "      <td>418</td>\n",
       "      <td>0.043017</td>\n",
       "    </tr>\n",
       "    <tr>\n",
       "      <th>music</th>\n",
       "      <td>230</td>\n",
       "      <td>0.023670</td>\n",
       "    </tr>\n",
       "    <tr>\n",
       "      <th>mystery</th>\n",
       "      <td>376</td>\n",
       "      <td>0.038695</td>\n",
       "    </tr>\n",
       "    <tr>\n",
       "      <th>thriller</th>\n",
       "      <td>1037</td>\n",
       "      <td>0.106720</td>\n",
       "    </tr>\n",
       "    <tr>\n",
       "      <th>horror</th>\n",
       "      <td>397</td>\n",
       "      <td>0.040856</td>\n",
       "    </tr>\n",
       "    <tr>\n",
       "      <th>romance</th>\n",
       "      <td>799</td>\n",
       "      <td>0.082227</td>\n",
       "    </tr>\n",
       "    <tr>\n",
       "      <th>sci-fi</th>\n",
       "      <td>425</td>\n",
       "      <td>0.043738</td>\n",
       "    </tr>\n",
       "  </tbody>\n",
       "</table>\n",
       "</div>"
      ],
      "text/plain": [
       "             count  pct_total\n",
       "genre                        \n",
       "action         791   0.081404\n",
       "adventure      615   0.063291\n",
       "animation      194   0.019965\n",
       "comedy        1460   0.150252\n",
       "crime          640   0.065864\n",
       "documentary    103   0.010600\n",
       "drama         1813   0.186580\n",
       "family         419   0.043120\n",
       "fantasy        418   0.043017\n",
       "music          230   0.023670\n",
       "mystery        376   0.038695\n",
       "thriller      1037   0.106720\n",
       "horror         397   0.040856\n",
       "romance        799   0.082227\n",
       "sci-fi         425   0.043738"
      ]
     },
     "execution_count": 90,
     "metadata": {},
     "output_type": "execute_result"
    }
   ],
   "source": [
    "genre_count = pd.DataFrame()\n",
    "for x in genre_lst:\n",
    "    x = movies.groupby(['genre_' + x.lower()]).count()\n",
    "    x = x.rename_axis('genre', axis= 0)\n",
    "    genre_count = genre_count.append(x)\n",
    "\n",
    "genre_count = genre_count[genre_count.index.str.contains(\"not\")==False]\n",
    "genre_count['pct_total']= genre_count['color'] / genre_count['color'].sum()\n",
    "\n",
    "genre_count = genre_count[['color','pct_total']].copy()\n",
    "genre_count.rename(columns={\"color\": \"count\"})"
   ]
  },
  {
   "cell_type": "markdown",
   "metadata": {},
   "source": [
    "## Keyword Analysis"
   ]
  },
  {
   "cell_type": "markdown",
   "metadata": {},
   "source": [
    "Analyze which keywords are associated with stronger outcomes.\n",
    "<br>\n",
    "<br>\n",
    "**Method**: (1) filter df to show only keywords that are associated with at least 30 movies; (2) calculate average outcomes per keyword.\n",
    "<br>\n",
    "<br>\n",
    "**Result**: There are 44 keywords with an average profit greater than 2, and/or an average ROI greater than 1.5. These topics have a track record of strong outcomes. Therefore, future movies should focus their plots on these topics."
   ]
  },
  {
   "cell_type": "code",
   "execution_count": 139,
   "metadata": {},
   "outputs": [],
   "source": [
    "# create list of plot keywords\n",
    "movies['plot_keywords'] = movies['plot_keywords'].astype(str)\n",
    "lst = movies['plot_keywords'].tolist()\n",
    "\n",
    "# define empty list\n",
    "lst_keywords = []\n",
    "\n",
    "# split keywords on |; append keywords to lst_keywords\n",
    "for i in lst:\n",
    "    lst_keywords.append(i.split('|'))\n",
    "\n",
    "# define function to flatten list of lists into one list (function pulled from stack overflow: https://stackoverflow.com/questions/952914/how-to-make-a-flat-list-out-of-a-list-of-lists)\n",
    "def flatten(t):\n",
    "    return [item for sublist in t for item in sublist]\n",
    "\n",
    "# apply flatten() to lst_keywords to create list of all keywords\n",
    "keywords = pd.DataFrame(flatten(lst_keywords),columns=['keywords'])"
   ]
  },
  {
   "cell_type": "code",
   "execution_count": 140,
   "metadata": {},
   "outputs": [],
   "source": [
    "#calculate value counts for each keyword\n",
    "keyword_counts = keywords['keywords'].value_counts()\n",
    "\n",
    "#create a list of keywords that are associated with at least 50 movies\n",
    "keyword_lst = keyword_counts[keyword_counts >= 30].index.tolist()\n",
    "\n",
    "#create a dataframe with keywords associated with 50 or more movies\n",
    "keyword = movies[movies['plot_keywords'].isin(keyword_list)]"
   ]
  },
  {
   "cell_type": "code",
   "execution_count": 141,
   "metadata": {},
   "outputs": [
    {
     "name": "stderr",
     "output_type": "stream",
     "text": [
      "c:\\users\\kspanos\\appdata\\local\\programs\\python\\python37\\lib\\site-packages\\ipykernel_launcher.py:14: SettingWithCopyWarning: \n",
      "A value is trying to be set on a copy of a slice from a DataFrame\n",
      "\n",
      "See the caveats in the documentation: https://pandas.pydata.org/pandas-docs/stable/user_guide/indexing.html#returning-a-view-versus-a-copy\n",
      "  \n",
      "c:\\users\\kspanos\\appdata\\local\\programs\\python\\python37\\lib\\site-packages\\ipykernel_launcher.py:12: SettingWithCopyWarning: \n",
      "A value is trying to be set on a copy of a slice from a DataFrame\n",
      "\n",
      "See the caveats in the documentation: https://pandas.pydata.org/pandas-docs/stable/user_guide/indexing.html#returning-a-view-versus-a-copy\n",
      "  if sys.path[0] == '':\n"
     ]
    }
   ],
   "source": [
    "# add binary keyword variable to movies df\n",
    "movies_kw = movies\n",
    "\n",
    "# create column for each genre in genre_lst\n",
    "for x in keyword_lst:\n",
    "    movies_kw['keyword_' + x.lower()] = \"\"\n",
    "\n",
    "# populate columns with binary field\n",
    "for x in range(len(movies_kw['plot_keywords'])):\n",
    "    for y in keyword_lst:\n",
    "        if y in movies_kw['plot_keywords'][x]:\n",
    "            movies_kw['keyword_' + y.lower()][x] = y.lower()\n",
    "        else:\n",
    "            movies_kw['keyword_' + y.lower()][x] = 'not ' + y.lower()"
   ]
  },
  {
   "cell_type": "markdown",
   "metadata": {},
   "source": [
    "### Create df to analyze average outcome by keyword"
   ]
  },
  {
   "cell_type": "code",
   "execution_count": 142,
   "metadata": {},
   "outputs": [],
   "source": [
    "kw_avg = pd.DataFrame()\n",
    "for x in keyword_lst:\n",
    "    x = movies.groupby(['keyword_' + x.lower()]).mean()\n",
    "    x = x.rename_axis('keyword', axis= 0)\n",
    "    kw_avg = kw_avg.append(x)\n",
    "\n",
    "kw_avg = kw_avg[kw_avg.index.str.contains(\"not\")==False]"
   ]
  },
  {
   "cell_type": "code",
   "execution_count": 143,
   "metadata": {},
   "outputs": [],
   "source": [
    "top_keywords_profit = kw_avg[kw_avg['profit_millions'] > 2]\n",
    "\n",
    "top_keywords_profit_lst = top_keywords_profit.index.tolist()"
   ]
  },
  {
   "cell_type": "code",
   "execution_count": 144,
   "metadata": {},
   "outputs": [],
   "source": [
    "top_keywords_roi = kw_avg[kw_avg['roi'] > 1.5]\n",
    "\n",
    "top_keywords_roi_lst = top_keywords_roi.index.tolist()"
   ]
  },
  {
   "cell_type": "code",
   "execution_count": 145,
   "metadata": {},
   "outputs": [],
   "source": [
    "top_keywords = pd.concat([top_keywords_profit, top_keywords_roi])\n",
    "\n",
    "# drop duplicates to arrive at a list of supporting actors with a profit_pct_mean greater than 2\n",
    "top_keywords = top_keywords.drop_duplicates()\n",
    "\n",
    "keywords_count = keywords.count()"
   ]
  },
  {
   "cell_type": "markdown",
   "metadata": {},
   "source": [
    "# Ideas for additional analysis\n",
    "\n",
    "How successful are sequels and series'?\n",
    "<br>\n",
    "Closer look at popular groupings of genres (i.e. romance and comedy; action and adventure)\n",
    "<br>\n",
    "Analysis of whether or not facebook likes predict actor success\n",
    "<br>\n",
    "Analysis of outcomes by content rating"
   ]
  },
  {
   "cell_type": "code",
   "execution_count": null,
   "metadata": {},
   "outputs": [],
   "source": []
  },
  {
   "cell_type": "code",
   "execution_count": null,
   "metadata": {},
   "outputs": [],
   "source": []
  }
 ],
 "metadata": {
  "kernelspec": {
   "display_name": "Python 3",
   "language": "python",
   "name": "python3"
  },
  "language_info": {
   "codemirror_mode": {
    "name": "ipython",
    "version": 3
   },
   "file_extension": ".py",
   "mimetype": "text/x-python",
   "name": "python",
   "nbconvert_exporter": "python",
   "pygments_lexer": "ipython3",
   "version": "3.7.6"
  }
 },
 "nbformat": 4,
 "nbformat_minor": 4
}

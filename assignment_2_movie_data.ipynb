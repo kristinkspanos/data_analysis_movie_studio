{
 "cells": [
  {
   "cell_type": "markdown",
   "metadata": {},
   "source": [
    "# Determinants of Box Office Success"
   ]
  },
  {
   "cell_type": "markdown",
   "metadata": {},
   "source": [
    "## Imports"
   ]
  },
  {
   "cell_type": "code",
   "execution_count": 2,
   "metadata": {},
   "outputs": [],
   "source": [
    "import pandas as pd\n",
    "import numpy as np\n",
    "from functools import reduce\n",
    "from scipy.stats import iqr\n",
    "\n",
    "# visualization tools\n",
    "%matplotlib inline\n",
    "import matplotlib.pyplot as plt\n",
    "import seaborn as sns"
   ]
  },
  {
   "cell_type": "code",
   "execution_count": 3,
   "metadata": {},
   "outputs": [],
   "source": [
    "movies = pd.read_csv('movie_data.csv')"
   ]
  },
  {
   "cell_type": "markdown",
   "metadata": {},
   "source": [
    "## Explore and Clean Dataset"
   ]
  },
  {
   "cell_type": "markdown",
   "metadata": {},
   "source": [
    "**Numeric variables:** num_critic_reviews, duration, director_facebook_likes, actor_1_facebook_likes, actor_2_facebook_likes, actor_3_facebook_likes, movie_facebook_likes, gross, num_users_voted (int), cast_total_facebook_likes  (int), num_user_reviews, budget, title_year , movie_score, aspect_ratio (int)  <br><br>\n",
    "**Categorical variables:** color, director_name, actor_1_name, actor_2_name, actor_3_name, genres, plot_keywords, language, country, content_rating"
   ]
  },
  {
   "cell_type": "code",
   "execution_count": 4,
   "metadata": {},
   "outputs": [
    {
     "name": "stdout",
     "output_type": "stream",
     "text": [
      "<class 'pandas.core.frame.DataFrame'>\n",
      "RangeIndex: 5043 entries, 0 to 5042\n",
      "Data columns (total 26 columns):\n",
      " #   Column                     Non-Null Count  Dtype  \n",
      "---  ------                     --------------  -----  \n",
      " 0   color                      5024 non-null   object \n",
      " 1   director_name              4939 non-null   object \n",
      " 2   num_critic_reviews         4993 non-null   float64\n",
      " 3   duration                   5028 non-null   float64\n",
      " 4   director_facebook_likes    4939 non-null   float64\n",
      " 5   actor_3_facebook_likes     5020 non-null   float64\n",
      " 6   actor_2_name               5030 non-null   object \n",
      " 7   actor_1_facebook_likes     5036 non-null   float64\n",
      " 8   gross                      4159 non-null   float64\n",
      " 9   genres                     5043 non-null   object \n",
      " 10  actor_1_name               5036 non-null   object \n",
      " 11  movie_title                5043 non-null   object \n",
      " 12  num_users_voted            5043 non-null   int64  \n",
      " 13  cast_total_facebook_likes  5043 non-null   int64  \n",
      " 14  actor_3_name               5020 non-null   object \n",
      " 15  plot_keywords              4890 non-null   object \n",
      " 16  num_user_reviews           5022 non-null   float64\n",
      " 17  language                   5031 non-null   object \n",
      " 18  country                    5038 non-null   object \n",
      " 19  content_rating             4740 non-null   object \n",
      " 20  budget                     4551 non-null   float64\n",
      " 21  title_year                 4935 non-null   float64\n",
      " 22  actor_2_facebook_likes     5030 non-null   float64\n",
      " 23  movie_score                5043 non-null   float64\n",
      " 24  aspect_ratio               4714 non-null   float64\n",
      " 25  movie_facebook_likes       5043 non-null   int64  \n",
      "dtypes: float64(12), int64(3), object(11)\n",
      "memory usage: 1.0+ MB\n"
     ]
    }
   ],
   "source": [
    "movies.info()"
   ]
  },
  {
   "cell_type": "code",
   "execution_count": 6,
   "metadata": {},
   "outputs": [],
   "source": [
    "# remove duplicate rows based on the 'movie_title' and 'title_year' column\n",
    "movies.drop_duplicates(subset=['movie_title','title_year'], keep=False, inplace=True)\n",
    "\n",
    "# reset index\n",
    "movies.reset_index(drop=True, inplace=True)"
   ]
  },
  {
   "cell_type": "code",
   "execution_count": 7,
   "metadata": {},
   "outputs": [],
   "source": [
    "# transform budget and gross metrics\n",
    "movies['budget_millions'] = round(movies['budget'] / 1000000, 4)\n",
    "movies['gross_millions'] = round(movies['gross'] / 1000000, 4)\n",
    "\n",
    "# add calcuated columns\n",
    "movies['profit_millions'] = movies['gross_millions'] - movies['budget_millions']\n",
    "movies['roi'] = round((movies['profit_millions'] / movies['budget_millions']), 4)\n",
    "movies['profit_margin'] = movies['profit_millions'] / movies['gross_millions']\n",
    "\n",
    "movies['budget_millions'] = movies['budget_millions'].replace(0, np.NaN)\n",
    "movies['gross_millions'] = movies['gross_millions'].replace(0,np.NaN)"
   ]
  },
  {
   "cell_type": "markdown",
   "metadata": {},
   "source": [
    "### Remove irrelevant movies\n",
    "**Challenge** - The dataset contains movies that are not relevant to the move studio's current strategy, including movies from as early as 1916 and non-English language movies.\n",
    "\n",
    "**Solution** - filter df to exclude all movies released prior to 1996 and all non-English language movies."
   ]
  },
  {
   "cell_type": "code",
   "execution_count": 8,
   "metadata": {},
   "outputs": [],
   "source": [
    "# remove all movies from before the year 1996 in order to focus on the most recent data points\n",
    "movies = movies[movies['title_year']>=1996]\n",
    "\n",
    "# keep only English language movies\n",
    "movies = movies[movies['language'] == 'English']\n",
    "\n",
    "movies.reset_index(drop=True, inplace=True)"
   ]
  },
  {
   "cell_type": "markdown",
   "metadata": {},
   "source": [
    "### Explore Numeric Variables\n",
    "\n",
    "**Challenge** - After a preliminary exploration of the numeric variables, it became apparent that several of the numeric variables have significant outliers. The inclusion of outliers will make it more difficult to accurately assess relationships between variables. \n",
    "\n",
    "**Solution** - trim numeric variables by replacing outliers with upper whisker values.\n",
    "\n",
    "**Method** - outliers are identified using the IQR method; replace outliers with upper whisker value; trimmed values are stored in a separate dataframe (movies_trimmed)"
   ]
  },
  {
   "cell_type": "code",
   "execution_count": 6,
   "metadata": {},
   "outputs": [],
   "source": [
    "# define movies trimmed to hold trimmed variables\n",
    "movies_trimmed = movies.copy(deep = True)"
   ]
  },
  {
   "cell_type": "code",
   "execution_count": 7,
   "metadata": {},
   "outputs": [],
   "source": [
    "# separate numerical fields from categorical\n",
    "movies_numeric = movies.select_dtypes(include=['float64', 'int64'])\n",
    "\n",
    "# replace outliers with upper whisker / lower whisker value\n",
    "for column in movies_numeric:\n",
    "    q1 = movies_trimmed[column].quantile(0.25)\n",
    "    q3 = movies_trimmed[column].quantile(0.75)\n",
    "    iqr = q3 - q1\n",
    "    upper_whisker = q3 + (iqr*1.5)\n",
    "    lower_whisker = q1 - (iqr*1.5)\n",
    "    movies_trimmed.loc[movies_trimmed[column] > upper_whisker, column] = upper_whisker\n",
    "    movies_trimmed.loc[movies_trimmed[column] < lower_whisker, column] = lower_whisker"
   ]
  },
  {
   "cell_type": "code",
   "execution_count": 8,
   "metadata": {},
   "outputs": [],
   "source": [
    "#boxplot = movies_trimmed.boxplot(column=['duration'])\n",
    "#boxplot = movies_trimmed.boxplot(column=['movie_score'])\n",
    "#boxplot = movies_trimmed.boxplot(column=['num_critic_reviews'])"
   ]
  },
  {
   "cell_type": "code",
   "execution_count": 9,
   "metadata": {
    "collapsed": true
   },
   "outputs": [
    {
     "data": {
      "image/png": "[encoded data removed]",
      "text/plain": [
       "<Figure size 432x288 with 1 Axes>"
      ]
     },
     "metadata": {
      "needs_background": "light"
     },
     "output_type": "display_data"
    }
   ],
   "source": [
    "# boxplot showing facebook likes for actors\n",
    "boxplot = movies_trimmed.boxplot(column=['actor_1_facebook_likes','actor_2_facebook_likes','actor_3_facebook_likes','cast_total_facebook_likes'], rot=45)"
   ]
  },
  {
   "cell_type": "code",
   "execution_count": 10,
   "metadata": {
    "collapsed": true
   },
   "outputs": [
    {
     "data": {
      "image/png": "[encoded data removed]",
      "text/plain": [
       "<Figure size 432x288 with 1 Axes>"
      ]
     },
     "metadata": {
      "needs_background": "light"
     },
     "output_type": "display_data"
    }
   ],
   "source": [
    "# boxplot showing facebook likes for directors and movies\n",
    "boxplot = movies_trimmed.boxplot(column=['director_facebook_likes','movie_facebook_likes'], rot=45)"
   ]
  },
  {
   "cell_type": "code",
   "execution_count": 11,
   "metadata": {
    "collapsed": true
   },
   "outputs": [
    {
     "data": {
      "image/png": "[encoded data removed]",
      "text/plain": [
       "<Figure size 432x288 with 1 Axes>"
      ]
     },
     "metadata": {
      "needs_background": "light"
     },
     "output_type": "display_data"
    }
   ],
   "source": [
    "# boxplot showing financial variables\n",
    "boxplot = movies_trimmed.boxplot(column=['gross_millions','budget_millions','profit_millions'])"
   ]
  },
  {
   "cell_type": "code",
   "execution_count": 12,
   "metadata": {},
   "outputs": [],
   "source": [
    "mean_profit = movies['profit_millions'].mean()\n",
    "mean_gross = movies['gross_millions'].mean()"
   ]
  },
  {
   "cell_type": "markdown",
   "metadata": {},
   "source": [
    "### Explore Categorical Variables"
   ]
  },
  {
   "cell_type": "code",
   "execution_count": 13,
   "metadata": {
    "collapsed": true
   },
   "outputs": [
    {
     "data": {
      "text/plain": [
       "Woody Allen          15\n",
       "Steven Spielberg     15\n",
       "Clint Eastwood       14\n",
       "Steven Soderbergh    13\n",
       "Ridley Scott         12\n",
       "                     ..\n",
       "Ava DuVernay          1\n",
       "Ari Sandel            1\n",
       "Ryûhei Kitamura       1\n",
       "Mamoru Hosoda         1\n",
       "J Blakeson            1\n",
       "Name: director_name, Length: 1392, dtype: int64"
      ]
     },
     "execution_count": 13,
     "metadata": {},
     "output_type": "execute_result"
    }
   ],
   "source": [
    "movies['director_name'].value_counts()"
   ]
  },
  {
   "cell_type": "code",
   "execution_count": 14,
   "metadata": {
    "collapsed": true
   },
   "outputs": [
    {
     "data": {
      "text/plain": [
       "Robert De Niro        31\n",
       "J.K. Simmons          27\n",
       "Matt Damon            26\n",
       "Nicolas Cage          25\n",
       "Robert Downey Jr.     24\n",
       "                      ..\n",
       "John Beasley           1\n",
       "Barry Watson           1\n",
       "Amber Valletta         1\n",
       "Alia Shawkat           1\n",
       "Giancarlo Giannini     1\n",
       "Name: actor_1_name, Length: 1113, dtype: int64"
      ]
     },
     "execution_count": 14,
     "metadata": {},
     "output_type": "execute_result"
    }
   ],
   "source": [
    "movies['actor_1_name'].value_counts()"
   ]
  },
  {
   "cell_type": "code",
   "execution_count": 15,
   "metadata": {
    "collapsed": true
   },
   "outputs": [
    {
     "data": {
      "text/plain": [
       "Morgan Freeman       13\n",
       "Charlize Theron      12\n",
       "Brad Pitt            10\n",
       "Will Ferrell          9\n",
       "James Franco          9\n",
       "                     ..\n",
       "Amber Benson          1\n",
       "Jordan Trovillion     1\n",
       "Craig T. Nelson       1\n",
       "Paul Gross            1\n",
       "Thekla Reuten         1\n",
       "Name: actor_2_name, Length: 1742, dtype: int64"
      ]
     },
     "execution_count": 15,
     "metadata": {},
     "output_type": "execute_result"
    }
   ],
   "source": [
    "movies['actor_2_name'].value_counts()"
   ]
  },
  {
   "cell_type": "code",
   "execution_count": 16,
   "metadata": {
    "collapsed": true
   },
   "outputs": [
    {
     "data": {
      "text/plain": [
       "Steve Coogan     8\n",
       "Bruce McGill     6\n",
       "Stephen Root     6\n",
       "Thomas Lennon    6\n",
       "Steve Carell     6\n",
       "                ..\n",
       "Tom Cullen       1\n",
       "Nimrat Kaur      1\n",
       "Kirsten Day      1\n",
       "Charice          1\n",
       "Raquel Alessi    1\n",
       "Name: actor_3_name, Length: 2064, dtype: int64"
      ]
     },
     "execution_count": 16,
     "metadata": {},
     "output_type": "execute_result"
    }
   ],
   "source": [
    "movies['actor_3_name'].value_counts()"
   ]
  },
  {
   "cell_type": "code",
   "execution_count": 17,
   "metadata": {
    "collapsed": true
   },
   "outputs": [
    {
     "data": {
      "text/plain": [
       "chicken|escape|farm|freedom|rooster                                                1\n",
       "hit in the crotch|kicked in the crotch|punched in the crotch|sparring|superhero    1\n",
       "equal pay|machinist|minister|protest|sex                                           1\n",
       "forest|mountain|road|stupid victim|west virginia                                   1\n",
       "actress|argentina|military|politics|singer                                         1\n",
       "                                                                                  ..\n",
       "attempted murder|blackmail|diver's watch|nurse|satire                              1\n",
       "1950s|children|ice cube|texas|waco texas                                           1\n",
       "alcatraz|fbi|gold|prison|undercover                                                1\n",
       "based on fairy tale|dark fantasy|fairy tale|second part|sequel                     1\n",
       "cia|on the run|russian|russian spy|strong female lead                              1\n",
       "Name: plot_keywords, Length: 2885, dtype: int64"
      ]
     },
     "execution_count": 17,
     "metadata": {},
     "output_type": "execute_result"
    }
   ],
   "source": [
    "movies['plot_keywords'].value_counts()\n",
    "\n",
    "# plot keywords will be more effectively analyzed by separating the keywords"
   ]
  },
  {
   "cell_type": "code",
   "execution_count": 18,
   "metadata": {
    "collapsed": true
   },
   "outputs": [
    {
     "data": {
      "text/plain": [
       "USA               2385\n",
       "UK                 229\n",
       "Germany             65\n",
       "France              64\n",
       "Canada              52\n",
       "Australia           26\n",
       "Spain               14\n",
       "Ireland              7\n",
       "New Zealand          6\n",
       "Denmark              5\n",
       "Hong Kong            4\n",
       "Italy                3\n",
       "South Africa         3\n",
       "South Korea          3\n",
       "Japan                3\n",
       "Czech Republic       2\n",
       "China                1\n",
       "Greece               1\n",
       "Thailand             1\n",
       "Belgium              1\n",
       "Chile                1\n",
       "Romania              1\n",
       "New Line             1\n",
       "Hungary              1\n",
       "Iceland              1\n",
       "Aruba                1\n",
       "Georgia              1\n",
       "Poland               1\n",
       "Russia               1\n",
       "Official site        1\n",
       "Name: country, dtype: int64"
      ]
     },
     "execution_count": 18,
     "metadata": {},
     "output_type": "execute_result"
    }
   ],
   "source": [
    "movies['country'].value_counts()"
   ]
  },
  {
   "cell_type": "code",
   "execution_count": 19,
   "metadata": {
    "collapsed": true
   },
   "outputs": [
    {
     "data": {
      "text/plain": [
       "R            1290\n",
       "PG-13        1092\n",
       "PG            406\n",
       "G              63\n",
       "Not Rated      18\n",
       "Unrated        12\n",
       "NC-17           4\n",
       "Name: content_rating, dtype: int64"
      ]
     },
     "execution_count": 19,
     "metadata": {},
     "output_type": "execute_result"
    }
   ],
   "source": [
    "movies['content_rating'].value_counts()"
   ]
  },
  {
   "cell_type": "code",
   "execution_count": 20,
   "metadata": {
    "collapsed": true
   },
   "outputs": [
    {
     "data": {
      "text/plain": [
       "0              CCH Pounder-Joel David Moore-Wes Studi\n",
       "1            Johnny Depp-Orlando Bloom-Jack Davenport\n",
       "2       Christoph Waltz-Rory Kinnear-Stephanie Sigman\n",
       "3       Tom Hardy-Christian Bale-Joseph Gordon-Levitt\n",
       "4           Daryl Sabara-Samantha Morton-Polly Walker\n",
       "                            ...                      \n",
       "2880      Paul Schneider-Eddie Rouse-Damian Jewan Lee\n",
       "2881        Derick Martini-Christa Miller-Ion Overman\n",
       "2882            Stacy Edwards-Matt Malloy-Jason Dixie\n",
       "2883        Shane Carruth-David Sullivan-Casey Gooden\n",
       "2884            John August-Brian Herzlinger-Jon Gunn\n",
       "Name: key_actors, Length: 2885, dtype: object"
      ]
     },
     "execution_count": 20,
     "metadata": {},
     "output_type": "execute_result"
    }
   ],
   "source": [
    "movies['key_actors'] = movies['actor_1_name'].map(str) + '-' + movies['actor_2_name'].map(str) + '-' + movies['actor_3_name'].map(str)\n",
    "movies['key_actors']"
   ]
  },
  {
   "cell_type": "markdown",
   "metadata": {},
   "source": [
    "### Explore Relationships in the Data"
   ]
  },
  {
   "cell_type": "markdown",
   "metadata": {},
   "source": [
    "**Variables that are moderately correlated (correlation > 0.4) with gross revenue:** num_critic_reviews, num_users_voted, num_user_reviews, budget, profit_millions, roi, profit_margin \n",
    "<br><br>\n",
    "**Variables that are moderately correlated (correlation > 0.4) with profit:** gross_millions, num_users_voted, roi, profit_margin\n",
    "<br><br>\n",
    "**Variables that are moderately correlated (correlation > 0.4) with profit margin:** gross_millions, roi, profit_margin\n",
    "<br><br>\n",
    "**Variables that are moderately correlated (correlation > 0.4) with ROI:** gross_millions, profit_millions, profit_margin"
   ]
  },
  {
   "cell_type": "code",
   "execution_count": 21,
   "metadata": {
    "collapsed": true
   },
   "outputs": [
    {
     "data": {
      "text/html": [
       "<div>\n",
       "<style scoped>\n",
       "    .dataframe tbody tr th:only-of-type {\n",
       "        vertical-align: middle;\n",
       "    }\n",
       "\n",
       "    .dataframe tbody tr th {\n",
       "        vertical-align: top;\n",
       "    }\n",
       "\n",
       "    .dataframe thead th {\n",
       "        text-align: right;\n",
       "    }\n",
       "</style>\n",
       "<table border=\"1\" class=\"dataframe\">\n",
       "  <thead>\n",
       "    <tr style=\"text-align: right;\">\n",
       "      <th></th>\n",
       "      <th>num_critic_reviews</th>\n",
       "      <th>duration</th>\n",
       "      <th>director_facebook_likes</th>\n",
       "      <th>actor_3_facebook_likes</th>\n",
       "      <th>actor_1_facebook_likes</th>\n",
       "      <th>gross</th>\n",
       "      <th>num_users_voted</th>\n",
       "      <th>cast_total_facebook_likes</th>\n",
       "      <th>num_user_reviews</th>\n",
       "      <th>budget</th>\n",
       "      <th>title_year</th>\n",
       "      <th>actor_2_facebook_likes</th>\n",
       "      <th>movie_score</th>\n",
       "      <th>aspect_ratio</th>\n",
       "      <th>movie_facebook_likes</th>\n",
       "      <th>budget_millions</th>\n",
       "      <th>gross_millions</th>\n",
       "      <th>profit_millions</th>\n",
       "      <th>roi</th>\n",
       "      <th>profit_margin</th>\n",
       "    </tr>\n",
       "  </thead>\n",
       "  <tbody>\n",
       "    <tr>\n",
       "      <th>num_critic_reviews</th>\n",
       "      <td>1.000000</td>\n",
       "      <td>0.342007</td>\n",
       "      <td>0.260540</td>\n",
       "      <td>0.203297</td>\n",
       "      <td>0.306828</td>\n",
       "      <td>0.468421</td>\n",
       "      <td>0.731484</td>\n",
       "      <td>0.320250</td>\n",
       "      <td>0.641283</td>\n",
       "      <td>0.390290</td>\n",
       "      <td>0.533642</td>\n",
       "      <td>0.255204</td>\n",
       "      <td>0.438234</td>\n",
       "      <td>0.244230</td>\n",
       "      <td>0.711135</td>\n",
       "      <td>0.390290</td>\n",
       "      <td>0.468421</td>\n",
       "      <td>0.239840</td>\n",
       "      <td>0.207010</td>\n",
       "      <td>0.272728</td>\n",
       "    </tr>\n",
       "    <tr>\n",
       "      <th>duration</th>\n",
       "      <td>0.342007</td>\n",
       "      <td>1.000000</td>\n",
       "      <td>0.279712</td>\n",
       "      <td>0.180840</td>\n",
       "      <td>0.251282</td>\n",
       "      <td>0.284007</td>\n",
       "      <td>0.407486</td>\n",
       "      <td>0.263182</td>\n",
       "      <td>0.430204</td>\n",
       "      <td>0.359339</td>\n",
       "      <td>0.028947</td>\n",
       "      <td>0.210649</td>\n",
       "      <td>0.405586</td>\n",
       "      <td>0.274454</td>\n",
       "      <td>0.265055</td>\n",
       "      <td>0.359339</td>\n",
       "      <td>0.284007</td>\n",
       "      <td>0.034023</td>\n",
       "      <td>-0.038322</td>\n",
       "      <td>0.031689</td>\n",
       "    </tr>\n",
       "    <tr>\n",
       "      <th>director_facebook_likes</th>\n",
       "      <td>0.260540</td>\n",
       "      <td>0.279712</td>\n",
       "      <td>1.000000</td>\n",
       "      <td>0.080624</td>\n",
       "      <td>0.169594</td>\n",
       "      <td>0.159314</td>\n",
       "      <td>0.275338</td>\n",
       "      <td>0.164894</td>\n",
       "      <td>0.260489</td>\n",
       "      <td>0.191359</td>\n",
       "      <td>0.012941</td>\n",
       "      <td>0.105992</td>\n",
       "      <td>0.243510</td>\n",
       "      <td>0.116658</td>\n",
       "      <td>0.180845</td>\n",
       "      <td>0.191359</td>\n",
       "      <td>0.159314</td>\n",
       "      <td>0.018923</td>\n",
       "      <td>0.012067</td>\n",
       "      <td>0.049003</td>\n",
       "    </tr>\n",
       "    <tr>\n",
       "      <th>actor_3_facebook_likes</th>\n",
       "      <td>0.203297</td>\n",
       "      <td>0.180840</td>\n",
       "      <td>0.080624</td>\n",
       "      <td>1.000000</td>\n",
       "      <td>0.457013</td>\n",
       "      <td>0.299079</td>\n",
       "      <td>0.260407</td>\n",
       "      <td>0.614249</td>\n",
       "      <td>0.198525</td>\n",
       "      <td>0.285447</td>\n",
       "      <td>0.075708</td>\n",
       "      <td>0.764108</td>\n",
       "      <td>0.050810</td>\n",
       "      <td>0.085667</td>\n",
       "      <td>0.181419</td>\n",
       "      <td>0.285447</td>\n",
       "      <td>0.299079</td>\n",
       "      <td>0.139454</td>\n",
       "      <td>0.038524</td>\n",
       "      <td>0.134176</td>\n",
       "    </tr>\n",
       "    <tr>\n",
       "      <th>actor_1_facebook_likes</th>\n",
       "      <td>0.306828</td>\n",
       "      <td>0.251282</td>\n",
       "      <td>0.169594</td>\n",
       "      <td>0.457013</td>\n",
       "      <td>1.000000</td>\n",
       "      <td>0.234177</td>\n",
       "      <td>0.356501</td>\n",
       "      <td>0.949536</td>\n",
       "      <td>0.251123</td>\n",
       "      <td>0.270241</td>\n",
       "      <td>0.126885</td>\n",
       "      <td>0.575360</td>\n",
       "      <td>0.220865</td>\n",
       "      <td>0.162111</td>\n",
       "      <td>0.251933</td>\n",
       "      <td>0.270241</td>\n",
       "      <td>0.234177</td>\n",
       "      <td>0.051218</td>\n",
       "      <td>0.002077</td>\n",
       "      <td>0.077789</td>\n",
       "    </tr>\n",
       "    <tr>\n",
       "      <th>gross</th>\n",
       "      <td>0.468421</td>\n",
       "      <td>0.284007</td>\n",
       "      <td>0.159314</td>\n",
       "      <td>0.299079</td>\n",
       "      <td>0.234177</td>\n",
       "      <td>1.000000</td>\n",
       "      <td>0.678198</td>\n",
       "      <td>0.275303</td>\n",
       "      <td>0.548891</td>\n",
       "      <td>0.698069</td>\n",
       "      <td>0.106414</td>\n",
       "      <td>0.304119</td>\n",
       "      <td>0.217524</td>\n",
       "      <td>0.117558</td>\n",
       "      <td>0.314723</td>\n",
       "      <td>0.698069</td>\n",
       "      <td>1.000000</td>\n",
       "      <td>0.646815</td>\n",
       "      <td>0.425286</td>\n",
       "      <td>0.523877</td>\n",
       "    </tr>\n",
       "    <tr>\n",
       "      <th>num_users_voted</th>\n",
       "      <td>0.731484</td>\n",
       "      <td>0.407486</td>\n",
       "      <td>0.275338</td>\n",
       "      <td>0.260407</td>\n",
       "      <td>0.356501</td>\n",
       "      <td>0.678198</td>\n",
       "      <td>1.000000</td>\n",
       "      <td>0.372880</td>\n",
       "      <td>0.812196</td>\n",
       "      <td>0.502887</td>\n",
       "      <td>0.147753</td>\n",
       "      <td>0.313899</td>\n",
       "      <td>0.528849</td>\n",
       "      <td>0.178639</td>\n",
       "      <td>0.539092</td>\n",
       "      <td>0.502887</td>\n",
       "      <td>0.678198</td>\n",
       "      <td>0.427362</td>\n",
       "      <td>0.299402</td>\n",
       "      <td>0.369899</td>\n",
       "    </tr>\n",
       "    <tr>\n",
       "      <th>cast_total_facebook_likes</th>\n",
       "      <td>0.320250</td>\n",
       "      <td>0.263182</td>\n",
       "      <td>0.164894</td>\n",
       "      <td>0.614249</td>\n",
       "      <td>0.949536</td>\n",
       "      <td>0.275303</td>\n",
       "      <td>0.372880</td>\n",
       "      <td>1.000000</td>\n",
       "      <td>0.265089</td>\n",
       "      <td>0.302708</td>\n",
       "      <td>0.137308</td>\n",
       "      <td>0.728906</td>\n",
       "      <td>0.208624</td>\n",
       "      <td>0.154215</td>\n",
       "      <td>0.270540</td>\n",
       "      <td>0.302708</td>\n",
       "      <td>0.275303</td>\n",
       "      <td>0.080903</td>\n",
       "      <td>0.012476</td>\n",
       "      <td>0.094401</td>\n",
       "    </tr>\n",
       "    <tr>\n",
       "      <th>num_user_reviews</th>\n",
       "      <td>0.641283</td>\n",
       "      <td>0.430204</td>\n",
       "      <td>0.260489</td>\n",
       "      <td>0.198525</td>\n",
       "      <td>0.251123</td>\n",
       "      <td>0.548891</td>\n",
       "      <td>0.812196</td>\n",
       "      <td>0.265089</td>\n",
       "      <td>1.000000</td>\n",
       "      <td>0.435769</td>\n",
       "      <td>-0.028604</td>\n",
       "      <td>0.229037</td>\n",
       "      <td>0.398325</td>\n",
       "      <td>0.170865</td>\n",
       "      <td>0.360015</td>\n",
       "      <td>0.435769</td>\n",
       "      <td>0.548891</td>\n",
       "      <td>0.315828</td>\n",
       "      <td>0.260695</td>\n",
       "      <td>0.333228</td>\n",
       "    </tr>\n",
       "    <tr>\n",
       "      <th>budget</th>\n",
       "      <td>0.390290</td>\n",
       "      <td>0.359339</td>\n",
       "      <td>0.191359</td>\n",
       "      <td>0.285447</td>\n",
       "      <td>0.270241</td>\n",
       "      <td>0.698069</td>\n",
       "      <td>0.502887</td>\n",
       "      <td>0.302708</td>\n",
       "      <td>0.435769</td>\n",
       "      <td>1.000000</td>\n",
       "      <td>0.089184</td>\n",
       "      <td>0.314703</td>\n",
       "      <td>0.079945</td>\n",
       "      <td>0.226168</td>\n",
       "      <td>0.226584</td>\n",
       "      <td>1.000000</td>\n",
       "      <td>0.698069</td>\n",
       "      <td>-0.039650</td>\n",
       "      <td>-0.152262</td>\n",
       "      <td>0.096608</td>\n",
       "    </tr>\n",
       "    <tr>\n",
       "      <th>title_year</th>\n",
       "      <td>0.533642</td>\n",
       "      <td>0.028947</td>\n",
       "      <td>0.012941</td>\n",
       "      <td>0.075708</td>\n",
       "      <td>0.126885</td>\n",
       "      <td>0.106414</td>\n",
       "      <td>0.147753</td>\n",
       "      <td>0.137308</td>\n",
       "      <td>-0.028604</td>\n",
       "      <td>0.089184</td>\n",
       "      <td>1.000000</td>\n",
       "      <td>0.112411</td>\n",
       "      <td>0.040081</td>\n",
       "      <td>0.225018</td>\n",
       "      <td>0.539986</td>\n",
       "      <td>0.089184</td>\n",
       "      <td>0.106414</td>\n",
       "      <td>0.044589</td>\n",
       "      <td>0.043537</td>\n",
       "      <td>0.013402</td>\n",
       "    </tr>\n",
       "    <tr>\n",
       "      <th>actor_2_facebook_likes</th>\n",
       "      <td>0.255204</td>\n",
       "      <td>0.210649</td>\n",
       "      <td>0.105992</td>\n",
       "      <td>0.764108</td>\n",
       "      <td>0.575360</td>\n",
       "      <td>0.304119</td>\n",
       "      <td>0.313899</td>\n",
       "      <td>0.728906</td>\n",
       "      <td>0.229037</td>\n",
       "      <td>0.314703</td>\n",
       "      <td>0.112411</td>\n",
       "      <td>1.000000</td>\n",
       "      <td>0.111286</td>\n",
       "      <td>0.113840</td>\n",
       "      <td>0.215575</td>\n",
       "      <td>0.314703</td>\n",
       "      <td>0.304119</td>\n",
       "      <td>0.112343</td>\n",
       "      <td>0.016673</td>\n",
       "      <td>0.116858</td>\n",
       "    </tr>\n",
       "    <tr>\n",
       "      <th>movie_score</th>\n",
       "      <td>0.438234</td>\n",
       "      <td>0.405586</td>\n",
       "      <td>0.243510</td>\n",
       "      <td>0.050810</td>\n",
       "      <td>0.220865</td>\n",
       "      <td>0.217524</td>\n",
       "      <td>0.528849</td>\n",
       "      <td>0.208624</td>\n",
       "      <td>0.398325</td>\n",
       "      <td>0.079945</td>\n",
       "      <td>0.040081</td>\n",
       "      <td>0.111286</td>\n",
       "      <td>1.000000</td>\n",
       "      <td>0.091602</td>\n",
       "      <td>0.363006</td>\n",
       "      <td>0.079945</td>\n",
       "      <td>0.217524</td>\n",
       "      <td>0.229417</td>\n",
       "      <td>0.182938</td>\n",
       "      <td>0.158595</td>\n",
       "    </tr>\n",
       "    <tr>\n",
       "      <th>aspect_ratio</th>\n",
       "      <td>0.244230</td>\n",
       "      <td>0.274454</td>\n",
       "      <td>0.116658</td>\n",
       "      <td>0.085667</td>\n",
       "      <td>0.162111</td>\n",
       "      <td>0.117558</td>\n",
       "      <td>0.178639</td>\n",
       "      <td>0.154215</td>\n",
       "      <td>0.170865</td>\n",
       "      <td>0.226168</td>\n",
       "      <td>0.225018</td>\n",
       "      <td>0.113840</td>\n",
       "      <td>0.091602</td>\n",
       "      <td>1.000000</td>\n",
       "      <td>0.167405</td>\n",
       "      <td>0.226168</td>\n",
       "      <td>0.117558</td>\n",
       "      <td>-0.064170</td>\n",
       "      <td>-0.132079</td>\n",
       "      <td>-0.053562</td>\n",
       "    </tr>\n",
       "    <tr>\n",
       "      <th>movie_facebook_likes</th>\n",
       "      <td>0.711135</td>\n",
       "      <td>0.265055</td>\n",
       "      <td>0.180845</td>\n",
       "      <td>0.181419</td>\n",
       "      <td>0.251933</td>\n",
       "      <td>0.314723</td>\n",
       "      <td>0.539092</td>\n",
       "      <td>0.270540</td>\n",
       "      <td>0.360015</td>\n",
       "      <td>0.226584</td>\n",
       "      <td>0.539986</td>\n",
       "      <td>0.215575</td>\n",
       "      <td>0.363006</td>\n",
       "      <td>0.167405</td>\n",
       "      <td>1.000000</td>\n",
       "      <td>0.226584</td>\n",
       "      <td>0.314723</td>\n",
       "      <td>0.187806</td>\n",
       "      <td>0.190316</td>\n",
       "      <td>0.180755</td>\n",
       "    </tr>\n",
       "    <tr>\n",
       "      <th>budget_millions</th>\n",
       "      <td>0.390290</td>\n",
       "      <td>0.359339</td>\n",
       "      <td>0.191359</td>\n",
       "      <td>0.285447</td>\n",
       "      <td>0.270241</td>\n",
       "      <td>0.698069</td>\n",
       "      <td>0.502887</td>\n",
       "      <td>0.302708</td>\n",
       "      <td>0.435769</td>\n",
       "      <td>1.000000</td>\n",
       "      <td>0.089184</td>\n",
       "      <td>0.314703</td>\n",
       "      <td>0.079945</td>\n",
       "      <td>0.226168</td>\n",
       "      <td>0.226584</td>\n",
       "      <td>1.000000</td>\n",
       "      <td>0.698069</td>\n",
       "      <td>-0.039650</td>\n",
       "      <td>-0.152262</td>\n",
       "      <td>0.096608</td>\n",
       "    </tr>\n",
       "    <tr>\n",
       "      <th>gross_millions</th>\n",
       "      <td>0.468421</td>\n",
       "      <td>0.284007</td>\n",
       "      <td>0.159314</td>\n",
       "      <td>0.299079</td>\n",
       "      <td>0.234177</td>\n",
       "      <td>1.000000</td>\n",
       "      <td>0.678198</td>\n",
       "      <td>0.275303</td>\n",
       "      <td>0.548891</td>\n",
       "      <td>0.698069</td>\n",
       "      <td>0.106414</td>\n",
       "      <td>0.304119</td>\n",
       "      <td>0.217524</td>\n",
       "      <td>0.117558</td>\n",
       "      <td>0.314723</td>\n",
       "      <td>0.698069</td>\n",
       "      <td>1.000000</td>\n",
       "      <td>0.646815</td>\n",
       "      <td>0.425286</td>\n",
       "      <td>0.523876</td>\n",
       "    </tr>\n",
       "    <tr>\n",
       "      <th>profit_millions</th>\n",
       "      <td>0.239840</td>\n",
       "      <td>0.034023</td>\n",
       "      <td>0.018923</td>\n",
       "      <td>0.139454</td>\n",
       "      <td>0.051218</td>\n",
       "      <td>0.646815</td>\n",
       "      <td>0.427362</td>\n",
       "      <td>0.080903</td>\n",
       "      <td>0.315828</td>\n",
       "      <td>-0.039650</td>\n",
       "      <td>0.044589</td>\n",
       "      <td>0.112343</td>\n",
       "      <td>0.229417</td>\n",
       "      <td>-0.064170</td>\n",
       "      <td>0.187806</td>\n",
       "      <td>-0.039650</td>\n",
       "      <td>0.646815</td>\n",
       "      <td>1.000000</td>\n",
       "      <td>0.735619</td>\n",
       "      <td>0.629250</td>\n",
       "    </tr>\n",
       "    <tr>\n",
       "      <th>roi</th>\n",
       "      <td>0.207010</td>\n",
       "      <td>-0.038322</td>\n",
       "      <td>0.012067</td>\n",
       "      <td>0.038524</td>\n",
       "      <td>0.002077</td>\n",
       "      <td>0.425286</td>\n",
       "      <td>0.299402</td>\n",
       "      <td>0.012476</td>\n",
       "      <td>0.260695</td>\n",
       "      <td>-0.152262</td>\n",
       "      <td>0.043537</td>\n",
       "      <td>0.016673</td>\n",
       "      <td>0.182938</td>\n",
       "      <td>-0.132079</td>\n",
       "      <td>0.190316</td>\n",
       "      <td>-0.152262</td>\n",
       "      <td>0.425286</td>\n",
       "      <td>0.735619</td>\n",
       "      <td>1.000000</td>\n",
       "      <td>0.741904</td>\n",
       "    </tr>\n",
       "    <tr>\n",
       "      <th>profit_margin</th>\n",
       "      <td>0.272728</td>\n",
       "      <td>0.031689</td>\n",
       "      <td>0.049003</td>\n",
       "      <td>0.134176</td>\n",
       "      <td>0.077789</td>\n",
       "      <td>0.523877</td>\n",
       "      <td>0.369899</td>\n",
       "      <td>0.094401</td>\n",
       "      <td>0.333228</td>\n",
       "      <td>0.096608</td>\n",
       "      <td>0.013402</td>\n",
       "      <td>0.116858</td>\n",
       "      <td>0.158595</td>\n",
       "      <td>-0.053562</td>\n",
       "      <td>0.180755</td>\n",
       "      <td>0.096608</td>\n",
       "      <td>0.523876</td>\n",
       "      <td>0.629250</td>\n",
       "      <td>0.741904</td>\n",
       "      <td>1.000000</td>\n",
       "    </tr>\n",
       "  </tbody>\n",
       "</table>\n",
       "</div>"
      ],
      "text/plain": [
       "                           num_critic_reviews  duration  \\\n",
       "num_critic_reviews                   1.000000  0.342007   \n",
       "duration                             0.342007  1.000000   \n",
       "director_facebook_likes              0.260540  0.279712   \n",
       "actor_3_facebook_likes               0.203297  0.180840   \n",
       "actor_1_facebook_likes               0.306828  0.251282   \n",
       "gross                                0.468421  0.284007   \n",
       "num_users_voted                      0.731484  0.407486   \n",
       "cast_total_facebook_likes            0.320250  0.263182   \n",
       "num_user_reviews                     0.641283  0.430204   \n",
       "budget                               0.390290  0.359339   \n",
       "title_year                           0.533642  0.028947   \n",
       "actor_2_facebook_likes               0.255204  0.210649   \n",
       "movie_score                          0.438234  0.405586   \n",
       "aspect_ratio                         0.244230  0.274454   \n",
       "movie_facebook_likes                 0.711135  0.265055   \n",
       "budget_millions                      0.390290  0.359339   \n",
       "gross_millions                       0.468421  0.284007   \n",
       "profit_millions                      0.239840  0.034023   \n",
       "roi                                  0.207010 -0.038322   \n",
       "profit_margin                        0.272728  0.031689   \n",
       "\n",
       "                           director_facebook_likes  actor_3_facebook_likes  \\\n",
       "num_critic_reviews                        0.260540                0.203297   \n",
       "duration                                  0.279712                0.180840   \n",
       "director_facebook_likes                   1.000000                0.080624   \n",
       "actor_3_facebook_likes                    0.080624                1.000000   \n",
       "actor_1_facebook_likes                    0.169594                0.457013   \n",
       "gross                                     0.159314                0.299079   \n",
       "num_users_voted                           0.275338                0.260407   \n",
       "cast_total_facebook_likes                 0.164894                0.614249   \n",
       "num_user_reviews                          0.260489                0.198525   \n",
       "budget                                    0.191359                0.285447   \n",
       "title_year                                0.012941                0.075708   \n",
       "actor_2_facebook_likes                    0.105992                0.764108   \n",
       "movie_score                               0.243510                0.050810   \n",
       "aspect_ratio                              0.116658                0.085667   \n",
       "movie_facebook_likes                      0.180845                0.181419   \n",
       "budget_millions                           0.191359                0.285447   \n",
       "gross_millions                            0.159314                0.299079   \n",
       "profit_millions                           0.018923                0.139454   \n",
       "roi                                       0.012067                0.038524   \n",
       "profit_margin                             0.049003                0.134176   \n",
       "\n",
       "                           actor_1_facebook_likes     gross  num_users_voted  \\\n",
       "num_critic_reviews                       0.306828  0.468421         0.731484   \n",
       "duration                                 0.251282  0.284007         0.407486   \n",
       "director_facebook_likes                  0.169594  0.159314         0.275338   \n",
       "actor_3_facebook_likes                   0.457013  0.299079         0.260407   \n",
       "actor_1_facebook_likes                   1.000000  0.234177         0.356501   \n",
       "gross                                    0.234177  1.000000         0.678198   \n",
       "num_users_voted                          0.356501  0.678198         1.000000   \n",
       "cast_total_facebook_likes                0.949536  0.275303         0.372880   \n",
       "num_user_reviews                         0.251123  0.548891         0.812196   \n",
       "budget                                   0.270241  0.698069         0.502887   \n",
       "title_year                               0.126885  0.106414         0.147753   \n",
       "actor_2_facebook_likes                   0.575360  0.304119         0.313899   \n",
       "movie_score                              0.220865  0.217524         0.528849   \n",
       "aspect_ratio                             0.162111  0.117558         0.178639   \n",
       "movie_facebook_likes                     0.251933  0.314723         0.539092   \n",
       "budget_millions                          0.270241  0.698069         0.502887   \n",
       "gross_millions                           0.234177  1.000000         0.678198   \n",
       "profit_millions                          0.051218  0.646815         0.427362   \n",
       "roi                                      0.002077  0.425286         0.299402   \n",
       "profit_margin                            0.077789  0.523877         0.369899   \n",
       "\n",
       "                           cast_total_facebook_likes  num_user_reviews  \\\n",
       "num_critic_reviews                          0.320250          0.641283   \n",
       "duration                                    0.263182          0.430204   \n",
       "director_facebook_likes                     0.164894          0.260489   \n",
       "actor_3_facebook_likes                      0.614249          0.198525   \n",
       "actor_1_facebook_likes                      0.949536          0.251123   \n",
       "gross                                       0.275303          0.548891   \n",
       "num_users_voted                             0.372880          0.812196   \n",
       "cast_total_facebook_likes                   1.000000          0.265089   \n",
       "num_user_reviews                            0.265089          1.000000   \n",
       "budget                                      0.302708          0.435769   \n",
       "title_year                                  0.137308         -0.028604   \n",
       "actor_2_facebook_likes                      0.728906          0.229037   \n",
       "movie_score                                 0.208624          0.398325   \n",
       "aspect_ratio                                0.154215          0.170865   \n",
       "movie_facebook_likes                        0.270540          0.360015   \n",
       "budget_millions                             0.302708          0.435769   \n",
       "gross_millions                              0.275303          0.548891   \n",
       "profit_millions                             0.080903          0.315828   \n",
       "roi                                         0.012476          0.260695   \n",
       "profit_margin                               0.094401          0.333228   \n",
       "\n",
       "                             budget  title_year  actor_2_facebook_likes  \\\n",
       "num_critic_reviews         0.390290    0.533642                0.255204   \n",
       "duration                   0.359339    0.028947                0.210649   \n",
       "director_facebook_likes    0.191359    0.012941                0.105992   \n",
       "actor_3_facebook_likes     0.285447    0.075708                0.764108   \n",
       "actor_1_facebook_likes     0.270241    0.126885                0.575360   \n",
       "gross                      0.698069    0.106414                0.304119   \n",
       "num_users_voted            0.502887    0.147753                0.313899   \n",
       "cast_total_facebook_likes  0.302708    0.137308                0.728906   \n",
       "num_user_reviews           0.435769   -0.028604                0.229037   \n",
       "budget                     1.000000    0.089184                0.314703   \n",
       "title_year                 0.089184    1.000000                0.112411   \n",
       "actor_2_facebook_likes     0.314703    0.112411                1.000000   \n",
       "movie_score                0.079945    0.040081                0.111286   \n",
       "aspect_ratio               0.226168    0.225018                0.113840   \n",
       "movie_facebook_likes       0.226584    0.539986                0.215575   \n",
       "budget_millions            1.000000    0.089184                0.314703   \n",
       "gross_millions             0.698069    0.106414                0.304119   \n",
       "profit_millions           -0.039650    0.044589                0.112343   \n",
       "roi                       -0.152262    0.043537                0.016673   \n",
       "profit_margin              0.096608    0.013402                0.116858   \n",
       "\n",
       "                           movie_score  aspect_ratio  movie_facebook_likes  \\\n",
       "num_critic_reviews            0.438234      0.244230              0.711135   \n",
       "duration                      0.405586      0.274454              0.265055   \n",
       "director_facebook_likes       0.243510      0.116658              0.180845   \n",
       "actor_3_facebook_likes        0.050810      0.085667              0.181419   \n",
       "actor_1_facebook_likes        0.220865      0.162111              0.251933   \n",
       "gross                         0.217524      0.117558              0.314723   \n",
       "num_users_voted               0.528849      0.178639              0.539092   \n",
       "cast_total_facebook_likes     0.208624      0.154215              0.270540   \n",
       "num_user_reviews              0.398325      0.170865              0.360015   \n",
       "budget                        0.079945      0.226168              0.226584   \n",
       "title_year                    0.040081      0.225018              0.539986   \n",
       "actor_2_facebook_likes        0.111286      0.113840              0.215575   \n",
       "movie_score                   1.000000      0.091602              0.363006   \n",
       "aspect_ratio                  0.091602      1.000000              0.167405   \n",
       "movie_facebook_likes          0.363006      0.167405              1.000000   \n",
       "budget_millions               0.079945      0.226168              0.226584   \n",
       "gross_millions                0.217524      0.117558              0.314723   \n",
       "profit_millions               0.229417     -0.064170              0.187806   \n",
       "roi                           0.182938     -0.132079              0.190316   \n",
       "profit_margin                 0.158595     -0.053562              0.180755   \n",
       "\n",
       "                           budget_millions  gross_millions  profit_millions  \\\n",
       "num_critic_reviews                0.390290        0.468421         0.239840   \n",
       "duration                          0.359339        0.284007         0.034023   \n",
       "director_facebook_likes           0.191359        0.159314         0.018923   \n",
       "actor_3_facebook_likes            0.285447        0.299079         0.139454   \n",
       "actor_1_facebook_likes            0.270241        0.234177         0.051218   \n",
       "gross                             0.698069        1.000000         0.646815   \n",
       "num_users_voted                   0.502887        0.678198         0.427362   \n",
       "cast_total_facebook_likes         0.302708        0.275303         0.080903   \n",
       "num_user_reviews                  0.435769        0.548891         0.315828   \n",
       "budget                            1.000000        0.698069        -0.039650   \n",
       "title_year                        0.089184        0.106414         0.044589   \n",
       "actor_2_facebook_likes            0.314703        0.304119         0.112343   \n",
       "movie_score                       0.079945        0.217524         0.229417   \n",
       "aspect_ratio                      0.226168        0.117558        -0.064170   \n",
       "movie_facebook_likes              0.226584        0.314723         0.187806   \n",
       "budget_millions                   1.000000        0.698069        -0.039650   \n",
       "gross_millions                    0.698069        1.000000         0.646815   \n",
       "profit_millions                  -0.039650        0.646815         1.000000   \n",
       "roi                              -0.152262        0.425286         0.735619   \n",
       "profit_margin                     0.096608        0.523876         0.629250   \n",
       "\n",
       "                                roi  profit_margin  \n",
       "num_critic_reviews         0.207010       0.272728  \n",
       "duration                  -0.038322       0.031689  \n",
       "director_facebook_likes    0.012067       0.049003  \n",
       "actor_3_facebook_likes     0.038524       0.134176  \n",
       "actor_1_facebook_likes     0.002077       0.077789  \n",
       "gross                      0.425286       0.523877  \n",
       "num_users_voted            0.299402       0.369899  \n",
       "cast_total_facebook_likes  0.012476       0.094401  \n",
       "num_user_reviews           0.260695       0.333228  \n",
       "budget                    -0.152262       0.096608  \n",
       "title_year                 0.043537       0.013402  \n",
       "actor_2_facebook_likes     0.016673       0.116858  \n",
       "movie_score                0.182938       0.158595  \n",
       "aspect_ratio              -0.132079      -0.053562  \n",
       "movie_facebook_likes       0.190316       0.180755  \n",
       "budget_millions           -0.152262       0.096608  \n",
       "gross_millions             0.425286       0.523876  \n",
       "profit_millions            0.735619       0.629250  \n",
       "roi                        1.000000       0.741904  \n",
       "profit_margin              0.741904       1.000000  "
      ]
     },
     "execution_count": 21,
     "metadata": {},
     "output_type": "execute_result"
    }
   ],
   "source": [
    "corr_matrix_trimmed = movies_trimmed.corr()\n",
    "corr_matrix_trimmed.to_csv('corr_matrix_trimmed.csv')\n",
    "\n",
    "corr_matrix_trimmed"
   ]
  },
  {
   "cell_type": "markdown",
   "metadata": {},
   "source": [
    "## Actor Analysis\n",
    "<br>\n",
    "Do certain actors tend to make more successful movies?"
   ]
  },
  {
   "cell_type": "markdown",
   "metadata": {},
   "source": [
    "### Profit per actor, as a percentage of average profit\n",
    "Calculating profit per actor, as a percentage of average profit normalizes the profit metric and allows for analysis of how each actor's average profit compares to the overall average. A number greater than 1 is above average; a number less than 1 is below average.\n",
    "<br>\n",
    "<br>\n",
    "**Method**: (1) filter df to show only actors who have appeared in at least 4 movies; (2) calculate average profit per actor; (3) divide average profit per actor by overall average profit for all actors who have appeared in at least 4 movies.\n",
    "<br>\n",
    "<br>\n",
    "**Result**: There are 58 main actors (actor1), 28 key supporting actors (actor2), and 20 additional supporting actors (actor3) with an average profit, as a pct. of overall average greater than 2 - indicating that the movies these actors act in have an average profit that is at least 200% above the overall average. There is some overlap between the three lists. The actors that appear on these list have a track record of appearing in movies with above-average profit, and should be hired on future movies."
   ]
  },
  {
   "cell_type": "code",
   "execution_count": 12,
   "metadata": {},
   "outputs": [],
   "source": [
    "# actor1\n",
    "# calculate number of movies per actor\n",
    "actor1_counts = movies['actor_1_name'].value_counts()\n",
    "\n",
    "# create a list that contains all actors who have appeared in at least 4 movies\n",
    "actor1_list = actor1_counts[actor1_counts >= 4].index.tolist()\n",
    "\n",
    "# filter movies df to show only actors who have appeared in at least 4 movies\n",
    "actors1 = movies[movies['actor_1_name'].isin(actor1_list)]\n",
    "\n",
    "# groupby actor; calculate average profit per actor\n",
    "actor1_total = actors1.groupby(['actor_1_name'], as_index=False)['profit_millions'].mean().sort_values(by='profit_millions', ascending=False)\n",
    "\n",
    "# calculate difference from mean\n",
    "actor1_total['profit_pct_mean'] = (actor1_total['profit_millions']/actor1_total['profit_millions'].mean())\n",
    "\n",
    "# filter df to show only actors with a profit_pct_mean greater than 2\n",
    "actor1_profit_pct_mean_2 = actor1_total[actor1_total['profit_pct_mean'] > 2]"
   ]
  },
  {
   "cell_type": "code",
   "execution_count": 13,
   "metadata": {},
   "outputs": [],
   "source": [
    "# actor2\n",
    "# calculate number of movies per actor\n",
    "actor2_counts = movies['actor_2_name'].value_counts()\n",
    "\n",
    "# create a list that contains all actors who have appeared in at least 4 movies\n",
    "actor2_list = actor2_counts[actor2_counts >= 4].index.tolist()\n",
    "\n",
    "# filter movies df to show only actors who have appeared in at least 4 movies\n",
    "actors2 = movies[movies['actor_2_name'].isin(actor2_list)]\n",
    "\n",
    "# groupby actor; calculate average profit per actor\n",
    "actor2_total = actors2.groupby(['actor_2_name'], as_index=False)['profit_millions'].mean().sort_values(by='profit_millions', ascending=False)\n",
    "\n",
    "# calculate difference from mean\n",
    "actor2_total['profit_pct_mean'] = (actor2_total['profit_millions']/actor2_total['profit_millions'].mean())\n",
    "\n",
    "# filter df to show only actors with a profit_pct_mean greater than 2\n",
    "actor2_profit_pct_mean_2 = actor2_total[actor2_total['profit_pct_mean'] > 2]"
   ]
  },
  {
   "cell_type": "code",
   "execution_count": 14,
   "metadata": {},
   "outputs": [],
   "source": [
    "# actor3\n",
    "# calculate number of movies per actor\n",
    "actor3_counts = movies['actor_3_name'].value_counts()\n",
    "\n",
    "# create a list that contains all actors who have appeared in at least 4 movies\n",
    "actor3_list = actor3_counts[actor3_counts >= 4].index.tolist()\n",
    "\n",
    "# filter movies df to show only actors who have appeared in at least 4 movies\n",
    "actors3 = movies[movies['actor_3_name'].isin(actor3_list)]\n",
    "\n",
    "# groupby actor; calculate average profit per actor\n",
    "actor3_total = actors3.groupby(['actor_3_name'], as_index=False)['profit_millions'].mean().sort_values(by='profit_millions', ascending=False)\n",
    "\n",
    "# calculate difference from mean\n",
    "actor3_total['profit_pct_mean'] = (actor3_total['profit_millions']/actor3_total['profit_millions'].mean())\n",
    "\n",
    "# filter df to show only actors with a profit_pct_mean greater than 2\n",
    "actor3_profit_pct_mean_2 = actor3_total[actor3_total['profit_pct_mean'] > 2]"
   ]
  },
  {
   "cell_type": "markdown",
   "metadata": {},
   "source": [
    "## Analyze director success\n",
    "\n",
    "Do certain director's tend to make more successful movies?"
   ]
  },
  {
   "cell_type": "markdown",
   "metadata": {},
   "source": [
    "### Profit per director, as a percentage of average profit\n",
    "Calculating profit per director, as a percentage of average profit normalizes the profit metric and allows for analysis of how each director's average profit compares to the overall average. A number greater than 1 is above average; a number less than 1 is below average.\n",
    "<br>\n",
    "<br>\n",
    "**Method**: (1) filter df to show only directors who have directed at least 3 movies; (2) calculate average profit per director; (3) divide average profit per actor by overall average profit for all directors who have directed at least 3 movies\n",
    "<br>\n",
    "<br>\n",
    "**Result**: There are 36 directors with average profit, as a pct. of overall average greater than 2 - indicating that the movies these directors direct have an average profit that is at least 200% above the overall average. The actors that appear on these list have a track record of appearing in movies with above-average profit, and should be hired on future movies."
   ]
  },
  {
   "cell_type": "code",
   "execution_count": 15,
   "metadata": {},
   "outputs": [],
   "source": [
    "#calculating VAR for directors\n",
    "director_counts = movies['director_name'].value_counts()\n",
    "\n",
    "#creating a list with a condition of having appeared in at least 5 movies\n",
    "director_list = director_counts[director_counts >= 5].index.tolist()\n",
    "\n",
    "#creating a dataframe with actors in 5 or more movies\n",
    "director = movies[movies['director_name'].isin(director_list)]\n",
    "\n",
    "#creating a dataframe with actors and the average profit\n",
    "director_total = director.groupby(['director_name'], as_index=False)['profit_millions'].mean().sort_values(by='profit_millions', ascending=False)\n",
    "\n",
    "#creating the profit_pct_mean value feature\n",
    "director_total['profit_pct_mean'] = (director_total['profit_millions']/director_total['profit_millions'].mean())\n",
    "director_profit_pct_mean_2 = director_total[director_total['profit_pct_mean'] > 2] "
   ]
  },
  {
   "cell_type": "markdown",
   "metadata": {},
   "source": [
    "### Summary outcomes by director\n",
    "\n",
    "**Method**: Analyze summary outcomes by director.\n",
    "<br>\n",
    "<br>\n",
    "**Result**: Several of the top directors by revenue and profit have only directed one or two movies and therefore will not be included in the VAR analysis. This indicates while the studio should aim to work with high-VAR directors in order to seek out consistent profit, up-and-coming directors should not be ignored. Further analysis is needed to determine determinants of success for up-and-coming directors."
   ]
  },
  {
   "cell_type": "code",
   "execution_count": 78,
   "metadata": {
    "collapsed": true
   },
   "outputs": [],
   "source": [
    "#group by director; calculate average of relevant variables\n",
    "directors_mean = movies[['director_name','gross_millions','profit_millions','movie_score','budget_millions','director_facebook_likes','movie_facebook_likes']].groupby(['director_name']).mean()"
   ]
  },
  {
   "cell_type": "code",
   "execution_count": 79,
   "metadata": {
    "collapsed": true
   },
   "outputs": [],
   "source": [
    "#group by director; count number of movies\n",
    "directors_count = movies[['director_name','color']].groupby(['director_name']).count().sort_values(by='color',ascending = False)\n",
    "directors_count = directors_count.rename(columns = {'color': 'num_movies'})"
   ]
  },
  {
   "cell_type": "code",
   "execution_count": 83,
   "metadata": {
    "collapsed": true
   },
   "outputs": [],
   "source": [
    "# merge director data into one df\n",
    "directors_df_lst = [directors_mean, directors_count]\n",
    "directors_df = reduce(lambda left,right: pd.merge(left,right,on='director_name'), directors_df_lst)\n",
    "directors_df = directors_df.rename(columns = {'gross_millions': 'avg_gross_millions',\n",
    "                                             'budget_millions': 'avg_budget_million',\n",
    "                                             'movie_score': 'avg_movie_score',\n",
    "                                             'director_facebook_likes':'avg_director_fb_likes',\n",
    "                                             'movie_facebook_likes':'avg_movie_fb_likes'})\n",
    "\n",
    "directors_df['avg_movie_score'] = round(directors_df['avg_movie_score'],2)\n",
    "directors_df['avg_movie_fb_likes'] = round(directors_df['avg_movie_fb_likes'],2)\n",
    "directors_df.to_csv('directors_df.csv')"
   ]
  },
  {
   "cell_type": "code",
   "execution_count": 35,
   "metadata": {
    "collapsed": true
   },
   "outputs": [
    {
     "data": {
      "text/html": [
       "<div>\n",
       "<style scoped>\n",
       "    .dataframe tbody tr th:only-of-type {\n",
       "        vertical-align: middle;\n",
       "    }\n",
       "\n",
       "    .dataframe tbody tr th {\n",
       "        vertical-align: top;\n",
       "    }\n",
       "\n",
       "    .dataframe thead th {\n",
       "        text-align: right;\n",
       "    }\n",
       "</style>\n",
       "<table border=\"1\" class=\"dataframe\">\n",
       "  <thead>\n",
       "    <tr style=\"text-align: right;\">\n",
       "      <th></th>\n",
       "      <th>avg_gross_millions</th>\n",
       "      <th>avg_budget_million</th>\n",
       "      <th>profit_millions</th>\n",
       "      <th>num_movies</th>\n",
       "      <th>avg_movie_score</th>\n",
       "      <th>avg_director_fb_likes</th>\n",
       "      <th>avg_movie_fb_likes</th>\n",
       "    </tr>\n",
       "    <tr>\n",
       "      <th>director_name</th>\n",
       "      <th></th>\n",
       "      <th></th>\n",
       "      <th></th>\n",
       "      <th></th>\n",
       "      <th></th>\n",
       "      <th></th>\n",
       "      <th></th>\n",
       "    </tr>\n",
       "  </thead>\n",
       "  <tbody>\n",
       "    <tr>\n",
       "      <th>James Cameron</th>\n",
       "      <td>709.59</td>\n",
       "      <td>218.50</td>\n",
       "      <td>491.089050</td>\n",
       "      <td>2</td>\n",
       "      <td>7.80</td>\n",
       "      <td>0.0</td>\n",
       "      <td>29500.00</td>\n",
       "    </tr>\n",
       "    <tr>\n",
       "      <th>Tim Miller</th>\n",
       "      <td>363.02</td>\n",
       "      <td>58.00</td>\n",
       "      <td>305.024300</td>\n",
       "      <td>1</td>\n",
       "      <td>8.10</td>\n",
       "      <td>84.0</td>\n",
       "      <td>117000.00</td>\n",
       "    </tr>\n",
       "    <tr>\n",
       "      <th>George Lucas</th>\n",
       "      <td>388.49</td>\n",
       "      <td>114.33</td>\n",
       "      <td>274.160967</td>\n",
       "      <td>3</td>\n",
       "      <td>6.93</td>\n",
       "      <td>0.0</td>\n",
       "      <td>7666.67</td>\n",
       "    </tr>\n",
       "    <tr>\n",
       "      <th>Kyle Balda</th>\n",
       "      <td>336.03</td>\n",
       "      <td>74.00</td>\n",
       "      <td>262.029600</td>\n",
       "      <td>1</td>\n",
       "      <td>6.40</td>\n",
       "      <td>22.0</td>\n",
       "      <td>70000.00</td>\n",
       "    </tr>\n",
       "    <tr>\n",
       "      <th>Colin Trevorrow</th>\n",
       "      <td>328.09</td>\n",
       "      <td>75.38</td>\n",
       "      <td>252.717550</td>\n",
       "      <td>2</td>\n",
       "      <td>7.00</td>\n",
       "      <td>365.0</td>\n",
       "      <td>90500.00</td>\n",
       "    </tr>\n",
       "    <tr>\n",
       "      <th>Chris Buck</th>\n",
       "      <td>400.74</td>\n",
       "      <td>150.00</td>\n",
       "      <td>250.736600</td>\n",
       "      <td>1</td>\n",
       "      <td>7.60</td>\n",
       "      <td>69.0</td>\n",
       "      <td>58000.00</td>\n",
       "    </tr>\n",
       "    <tr>\n",
       "      <th>Yarrow Cheney</th>\n",
       "      <td>323.51</td>\n",
       "      <td>75.00</td>\n",
       "      <td>248.505500</td>\n",
       "      <td>1</td>\n",
       "      <td>6.80</td>\n",
       "      <td>11.0</td>\n",
       "      <td>36000.00</td>\n",
       "    </tr>\n",
       "    <tr>\n",
       "      <th>Pierre Coffin</th>\n",
       "      <td>309.78</td>\n",
       "      <td>72.50</td>\n",
       "      <td>237.275600</td>\n",
       "      <td>2</td>\n",
       "      <td>7.60</td>\n",
       "      <td>275.0</td>\n",
       "      <td>43500.00</td>\n",
       "    </tr>\n",
       "    <tr>\n",
       "      <th>Lee Unkrich</th>\n",
       "      <td>414.98</td>\n",
       "      <td>200.00</td>\n",
       "      <td>214.984500</td>\n",
       "      <td>1</td>\n",
       "      <td>8.30</td>\n",
       "      <td>125.0</td>\n",
       "      <td>30000.00</td>\n",
       "    </tr>\n",
       "    <tr>\n",
       "      <th>Pete Docter</th>\n",
       "      <td>313.11</td>\n",
       "      <td>155.00</td>\n",
       "      <td>158.113800</td>\n",
       "      <td>3</td>\n",
       "      <td>8.23</td>\n",
       "      <td>0.0</td>\n",
       "      <td>48333.33</td>\n",
       "    </tr>\n",
       "  </tbody>\n",
       "</table>\n",
       "</div>"
      ],
      "text/plain": [
       "                 avg_gross_millions  avg_budget_million  profit_millions  \\\n",
       "director_name                                                              \n",
       "James Cameron                709.59              218.50       491.089050   \n",
       "Tim Miller                   363.02               58.00       305.024300   \n",
       "George Lucas                 388.49              114.33       274.160967   \n",
       "Kyle Balda                   336.03               74.00       262.029600   \n",
       "Colin Trevorrow              328.09               75.38       252.717550   \n",
       "Chris Buck                   400.74              150.00       250.736600   \n",
       "Yarrow Cheney                323.51               75.00       248.505500   \n",
       "Pierre Coffin                309.78               72.50       237.275600   \n",
       "Lee Unkrich                  414.98              200.00       214.984500   \n",
       "Pete Docter                  313.11              155.00       158.113800   \n",
       "\n",
       "                 num_movies  avg_movie_score  avg_director_fb_likes  \\\n",
       "director_name                                                         \n",
       "James Cameron             2             7.80                    0.0   \n",
       "Tim Miller                1             8.10                   84.0   \n",
       "George Lucas              3             6.93                    0.0   \n",
       "Kyle Balda                1             6.40                   22.0   \n",
       "Colin Trevorrow           2             7.00                  365.0   \n",
       "Chris Buck                1             7.60                   69.0   \n",
       "Yarrow Cheney             1             6.80                   11.0   \n",
       "Pierre Coffin             2             7.60                  275.0   \n",
       "Lee Unkrich               1             8.30                  125.0   \n",
       "Pete Docter               3             8.23                    0.0   \n",
       "\n",
       "                 avg_movie_fb_likes  \n",
       "director_name                        \n",
       "James Cameron              29500.00  \n",
       "Tim Miller                117000.00  \n",
       "George Lucas                7666.67  \n",
       "Kyle Balda                 70000.00  \n",
       "Colin Trevorrow            90500.00  \n",
       "Chris Buck                 58000.00  \n",
       "Yarrow Cheney              36000.00  \n",
       "Pierre Coffin              43500.00  \n",
       "Lee Unkrich                30000.00  \n",
       "Pete Docter                48333.33  "
      ]
     },
     "execution_count": 35,
     "metadata": {},
     "output_type": "execute_result"
    }
   ],
   "source": [
    "# directors with top average movie scores\n",
    "directors_df_filter.sort_values(by = 'profit_millions', ascending = False).head(10)"
   ]
  },
  {
   "cell_type": "code",
   "execution_count": 36,
   "metadata": {
    "collapsed": true
   },
   "outputs": [
    {
     "data": {
      "text/html": [
       "<div>\n",
       "<style scoped>\n",
       "    .dataframe tbody tr th:only-of-type {\n",
       "        vertical-align: middle;\n",
       "    }\n",
       "\n",
       "    .dataframe tbody tr th {\n",
       "        vertical-align: top;\n",
       "    }\n",
       "\n",
       "    .dataframe thead th {\n",
       "        text-align: right;\n",
       "    }\n",
       "</style>\n",
       "<table border=\"1\" class=\"dataframe\">\n",
       "  <thead>\n",
       "    <tr style=\"text-align: right;\">\n",
       "      <th></th>\n",
       "      <th>avg_gross_millions</th>\n",
       "      <th>avg_budget_million</th>\n",
       "      <th>profit_millions</th>\n",
       "      <th>num_movies</th>\n",
       "      <th>avg_movie_score</th>\n",
       "      <th>avg_director_fb_likes</th>\n",
       "      <th>avg_movie_fb_likes</th>\n",
       "    </tr>\n",
       "    <tr>\n",
       "      <th>director_name</th>\n",
       "      <th></th>\n",
       "      <th></th>\n",
       "      <th></th>\n",
       "      <th></th>\n",
       "      <th></th>\n",
       "      <th></th>\n",
       "      <th></th>\n",
       "    </tr>\n",
       "  </thead>\n",
       "  <tbody>\n",
       "    <tr>\n",
       "      <th>Steven Spielberg</th>\n",
       "      <td>133.66</td>\n",
       "      <td>88.40</td>\n",
       "      <td>45.259013</td>\n",
       "      <td>15</td>\n",
       "      <td>7.27</td>\n",
       "      <td>14000.0</td>\n",
       "      <td>19600.00</td>\n",
       "    </tr>\n",
       "    <tr>\n",
       "      <th>Ron Howard</th>\n",
       "      <td>101.91</td>\n",
       "      <td>83.82</td>\n",
       "      <td>18.092764</td>\n",
       "      <td>11</td>\n",
       "      <td>6.94</td>\n",
       "      <td>2000.0</td>\n",
       "      <td>12785.55</td>\n",
       "    </tr>\n",
       "    <tr>\n",
       "      <th>Shawn Levy</th>\n",
       "      <td>108.19</td>\n",
       "      <td>75.28</td>\n",
       "      <td>32.913970</td>\n",
       "      <td>10</td>\n",
       "      <td>6.16</td>\n",
       "      <td>189.0</td>\n",
       "      <td>8800.00</td>\n",
       "    </tr>\n",
       "    <tr>\n",
       "      <th>Michael Bay</th>\n",
       "      <td>209.38</td>\n",
       "      <td>131.60</td>\n",
       "      <td>77.783740</td>\n",
       "      <td>10</td>\n",
       "      <td>6.57</td>\n",
       "      <td>0.0</td>\n",
       "      <td>25900.00</td>\n",
       "    </tr>\n",
       "    <tr>\n",
       "      <th>M. Night Shyamalan</th>\n",
       "      <td>121.62</td>\n",
       "      <td>72.22</td>\n",
       "      <td>49.399622</td>\n",
       "      <td>9</td>\n",
       "      <td>6.04</td>\n",
       "      <td>0.0</td>\n",
       "      <td>11333.33</td>\n",
       "    </tr>\n",
       "    <tr>\n",
       "      <th>Roland Emmerich</th>\n",
       "      <td>119.05</td>\n",
       "      <td>108.56</td>\n",
       "      <td>10.484438</td>\n",
       "      <td>8</td>\n",
       "      <td>6.19</td>\n",
       "      <td>776.0</td>\n",
       "      <td>20875.00</td>\n",
       "    </tr>\n",
       "    <tr>\n",
       "      <th>Brett Ratner</th>\n",
       "      <td>114.58</td>\n",
       "      <td>92.00</td>\n",
       "      <td>22.584763</td>\n",
       "      <td>8</td>\n",
       "      <td>6.51</td>\n",
       "      <td>420.0</td>\n",
       "      <td>181.00</td>\n",
       "    </tr>\n",
       "    <tr>\n",
       "      <th>Christopher Nolan</th>\n",
       "      <td>226.65</td>\n",
       "      <td>125.62</td>\n",
       "      <td>101.028450</td>\n",
       "      <td>8</td>\n",
       "      <td>8.43</td>\n",
       "      <td>22000.0</td>\n",
       "      <td>103625.00</td>\n",
       "    </tr>\n",
       "    <tr>\n",
       "      <th>Chris Columbus</th>\n",
       "      <td>117.52</td>\n",
       "      <td>77.00</td>\n",
       "      <td>40.520100</td>\n",
       "      <td>8</td>\n",
       "      <td>6.52</td>\n",
       "      <td>0.0</td>\n",
       "      <td>8375.00</td>\n",
       "    </tr>\n",
       "    <tr>\n",
       "      <th>Robert Zemeckis</th>\n",
       "      <td>101.80</td>\n",
       "      <td>107.62</td>\n",
       "      <td>-5.822637</td>\n",
       "      <td>8</td>\n",
       "      <td>7.01</td>\n",
       "      <td>0.0</td>\n",
       "      <td>17375.00</td>\n",
       "    </tr>\n",
       "  </tbody>\n",
       "</table>\n",
       "</div>"
      ],
      "text/plain": [
       "                    avg_gross_millions  avg_budget_million  profit_millions  \\\n",
       "director_name                                                                 \n",
       "Steven Spielberg                133.66               88.40        45.259013   \n",
       "Ron Howard                      101.91               83.82        18.092764   \n",
       "Shawn Levy                      108.19               75.28        32.913970   \n",
       "Michael Bay                     209.38              131.60        77.783740   \n",
       "M. Night Shyamalan              121.62               72.22        49.399622   \n",
       "Roland Emmerich                 119.05              108.56        10.484438   \n",
       "Brett Ratner                    114.58               92.00        22.584763   \n",
       "Christopher Nolan               226.65              125.62       101.028450   \n",
       "Chris Columbus                  117.52               77.00        40.520100   \n",
       "Robert Zemeckis                 101.80              107.62        -5.822637   \n",
       "\n",
       "                    num_movies  avg_movie_score  avg_director_fb_likes  \\\n",
       "director_name                                                            \n",
       "Steven Spielberg            15             7.27                14000.0   \n",
       "Ron Howard                  11             6.94                 2000.0   \n",
       "Shawn Levy                  10             6.16                  189.0   \n",
       "Michael Bay                 10             6.57                    0.0   \n",
       "M. Night Shyamalan           9             6.04                    0.0   \n",
       "Roland Emmerich              8             6.19                  776.0   \n",
       "Brett Ratner                 8             6.51                  420.0   \n",
       "Christopher Nolan            8             8.43                22000.0   \n",
       "Chris Columbus               8             6.52                    0.0   \n",
       "Robert Zemeckis              8             7.01                    0.0   \n",
       "\n",
       "                    avg_movie_fb_likes  \n",
       "director_name                           \n",
       "Steven Spielberg              19600.00  \n",
       "Ron Howard                    12785.55  \n",
       "Shawn Levy                     8800.00  \n",
       "Michael Bay                   25900.00  \n",
       "M. Night Shyamalan            11333.33  \n",
       "Roland Emmerich               20875.00  \n",
       "Brett Ratner                    181.00  \n",
       "Christopher Nolan            103625.00  \n",
       "Chris Columbus                 8375.00  \n",
       "Robert Zemeckis               17375.00  "
      ]
     },
     "execution_count": 36,
     "metadata": {},
     "output_type": "execute_result"
    }
   ],
   "source": [
    "# directors who directed the largest number of movies\n",
    "directors_df_filter.sort_values(by = 'num_movies', ascending = False).head(10)"
   ]
  },
  {
   "cell_type": "markdown",
   "metadata": {},
   "source": [
    "## Analzye Genre Success\n",
    "\n",
    "**Method**: Analyze summary outcomes by genre. Movies can be classified under more than one genre; for this analysis, any movies that is classified under a genre is included in that genre's analysis. For example - a movie whose genres are \"romance\" and \"comedy\" will be included in the analyses for both genres."
   ]
  },
  {
   "cell_type": "code",
   "execution_count": 37,
   "metadata": {
    "collapsed": true
   },
   "outputs": [
    {
     "data": {
      "text/plain": [
       "Comedy                                               124\n",
       "Comedy|Drama|Romance                                 123\n",
       "Comedy|Romance                                       122\n",
       "Comedy|Drama                                         119\n",
       "Drama                                                107\n",
       "                                                    ... \n",
       "Adventure|Comedy|Family|Fantasy|Horror|Mystery         1\n",
       "Action|Adventure|Biography|Drama|History|Thriller      1\n",
       "Adventure|Drama|Mystery                                1\n",
       "Action|Adventure|Comedy|Family|Romance                 1\n",
       "Adventure|Comedy|Horror|Sci-Fi                         1\n",
       "Name: genres, Length: 632, dtype: int64"
      ]
     },
     "execution_count": 37,
     "metadata": {},
     "output_type": "execute_result"
    }
   ],
   "source": [
    "movies['genres'].value_counts()"
   ]
  },
  {
   "cell_type": "code",
   "execution_count": 39,
   "metadata": {
    "collapsed": true
   },
   "outputs": [
    {
     "name": "stderr",
     "output_type": "stream",
     "text": [
      "/Users/kristinkent/miniconda3/lib/python3.7/site-packages/ipykernel_launcher.py:12: SettingWithCopyWarning: \n",
      "A value is trying to be set on a copy of a slice from a DataFrame\n",
      "\n",
      "See the caveats in the documentation: https://pandas.pydata.org/pandas-docs/stable/user_guide/indexing.html#returning-a-view-versus-a-copy\n",
      "  if sys.path[0] == '':\n",
      "/Users/kristinkent/miniconda3/lib/python3.7/site-packages/ipykernel_launcher.py:14: SettingWithCopyWarning: \n",
      "A value is trying to be set on a copy of a slice from a DataFrame\n",
      "\n",
      "See the caveats in the documentation: https://pandas.pydata.org/pandas-docs/stable/user_guide/indexing.html#returning-a-view-versus-a-copy\n",
      "  \n"
     ]
    }
   ],
   "source": [
    "# add binary genre variable to movies df\n",
    "\n",
    "#create list of genres\n",
    "genre_lst = ['Action','Adventure','Animation','Comedy','Crime','Documentary','Drama','Family','Fantasy','Music','Mystery','Thriller','Horror','Romance','Sci-Fi']\n",
    "\n",
    "# create column for each genre in genre_lst\n",
    "for x in genre_lst:\n",
    "    movies['genre_' + x.lower()] = \"\"\n",
    "\n",
    "# populate columns with binary field\n",
    "for x in range(len(movies['genres'])):\n",
    "    for y in genre_lst:\n",
    "        if y in movies['genres'][x]:\n",
    "            movies['genre_' + y.lower()][x] = y.lower()\n",
    "        else:\n",
    "            movies['genre_' + y.lower()][x] = 'not ' + y.lower()"
   ]
  },
  {
   "cell_type": "markdown",
   "metadata": {},
   "source": [
    "### Create df to analyze average outcome by genre"
   ]
  },
  {
   "cell_type": "code",
   "execution_count": 40,
   "metadata": {},
   "outputs": [],
   "source": [
    "genre_avg = pd.DataFrame()\n",
    "for x in genre_lst:\n",
    "    x = movies.groupby(['genre_' + x.lower()]).mean()\n",
    "    x = x.rename_axis('genre', axis= 0)\n",
    "    genre_avg = genre_avg.append(x)\n",
    "\n",
    "genre_avg = genre_avg[genre_avg.index.str.contains(\"not\")==False]"
   ]
  },
  {
   "cell_type": "markdown",
   "metadata": {},
   "source": [
    "#### barplot - average gross by genre"
   ]
  },
  {
   "cell_type": "code",
   "execution_count": 41,
   "metadata": {
    "collapsed": true
   },
   "outputs": [
    {
     "data": {
      "image/png": "[encoded data removed]",
      "text/plain": [
       "<Figure size 432x288 with 1 Axes>"
      ]
     },
     "metadata": {
      "needs_background": "light"
     },
     "output_type": "display_data"
    }
   ],
   "source": [
    "genre_avg_gross = sns.barplot(x= genre_avg.index, y=\"gross_millions\", data=genre_avg)\n",
    "genre_avg_gross.set_xticklabels(genre_avg_gross.get_xticklabels(),rotation=45)\n",
    "genre_avg_gross.axhline(mean_gross)\n",
    "sns.set(rc={'figure.figsize':(20,20)})\n",
    "sns.set(font_scale=2)\n",
    "\n",
    "#plt.savefig('genre_avg_gross.png')"
   ]
  },
  {
   "cell_type": "markdown",
   "metadata": {},
   "source": [
    "#### barplot - average profit by genre"
   ]
  },
  {
   "cell_type": "code",
   "execution_count": 54,
   "metadata": {
    "collapsed": true
   },
   "outputs": [
    {
     "data": {
      "image/png": "[encoded data removed]",
      "text/plain": [
       "<Figure size 1440x1440 with 1 Axes>"
      ]
     },
     "metadata": {},
     "output_type": "display_data"
    }
   ],
   "source": [
    "genre_avg_profit = sns.barplot(x= genre_avg.index, y=\"profit_millions\", data=genre_avg)\n",
    "genre_avg_profit.set_xticklabels(genre_avg_revenue.get_xticklabels(),rotation=45)\n",
    "sns.set(rc={'figure.figsize':(20,20)})\n",
    "sns.set(font_scale=2)\n",
    "genre_avg_profit.axhline(mean_profit)\n",
    "\n",
    "#plt.savefig('genre_avg_profit.png')"
   ]
  },
  {
   "cell_type": "markdown",
   "metadata": {},
   "source": [
    "### Create df to analyze total outcome (sum) by genre"
   ]
  },
  {
   "cell_type": "code",
   "execution_count": 51,
   "metadata": {},
   "outputs": [],
   "source": [
    "genre_sum = pd.DataFrame()\n",
    "for x in genre_lst:\n",
    "    x = movies.groupby(['genre_' + x.lower()]).sum()\n",
    "    x = x.rename_axis('genre', axis= 0)\n",
    "    genre_sum = genre_sum.append(x)\n",
    "\n",
    "genre_sum = genre_sum[genre_sum.index.str.contains(\"not\")==False]\n"
   ]
  },
  {
   "cell_type": "markdown",
   "metadata": {},
   "source": [
    "#### barplot - total gross by genre"
   ]
  },
  {
   "cell_type": "code",
   "execution_count": 55,
   "metadata": {
    "collapsed": true
   },
   "outputs": [
    {
     "data": {
      "image/png": "[encoded data removed]",
      "text/plain": [
       "<Figure size 1440x1440 with 1 Axes>"
      ]
     },
     "metadata": {},
     "output_type": "display_data"
    }
   ],
   "source": [
    "genre_sum_gross = sns.barplot(x= genre_sum.index, y=\"gross_millions\", data=genre_sum)\n",
    "genre_sum_gross.set_xticklabels(genre_sum_gross.get_xticklabels(),rotation=45)\n",
    "sns.set(rc={'figure.figsize':(20,20)})\n",
    "sns.set(font_scale=2)\n",
    "\n",
    "#plt.savefig('genre_sum_gross.png')"
   ]
  },
  {
   "cell_type": "markdown",
   "metadata": {},
   "source": [
    "#### barplot - total profit by genre"
   ]
  },
  {
   "cell_type": "code",
   "execution_count": 64,
   "metadata": {
    "collapsed": true
   },
   "outputs": [
    {
     "data": {
      "image/png": "[encoded data removed]",
      "text/plain": [
       "<Figure size 1440x1440 with 1 Axes>"
      ]
     },
     "metadata": {},
     "output_type": "display_data"
    }
   ],
   "source": [
    "genre_sum_revenue = sns.barplot(x= genre_sum.index, y=\"profit_millions\", data=genre_sum)\n",
    "genre_sum_revenue.set_xticklabels(genre_sum_revenue.get_xticklabels(),rotation=45)\n",
    "sns.set(rc={'figure.figsize':(20,15)})\n",
    "sns.set(font_scale=2)\n",
    "\n",
    "#plt.savefig('genre_sum_profit.png')"
   ]
  },
  {
   "cell_type": "markdown",
   "metadata": {},
   "source": [
    "### Create df to analyze count by genre"
   ]
  },
  {
   "cell_type": "code",
   "execution_count": 63,
   "metadata": {
    "collapsed": true
   },
   "outputs": [
    {
     "data": {
      "text/html": [
       "<div>\n",
       "<style scoped>\n",
       "    .dataframe tbody tr th:only-of-type {\n",
       "        vertical-align: middle;\n",
       "    }\n",
       "\n",
       "    .dataframe tbody tr th {\n",
       "        vertical-align: top;\n",
       "    }\n",
       "\n",
       "    .dataframe thead th {\n",
       "        text-align: right;\n",
       "    }\n",
       "</style>\n",
       "<table border=\"1\" class=\"dataframe\">\n",
       "  <thead>\n",
       "    <tr style=\"text-align: right;\">\n",
       "      <th></th>\n",
       "      <th>color</th>\n",
       "      <th>pct_total</th>\n",
       "    </tr>\n",
       "    <tr>\n",
       "      <th>genre</th>\n",
       "      <th></th>\n",
       "      <th></th>\n",
       "    </tr>\n",
       "  </thead>\n",
       "  <tbody>\n",
       "    <tr>\n",
       "      <th>action</th>\n",
       "      <td>691</td>\n",
       "      <td>0.085711</td>\n",
       "    </tr>\n",
       "    <tr>\n",
       "      <th>adventure</th>\n",
       "      <td>564</td>\n",
       "      <td>0.069958</td>\n",
       "    </tr>\n",
       "    <tr>\n",
       "      <th>animation</th>\n",
       "      <td>175</td>\n",
       "      <td>0.021707</td>\n",
       "    </tr>\n",
       "    <tr>\n",
       "      <th>comedy</th>\n",
       "      <td>1215</td>\n",
       "      <td>0.150707</td>\n",
       "    </tr>\n",
       "    <tr>\n",
       "      <th>crime</th>\n",
       "      <td>545</td>\n",
       "      <td>0.067601</td>\n",
       "    </tr>\n",
       "    <tr>\n",
       "      <th>documentary</th>\n",
       "      <td>37</td>\n",
       "      <td>0.004589</td>\n",
       "    </tr>\n",
       "    <tr>\n",
       "      <th>drama</th>\n",
       "      <td>1444</td>\n",
       "      <td>0.179112</td>\n",
       "    </tr>\n",
       "    <tr>\n",
       "      <th>family</th>\n",
       "      <td>369</td>\n",
       "      <td>0.045770</td>\n",
       "    </tr>\n",
       "    <tr>\n",
       "      <th>fantasy</th>\n",
       "      <td>374</td>\n",
       "      <td>0.046390</td>\n",
       "    </tr>\n",
       "    <tr>\n",
       "      <th>music</th>\n",
       "      <td>168</td>\n",
       "      <td>0.020839</td>\n",
       "    </tr>\n",
       "    <tr>\n",
       "      <th>mystery</th>\n",
       "      <td>313</td>\n",
       "      <td>0.038824</td>\n",
       "    </tr>\n",
       "    <tr>\n",
       "      <th>thriller</th>\n",
       "      <td>847</td>\n",
       "      <td>0.105061</td>\n",
       "    </tr>\n",
       "    <tr>\n",
       "      <th>horror</th>\n",
       "      <td>277</td>\n",
       "      <td>0.034359</td>\n",
       "    </tr>\n",
       "    <tr>\n",
       "      <th>romance</th>\n",
       "      <td>668</td>\n",
       "      <td>0.082858</td>\n",
       "    </tr>\n",
       "    <tr>\n",
       "      <th>sci-fi</th>\n",
       "      <td>375</td>\n",
       "      <td>0.046515</td>\n",
       "    </tr>\n",
       "  </tbody>\n",
       "</table>\n",
       "</div>"
      ],
      "text/plain": [
       "             color  pct_total\n",
       "genre                        \n",
       "action         691   0.085711\n",
       "adventure      564   0.069958\n",
       "animation      175   0.021707\n",
       "comedy        1215   0.150707\n",
       "crime          545   0.067601\n",
       "documentary     37   0.004589\n",
       "drama         1444   0.179112\n",
       "family         369   0.045770\n",
       "fantasy        374   0.046390\n",
       "music          168   0.020839\n",
       "mystery        313   0.038824\n",
       "thriller       847   0.105061\n",
       "horror         277   0.034359\n",
       "romance        668   0.082858\n",
       "sci-fi         375   0.046515"
      ]
     },
     "execution_count": 63,
     "metadata": {},
     "output_type": "execute_result"
    }
   ],
   "source": [
    "genre_count = pd.DataFrame()\n",
    "for x in genre_lst:\n",
    "    x = movies.groupby(['genre_' + x.lower()]).count()\n",
    "    x = x.rename_axis('genre', axis= 0)\n",
    "    genre_count = genre_count.append(x)\n",
    "\n",
    "genre_count = genre_count[genre_count.index.str.contains(\"not\")==False]\n",
    "genre_count['pct_total']= genre_count['color'] / genre_count['color'].sum()\n",
    "\n",
    "genre_count = genre_count[['color','pct_total']].copy()\n",
    "genre_count.rename(columns={\"color\": \"count\"})"
   ]
  },
  {
   "cell_type": "markdown",
   "metadata": {},
   "source": [
    "# Ideas for additional analysis\n",
    "\n",
    "How successful are sequels and series'?\n",
    "<br>\n",
    "Closer look at popular groupings of genres (i.e. romance and comedy; action and adventure)\n",
    "<br>\n",
    "Analysis of whether or not facebook likes predict actor success"
   ]
  },
  {
   "cell_type": "code",
   "execution_count": null,
   "metadata": {
    "collapsed": true
   },
   "outputs": [],
   "source": []
  }
 ],
 "metadata": {
  "kernelspec": {
   "display_name": "Python 3",
   "language": "python",
   "name": "python3"
  },
  "language_info": {
   "codemirror_mode": {
    "name": "ipython",
    "version": 3
   },
   "file_extension": ".py",
   "mimetype": "text/x-python",
   "name": "python",
   "nbconvert_exporter": "python",
   "pygments_lexer": "ipython3",
   "version": "3.7.6"
  }
 },
 "nbformat": 4,
 "nbformat_minor": 4
}

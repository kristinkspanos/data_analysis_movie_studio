{
 "cells": [
  {
   "cell_type": "markdown",
   "metadata": {},
   "source": [
    "# Determinants of Box Office Success"
   ]
  },
  {
   "cell_type": "markdown",
   "metadata": {},
   "source": [
    "## Import Modules and Data"
   ]
  },
  {
   "cell_type": "code",
   "execution_count": 1,
   "metadata": {},
   "outputs": [],
   "source": [
    "import pandas as pd\n",
    "import numpy as np\n",
    "from functools import reduce\n",
    "from scipy.stats import iqr\n",
    "\n",
    "# visualization tools\n",
    "%matplotlib inline\n",
    "import matplotlib.pyplot as plt\n",
    "import seaborn as sns"
   ]
  },
  {
   "cell_type": "code",
   "execution_count": 2,
   "metadata": {},
   "outputs": [],
   "source": [
    "movies = pd.read_csv('movie_data.csv')"
   ]
  },
  {
   "cell_type": "markdown",
   "metadata": {},
   "source": [
    "## Explore and Clean Dataset"
   ]
  },
  {
   "cell_type": "markdown",
   "metadata": {},
   "source": [
    "**Numeric variables:** \n",
    "- <code>num_critic_reviews</code>\n",
    "- <code>duration</code>\n",
    "- <code>director_facebook_likes</code>\n",
    "- <code>actor_1_facebook_likes</code>\n",
    "- <code>actor_2_facebook_likes</code>\n",
    "- <code>actor_3_facebook_likes</code>\n",
    "- <code>movie_facebook_likes</code>\n",
    "- <code>gross</code>\n",
    "- <code>num_users_voted (int)</code>\n",
    "- <code>cast_total_facebook_likes (int)</code>\n",
    "- <code>num_user_reviews</code>\n",
    "- <code>budget</code>\n",
    "- <code>title_year</code>\n",
    "- <code>movie_score</code>\n",
    "- <code>aspect_ratio (int)</code>\n",
    "\n",
    "**Categorical variables:** \n",
    "- <code>color</code>\n",
    "- <code>director_name</code>\n",
    "- <code>actor_1_name</code>\n",
    "- <code>actor_2_name</code>\n",
    "- <code>actor_3_name</code>\n",
    "- <code>genres</code>\n",
    "- <code>plot_keywords</code>\n",
    "- <code>language</code>\n",
    "- <code>country</code>\n",
    "- <code>content_rating</code>"
   ]
  },
  {
   "cell_type": "code",
   "execution_count": 3,
   "metadata": {
    "scrolled": true
   },
   "outputs": [
    {
     "name": "stdout",
     "output_type": "stream",
     "text": [
      "<class 'pandas.core.frame.DataFrame'>\n",
      "RangeIndex: 5043 entries, 0 to 5042\n",
      "Data columns (total 26 columns):\n",
      " #   Column                     Non-Null Count  Dtype  \n",
      "---  ------                     --------------  -----  \n",
      " 0   color                      5024 non-null   object \n",
      " 1   director_name              4939 non-null   object \n",
      " 2   num_critic_reviews         4993 non-null   float64\n",
      " 3   duration                   5028 non-null   float64\n",
      " 4   director_facebook_likes    4939 non-null   float64\n",
      " 5   actor_3_facebook_likes     5020 non-null   float64\n",
      " 6   actor_2_name               5030 non-null   object \n",
      " 7   actor_1_facebook_likes     5036 non-null   float64\n",
      " 8   gross                      4159 non-null   float64\n",
      " 9   genres                     5043 non-null   object \n",
      " 10  actor_1_name               5036 non-null   object \n",
      " 11  movie_title                5043 non-null   object \n",
      " 12  num_users_voted            5043 non-null   int64  \n",
      " 13  cast_total_facebook_likes  5043 non-null   int64  \n",
      " 14  actor_3_name               5020 non-null   object \n",
      " 15  plot_keywords              4890 non-null   object \n",
      " 16  num_user_reviews           5022 non-null   float64\n",
      " 17  language                   5031 non-null   object \n",
      " 18  country                    5038 non-null   object \n",
      " 19  content_rating             4740 non-null   object \n",
      " 20  budget                     4551 non-null   float64\n",
      " 21  title_year                 4935 non-null   float64\n",
      " 22  actor_2_facebook_likes     5030 non-null   float64\n",
      " 23  movie_score                5043 non-null   float64\n",
      " 24  aspect_ratio               4714 non-null   float64\n",
      " 25  movie_facebook_likes       5043 non-null   int64  \n",
      "dtypes: float64(12), int64(3), object(11)\n",
      "memory usage: 1.0+ MB\n"
     ]
    }
   ],
   "source": [
    "movies.info()"
   ]
  },
  {
   "cell_type": "code",
   "execution_count": 4,
   "metadata": {},
   "outputs": [],
   "source": [
    "# remove duplicate rows based on the 'movie_title' and 'title_year' column\n",
    "movies.drop_duplicates(subset=['movie_title','title_year'], keep=False, inplace=True)\n",
    "\n",
    "# reset index\n",
    "movies.reset_index(drop=True, inplace=True)"
   ]
  },
  {
   "cell_type": "code",
   "execution_count": 5,
   "metadata": {},
   "outputs": [],
   "source": [
    "# replace zeros in budget and gross columns with NaN\n",
    "movies['budget'] = movies['budget'].replace(0, np.NaN)\n",
    "movies['gross'] = movies['gross'].replace(0,np.NaN)\n",
    "\n",
    "# transform budget and gross metrics to show in millions\n",
    "movies['budget_millions'] = round(movies['budget'] / 1000000, 4)\n",
    "movies['gross_millions'] = round(movies['gross'] / 1000000, 4)\n",
    "\n",
    "# add calculated columns\n",
    "movies['profit_millions'] = movies['gross_millions'] - movies['budget_millions']\n",
    "movies['roi'] = round((movies['profit_millions'] / movies['budget_millions']), 4)\n",
    "movies['profit_margin'] = movies['profit_millions'] / movies['gross_millions']"
   ]
  },
  {
   "cell_type": "markdown",
   "metadata": {},
   "source": [
    "### Remove irrelevant movies\n",
    "**Challenge**<br>\n",
    "The dataset contains movies that are not relevant to the move studio's current strategy, including movies from as early as 1916 and non-English language movies.\n",
    "<br>\n",
    "<br>\n",
    "**Solution**<br>\n",
    "Filter <code>movies</code> to exclude all movies released prior to 1996 and all non-English language movies."
   ]
  },
  {
   "cell_type": "code",
   "execution_count": 6,
   "metadata": {},
   "outputs": [],
   "source": [
    "# remove all movies from before the year 1996 in order to focus on the most recent data points\n",
    "movies = movies[movies['title_year']>=1996]\n",
    "\n",
    "# keep only English language movies\n",
    "movies = movies[movies['language'] == 'English']\n",
    "\n",
    "movies.reset_index(drop=True, inplace=True)"
   ]
  },
  {
   "cell_type": "markdown",
   "metadata": {},
   "source": [
    "### Explore Numeric Variables\n",
    "The numeric variables can be divided into four categories: \n",
    "- Inputs (metrics that the movie studio can influence) \n",
    "- Non-financial metrics that represent the popularity of the actors and directors in a movie \n",
    "- Non-financial metrics of a movie’s success \n",
    "- Financial metrics of a movie’s success "
   ]
  },
  {
   "cell_type": "code",
   "execution_count": 7,
   "metadata": {},
   "outputs": [
    {
     "data": {
      "text/html": [
       "<div>\n",
       "<style scoped>\n",
       "    .dataframe tbody tr th:only-of-type {\n",
       "        vertical-align: middle;\n",
       "    }\n",
       "\n",
       "    .dataframe tbody tr th {\n",
       "        vertical-align: top;\n",
       "    }\n",
       "\n",
       "    .dataframe thead th {\n",
       "        text-align: right;\n",
       "    }\n",
       "</style>\n",
       "<table border=\"1\" class=\"dataframe\">\n",
       "  <thead>\n",
       "    <tr style=\"text-align: right;\">\n",
       "      <th></th>\n",
       "      <th>num_critic_reviews</th>\n",
       "      <th>duration</th>\n",
       "      <th>director_facebook_likes</th>\n",
       "      <th>actor_3_facebook_likes</th>\n",
       "      <th>actor_1_facebook_likes</th>\n",
       "      <th>gross</th>\n",
       "      <th>num_users_voted</th>\n",
       "      <th>cast_total_facebook_likes</th>\n",
       "      <th>num_user_reviews</th>\n",
       "      <th>budget</th>\n",
       "      <th>title_year</th>\n",
       "      <th>actor_2_facebook_likes</th>\n",
       "      <th>movie_score</th>\n",
       "      <th>aspect_ratio</th>\n",
       "      <th>movie_facebook_likes</th>\n",
       "      <th>budget_millions</th>\n",
       "      <th>gross_millions</th>\n",
       "      <th>profit_millions</th>\n",
       "      <th>roi</th>\n",
       "      <th>profit_margin</th>\n",
       "    </tr>\n",
       "  </thead>\n",
       "  <tbody>\n",
       "    <tr>\n",
       "      <th>count</th>\n",
       "      <td>3594.000000</td>\n",
       "      <td>3622.000000</td>\n",
       "      <td>3631.000000</td>\n",
       "      <td>3617.000000</td>\n",
       "      <td>3625.000000</td>\n",
       "      <td>3.192000e+03</td>\n",
       "      <td>3.631000e+03</td>\n",
       "      <td>3631.000000</td>\n",
       "      <td>3617.000000</td>\n",
       "      <td>3.341000e+03</td>\n",
       "      <td>3631.000000</td>\n",
       "      <td>3623.000000</td>\n",
       "      <td>3631.000000</td>\n",
       "      <td>3386.000000</td>\n",
       "      <td>3631.000000</td>\n",
       "      <td>3341.000000</td>\n",
       "      <td>3192.000000</td>\n",
       "      <td>2982.000000</td>\n",
       "      <td>2982.000000</td>\n",
       "      <td>2982.000000</td>\n",
       "    </tr>\n",
       "    <tr>\n",
       "      <th>mean</th>\n",
       "      <td>153.584864</td>\n",
       "      <td>105.881005</td>\n",
       "      <td>607.035527</td>\n",
       "      <td>719.228090</td>\n",
       "      <td>7353.553103</td>\n",
       "      <td>4.835620e+07</td>\n",
       "      <td>8.478490e+04</td>\n",
       "      <td>10854.106582</td>\n",
       "      <td>285.698092</td>\n",
       "      <td>3.705414e+07</td>\n",
       "      <td>2006.619664</td>\n",
       "      <td>1856.759868</td>\n",
       "      <td>6.273120</td>\n",
       "      <td>2.159338</td>\n",
       "      <td>8359.975213</td>\n",
       "      <td>37.054139</td>\n",
       "      <td>48.356203</td>\n",
       "      <td>10.205826</td>\n",
       "      <td>5.254617</td>\n",
       "      <td>-39.832713</td>\n",
       "    </tr>\n",
       "    <tr>\n",
       "      <th>std</th>\n",
       "      <td>125.332016</td>\n",
       "      <td>19.350855</td>\n",
       "      <td>2673.283090</td>\n",
       "      <td>1787.452942</td>\n",
       "      <td>16377.690434</td>\n",
       "      <td>6.784123e+07</td>\n",
       "      <td>1.355017e+05</td>\n",
       "      <td>19643.965493</td>\n",
       "      <td>392.308665</td>\n",
       "      <td>4.413287e+07</td>\n",
       "      <td>5.590324</td>\n",
       "      <td>4379.039825</td>\n",
       "      <td>1.099651</td>\n",
       "      <td>0.833793</td>\n",
       "      <td>21180.567963</td>\n",
       "      <td>44.132871</td>\n",
       "      <td>67.841232</td>\n",
       "      <td>51.715350</td>\n",
       "      <td>148.874059</td>\n",
       "      <td>860.296987</td>\n",
       "    </tr>\n",
       "    <tr>\n",
       "      <th>min</th>\n",
       "      <td>1.000000</td>\n",
       "      <td>7.000000</td>\n",
       "      <td>0.000000</td>\n",
       "      <td>0.000000</td>\n",
       "      <td>0.000000</td>\n",
       "      <td>1.620000e+02</td>\n",
       "      <td>5.000000e+00</td>\n",
       "      <td>0.000000</td>\n",
       "      <td>1.000000</td>\n",
       "      <td>2.180000e+02</td>\n",
       "      <td>1996.000000</td>\n",
       "      <td>0.000000</td>\n",
       "      <td>1.600000</td>\n",
       "      <td>1.330000</td>\n",
       "      <td>0.000000</td>\n",
       "      <td>0.000200</td>\n",
       "      <td>0.000200</td>\n",
       "      <td>-598.397500</td>\n",
       "      <td>-1.000000</td>\n",
       "      <td>-44999.000000</td>\n",
       "    </tr>\n",
       "    <tr>\n",
       "      <th>25%</th>\n",
       "      <td>62.000000</td>\n",
       "      <td>93.000000</td>\n",
       "      <td>8.000000</td>\n",
       "      <td>179.000000</td>\n",
       "      <td>701.000000</td>\n",
       "      <td>5.746694e+06</td>\n",
       "      <td>9.248500e+03</td>\n",
       "      <td>1752.000000</td>\n",
       "      <td>70.000000</td>\n",
       "      <td>8.000000e+06</td>\n",
       "      <td>2002.000000</td>\n",
       "      <td>352.000000</td>\n",
       "      <td>5.700000</td>\n",
       "      <td>1.850000</td>\n",
       "      <td>0.000000</td>\n",
       "      <td>8.000000</td>\n",
       "      <td>5.746675</td>\n",
       "      <td>-11.006600</td>\n",
       "      <td>-0.554300</td>\n",
       "      <td>-1.243503</td>\n",
       "    </tr>\n",
       "    <tr>\n",
       "      <th>50%</th>\n",
       "      <td>126.000000</td>\n",
       "      <td>102.000000</td>\n",
       "      <td>47.000000</td>\n",
       "      <td>422.000000</td>\n",
       "      <td>1000.000000</td>\n",
       "      <td>2.559138e+07</td>\n",
       "      <td>3.583400e+04</td>\n",
       "      <td>3690.000000</td>\n",
       "      <td>165.000000</td>\n",
       "      <td>2.200000e+07</td>\n",
       "      <td>2007.000000</td>\n",
       "      <td>651.000000</td>\n",
       "      <td>6.400000</td>\n",
       "      <td>2.350000</td>\n",
       "      <td>199.000000</td>\n",
       "      <td>22.000000</td>\n",
       "      <td>25.591350</td>\n",
       "      <td>0.053300</td>\n",
       "      <td>0.003850</td>\n",
       "      <td>0.003842</td>\n",
       "    </tr>\n",
       "    <tr>\n",
       "      <th>75%</th>\n",
       "      <td>212.000000</td>\n",
       "      <td>116.000000</td>\n",
       "      <td>181.000000</td>\n",
       "      <td>680.000000</td>\n",
       "      <td>12000.000000</td>\n",
       "      <td>6.203284e+07</td>\n",
       "      <td>9.999500e+04</td>\n",
       "      <td>15270.000000</td>\n",
       "      <td>347.000000</td>\n",
       "      <td>5.000000e+07</td>\n",
       "      <td>2011.000000</td>\n",
       "      <td>960.000000</td>\n",
       "      <td>7.000000</td>\n",
       "      <td>2.350000</td>\n",
       "      <td>5000.000000</td>\n",
       "      <td>50.000000</td>\n",
       "      <td>62.032850</td>\n",
       "      <td>21.414100</td>\n",
       "      <td>0.939725</td>\n",
       "      <td>0.484475</td>\n",
       "    </tr>\n",
       "    <tr>\n",
       "      <th>max</th>\n",
       "      <td>813.000000</td>\n",
       "      <td>280.000000</td>\n",
       "      <td>23000.000000</td>\n",
       "      <td>23000.000000</td>\n",
       "      <td>640000.000000</td>\n",
       "      <td>7.605058e+08</td>\n",
       "      <td>1.676169e+06</td>\n",
       "      <td>656730.000000</td>\n",
       "      <td>5060.000000</td>\n",
       "      <td>6.000000e+08</td>\n",
       "      <td>2016.000000</td>\n",
       "      <td>137000.000000</td>\n",
       "      <td>9.000000</td>\n",
       "      <td>16.000000</td>\n",
       "      <td>349000.000000</td>\n",
       "      <td>600.000000</td>\n",
       "      <td>760.505800</td>\n",
       "      <td>523.505800</td>\n",
       "      <td>7193.486700</td>\n",
       "      <td>0.999861</td>\n",
       "    </tr>\n",
       "  </tbody>\n",
       "</table>\n",
       "</div>"
      ],
      "text/plain": [
       "       num_critic_reviews     duration  director_facebook_likes  \\\n",
       "count         3594.000000  3622.000000              3631.000000   \n",
       "mean           153.584864   105.881005               607.035527   \n",
       "std            125.332016    19.350855              2673.283090   \n",
       "min              1.000000     7.000000                 0.000000   \n",
       "25%             62.000000    93.000000                 8.000000   \n",
       "50%            126.000000   102.000000                47.000000   \n",
       "75%            212.000000   116.000000               181.000000   \n",
       "max            813.000000   280.000000             23000.000000   \n",
       "\n",
       "       actor_3_facebook_likes  actor_1_facebook_likes         gross  \\\n",
       "count             3617.000000             3625.000000  3.192000e+03   \n",
       "mean               719.228090             7353.553103  4.835620e+07   \n",
       "std               1787.452942            16377.690434  6.784123e+07   \n",
       "min                  0.000000                0.000000  1.620000e+02   \n",
       "25%                179.000000              701.000000  5.746694e+06   \n",
       "50%                422.000000             1000.000000  2.559138e+07   \n",
       "75%                680.000000            12000.000000  6.203284e+07   \n",
       "max              23000.000000           640000.000000  7.605058e+08   \n",
       "\n",
       "       num_users_voted  cast_total_facebook_likes  num_user_reviews  \\\n",
       "count     3.631000e+03                3631.000000       3617.000000   \n",
       "mean      8.478490e+04               10854.106582        285.698092   \n",
       "std       1.355017e+05               19643.965493        392.308665   \n",
       "min       5.000000e+00                   0.000000          1.000000   \n",
       "25%       9.248500e+03                1752.000000         70.000000   \n",
       "50%       3.583400e+04                3690.000000        165.000000   \n",
       "75%       9.999500e+04               15270.000000        347.000000   \n",
       "max       1.676169e+06              656730.000000       5060.000000   \n",
       "\n",
       "             budget   title_year  actor_2_facebook_likes  movie_score  \\\n",
       "count  3.341000e+03  3631.000000             3623.000000  3631.000000   \n",
       "mean   3.705414e+07  2006.619664             1856.759868     6.273120   \n",
       "std    4.413287e+07     5.590324             4379.039825     1.099651   \n",
       "min    2.180000e+02  1996.000000                0.000000     1.600000   \n",
       "25%    8.000000e+06  2002.000000              352.000000     5.700000   \n",
       "50%    2.200000e+07  2007.000000              651.000000     6.400000   \n",
       "75%    5.000000e+07  2011.000000              960.000000     7.000000   \n",
       "max    6.000000e+08  2016.000000           137000.000000     9.000000   \n",
       "\n",
       "       aspect_ratio  movie_facebook_likes  budget_millions  gross_millions  \\\n",
       "count   3386.000000           3631.000000      3341.000000     3192.000000   \n",
       "mean       2.159338           8359.975213        37.054139       48.356203   \n",
       "std        0.833793          21180.567963        44.132871       67.841232   \n",
       "min        1.330000              0.000000         0.000200        0.000200   \n",
       "25%        1.850000              0.000000         8.000000        5.746675   \n",
       "50%        2.350000            199.000000        22.000000       25.591350   \n",
       "75%        2.350000           5000.000000        50.000000       62.032850   \n",
       "max       16.000000         349000.000000       600.000000      760.505800   \n",
       "\n",
       "       profit_millions          roi  profit_margin  \n",
       "count      2982.000000  2982.000000    2982.000000  \n",
       "mean         10.205826     5.254617     -39.832713  \n",
       "std          51.715350   148.874059     860.296987  \n",
       "min        -598.397500    -1.000000  -44999.000000  \n",
       "25%         -11.006600    -0.554300      -1.243503  \n",
       "50%           0.053300     0.003850       0.003842  \n",
       "75%          21.414100     0.939725       0.484475  \n",
       "max         523.505800  7193.486700       0.999861  "
      ]
     },
     "execution_count": 7,
     "metadata": {},
     "output_type": "execute_result"
    }
   ],
   "source": [
    "movies.describe()"
   ]
  },
  {
   "cell_type": "markdown",
   "metadata": {},
   "source": [
    "#### Remove outliers\n",
    "**Challenge**<br>\n",
    "After a preliminary exploration of the numeric variables, it became apparent that several of the numeric variables have significant outliers. The inclusion of outliers will make it more difficult to accurately assess the distribution of the variables and relationships between variables. \n",
    "<br>\n",
    "<br>\n",
    "**Solution**<br>\n",
    "Trim numeric variables by replacing outliers with upper whisker values. Outliers are identified using the IQR method; replace outliers with upper whisker value; trimmed values are stored in <code>movies_trimmed</code>."
   ]
  },
  {
   "cell_type": "code",
   "execution_count": 8,
   "metadata": {},
   "outputs": [],
   "source": [
    "# define movies_trimmed df to hold trimmed variables\n",
    "movies_trimmed = movies.copy(deep = True)"
   ]
  },
  {
   "cell_type": "code",
   "execution_count": 9,
   "metadata": {},
   "outputs": [],
   "source": [
    "# separate numerical fields from categorical\n",
    "movies_numeric = movies.select_dtypes(include=['float64', 'int64'])\n",
    "\n",
    "# replace outliers with upper whisker / lower whisker value\n",
    "for column in movies_numeric:\n",
    "    q1 = movies_trimmed[column].quantile(0.25)\n",
    "    q3 = movies_trimmed[column].quantile(0.75)\n",
    "    iqr = q3 - q1\n",
    "    upper_whisker = q3 + (iqr*1.5)\n",
    "    lower_whisker = q1 - (iqr*1.5)\n",
    "    movies_trimmed.loc[movies_trimmed[column] > upper_whisker, column] = upper_whisker\n",
    "    movies_trimmed.loc[movies_trimmed[column] < lower_whisker, column] = lower_whisker"
   ]
  },
  {
   "cell_type": "code",
   "execution_count": 10,
   "metadata": {},
   "outputs": [
    {
     "data": {
      "image/png": "[encoded data removed]",
      "text/plain": [
       "<Figure size 432x288 with 1 Axes>"
      ]
     },
     "metadata": {
      "needs_background": "light"
     },
     "output_type": "display_data"
    }
   ],
   "source": [
    "# boxplot showing roi\n",
    "boxplot = movies_trimmed.boxplot(column=['roi'])"
   ]
  },
  {
   "cell_type": "code",
   "execution_count": 11,
   "metadata": {},
   "outputs": [
    {
     "data": {
      "image/png": "[encoded data removed]",
      "text/plain": [
       "<Figure size 432x288 with 1 Axes>"
      ]
     },
     "metadata": {
      "needs_background": "light"
     },
     "output_type": "display_data"
    }
   ],
   "source": [
    "# boxplots showing gross, budget, profit variables\n",
    "boxplot = movies_trimmed.boxplot(column=['gross_millions','budget_millions','profit_millions'])"
   ]
  },
  {
   "cell_type": "markdown",
   "metadata": {},
   "source": [
    "### Explore Relationships between numeric variables"
   ]
  },
  {
   "cell_type": "markdown",
   "metadata": {},
   "source": [
    "**Variables that are moderately correlated (correlation > 0.4) with gross revenue:** <code>num_critic_reviews</code>, <code>num_users_voted</code>, <code>num_user_reviews</code>, <code>budget</code>, <code>profit_millions</code>, <code>roi</code>, <code>profit_margin</code> \n",
    "<br><br>\n",
    "**Variables that are moderately correlated (correlation > 0.4) with profit:** <code>gross_millions</code>, <code>num_users_voted</code>, <code>roi</code>, <code>profit_margin</code>\n",
    "<br><br>\n",
    "**Variables that are moderately correlated (correlation > 0.4) with profit margin:** <code>gross_millions</code>, <code>roi</code>, <code>profit_margin</code>\n",
    "<br><br>\n",
    "**Variables that are moderately correlated (correlation > 0.4) with ROI:** <code>gross_millions</code>, <code>profit_millions</code>, <code>profit_margin</code>"
   ]
  },
  {
   "cell_type": "code",
   "execution_count": 12,
   "metadata": {},
   "outputs": [
    {
     "data": {
      "image/png": "[encoded data removed]",
      "text/plain": [
       "<Figure size 1152x720 with 2 Axes>"
      ]
     },
     "metadata": {
      "needs_background": "light"
     },
     "output_type": "display_data"
    }
   ],
   "source": [
    "# define correlation matrix using movies_trimmed\n",
    "corr_matrix_trimmed = movies_trimmed.corr()\n",
    "\n",
    "# create heatmap using correlation matrix\n",
    "plt.figure(figsize=(16, 10))\n",
    "heatmap = sns.heatmap(corr_matrix_trimmed, vmin=-1, vmax=1,cmap=\"PiYG\", annot=True)\n",
    "heatmap.set_title('Correlation Heatmap', fontdict={'fontsize':12}, pad=12);\n",
    "\n",
    "# save correlation matrix to csv\n",
    "#corr_matrix_trimmed.to_csv('corr_matrix_trimmed.csv')"
   ]
  },
  {
   "cell_type": "markdown",
   "metadata": {},
   "source": [
    "### Explore Categorical Variables\n",
    "All of the categorical variables fit into the ‘inputs’ category (metrics that the movie studio can influence)."
   ]
  },
  {
   "cell_type": "code",
   "execution_count": 13,
   "metadata": {},
   "outputs": [
    {
     "data": {
      "text/plain": [
       "Steven Spielberg     15\n",
       "Woody Allen          15\n",
       "Clint Eastwood       14\n",
       "Steven Soderbergh    13\n",
       "Ridley Scott         12\n",
       "Name: director_name, dtype: int64"
      ]
     },
     "execution_count": 13,
     "metadata": {},
     "output_type": "execute_result"
    }
   ],
   "source": [
    "movies['director_name'].value_counts().head()"
   ]
  },
  {
   "cell_type": "code",
   "execution_count": 14,
   "metadata": {},
   "outputs": [
    {
     "data": {
      "text/plain": [
       "Robert De Niro    33\n",
       "Matt Damon        28\n",
       "Nicolas Cage      27\n",
       "J.K. Simmons      27\n",
       "Johnny Depp       25\n",
       "Name: actor_1_name, dtype: int64"
      ]
     },
     "execution_count": 14,
     "metadata": {},
     "output_type": "execute_result"
    }
   ],
   "source": [
    "movies['actor_1_name'].value_counts().head()"
   ]
  },
  {
   "cell_type": "code",
   "execution_count": 15,
   "metadata": {},
   "outputs": [
    {
     "data": {
      "text/plain": [
       "Morgan Freeman     13\n",
       "Charlize Theron    13\n",
       "Brad Pitt          10\n",
       "Adam Sandler       10\n",
       "Will Ferrell        9\n",
       "Name: actor_2_name, dtype: int64"
      ]
     },
     "execution_count": 15,
     "metadata": {},
     "output_type": "execute_result"
    }
   ],
   "source": [
    "movies['actor_2_name'].value_counts().head()"
   ]
  },
  {
   "cell_type": "code",
   "execution_count": 16,
   "metadata": {},
   "outputs": [
    {
     "data": {
      "text/plain": [
       "Steve Coogan    8\n",
       "Stephen Root    7\n",
       "Mike Epps       6\n",
       "Kevin Dunn      6\n",
       "Steve Carell    6\n",
       "Name: actor_3_name, dtype: int64"
      ]
     },
     "execution_count": 16,
     "metadata": {},
     "output_type": "execute_result"
    }
   ],
   "source": [
    "movies['actor_3_name'].value_counts().head()"
   ]
  },
  {
   "cell_type": "code",
   "execution_count": 17,
   "metadata": {},
   "outputs": [
    {
     "data": {
      "text/plain": [
       "based on novel                                                                                   3\n",
       "one word title                                                                                   3\n",
       "two word title                                                                                   2\n",
       "after dark horrorfest                                                                            2\n",
       "camera shot of feet|cartoon on tv|female stockinged feet|female stockinged soles|foot closeup    1\n",
       "Name: plot_keywords, dtype: int64"
      ]
     },
     "execution_count": 17,
     "metadata": {},
     "output_type": "execute_result"
    }
   ],
   "source": [
    "movies['plot_keywords'].value_counts().head()\n",
    "\n",
    "# plot keywords will be more effectively analyzed by separating the keywords"
   ]
  },
  {
   "cell_type": "code",
   "execution_count": 18,
   "metadata": {},
   "outputs": [
    {
     "data": {
      "text/plain": [
       "USA        2907\n",
       "UK          317\n",
       "Canada       99\n",
       "France       78\n",
       "Germany      75\n",
       "Name: country, dtype: int64"
      ]
     },
     "execution_count": 18,
     "metadata": {},
     "output_type": "execute_result"
    }
   ],
   "source": [
    "movies['country'].value_counts().head()"
   ]
  },
  {
   "cell_type": "code",
   "execution_count": 19,
   "metadata": {},
   "outputs": [
    {
     "data": {
      "text/plain": [
       "R            1598\n",
       "PG-13        1223\n",
       "PG            467\n",
       "G              74\n",
       "Not Rated      64\n",
       "Name: content_rating, dtype: int64"
      ]
     },
     "execution_count": 19,
     "metadata": {},
     "output_type": "execute_result"
    }
   ],
   "source": [
    "movies['content_rating'].value_counts().head()"
   ]
  },
  {
   "cell_type": "markdown",
   "metadata": {},
   "source": [
    "# Analysis"
   ]
  },
  {
   "cell_type": "markdown",
   "metadata": {},
   "source": [
    "After exploring the data through EDA, I decided to focus on 4 inputs, and two determinants of success: \n",
    "- Inputs\n",
    "  - actors (<code>actor_1_name</code>, <code>actor_2_name</code>, <code>actor_3_name</code>)\n",
    "  - directors (<code>director_name</code>)\n",
    "  - genres (<code>genres</code>)\n",
    "  - plot keywords (<code>plot_keywords</code>)\n",
    "- Determinants of success\n",
    "  - profit (<code>profit_millions</code>)\n",
    "  - roi (<code>roi</code>)\n",
    "\n",
    "I also used normalized profit (<code>profit_millions_norm</code>) and roi (<code>roi_norm</code>) values. Both variables are normalized by dividing each individual value by the average value for that metric. These normalized values allow me to analyze a variable's percent distance from the mean (i.e. a normalized value is 1.07 means that the variable is 7% above the mean)."
   ]
  },
  {
   "cell_type": "markdown",
   "metadata": {},
   "source": [
    "I chose to ignore the non-monetary metrics that represent the popularity of a movie's actors and director (the Facebook likes the actors and director) because they have weak or non-existent correlations with the monetary metrics of a movie’s success. Moreover, Facebook didn’t exist for the entire period of time we are analyzing, and the populations that use Facebook and its various features has changed dramatically over the past 15 years.  \n",
    "<br>\n",
    "I assume that the financial metrics of a movie’s success are most relevant to the movie studio’s decision-making processes, and therefore will not consider the non-monetary metrics of a movie’s success in the analysis.\n",
    "<br> <br>\n",
    "I chose not to include profit margin(<code>profit_margin</code>) because this analysis asks me to identify which elements lead to successful movies - not cost-cutting or pricing strategies which might be better captured by profit margin. Moreover, profit margin is highly correlated with ROI, so movies with strong profit margins will likely be captured in ROI analysis."
   ]
  },
  {
   "cell_type": "code",
   "execution_count": 20,
   "metadata": {},
   "outputs": [],
   "source": [
    "# define normalized profit variable\n",
    "movies_trimmed['profit_millions_norm'] = movies_trimmed['profit_millions'] / movies_trimmed['profit_millions'].mean()"
   ]
  },
  {
   "cell_type": "code",
   "execution_count": 21,
   "metadata": {},
   "outputs": [],
   "source": [
    "# define normalized roi variable\n",
    "movies_trimmed['roi_norm'] = movies_trimmed['roi'] / movies_trimmed['roi'].mean()"
   ]
  },
  {
   "cell_type": "markdown",
   "metadata": {},
   "source": [
    "## Actor Analysis\n",
    "<br>\n",
    "Do certain actors tend to make more financially successful movies\n",
    "<br>\n",
    "<br>\n",
    "I analyze the outcomes for the lead actor in a movie (<code>actor_1_name</code>) separately from the outcomes for the supporting actors (<code>actor_2_name</code>, <code>actor_3_name</code>). This method is imperfect, because some movies have more than one headliner, and some have ensemble casts - these realities are not reflected in the data we have available. Therefore, the resulting lists of lead actors with strong financial outcomes may leave out some actors who were not coded as <code>actor_1_name</code> in the movies they starred in. However, this analysis will provide a strong starting point for identifying which actors appear in movies with the strongest financial outcomes."
   ]
  },
  {
   "cell_type": "markdown",
   "metadata": {},
   "source": [
    "### 1. Profit per actor (normalized)\n",
    "Calculating profit per actor, as a percentage of average profit, normalizes the profit metric and allows for analysis of how each actor's average profit compares to the overall average. A number greater than 1 is above average; a number less than 1 is below average."
   ]
  },
  {
   "cell_type": "markdown",
   "metadata": {},
   "source": [
    "### 1.1 Lead actor\n",
    "**Method**<br>\n",
    "(1) filter <code>movies</code> to show only actors who have appeared as the lead actor (<code>actor_1_name</code>) in at least 4 movies; <br>\n",
    "(2) calculate average profit per actor; <br>\n",
    "(3) divide average profit per actor by overall average profit for all movies to arrive at normalized profit.\n",
    "(4) create list of all actors with an average normalized profit greater than <code>profit_baseline</code>.\n",
    "<br><br>\n",
    "Profit baseline is set at 2 because a normalized profit of 2 indicates that the average profit per actor is equal to twice the overall average profit.\n",
    "<br>\n",
    "<br>\n",
    "**Result**<br>\n",
    "There are 48 lead actors (<code>actor_1_name</code>) with an average profit, as a percent of overall average profit greater than the profit baseline - indicating that the movies in which these actors are the headliner (<code>actor_1_name</code>) have an average profit that is at least twice the overall average (a value of 1 is an average value).\n",
    "<br><br>\n",
    "**Recommendations**<br>\n",
    "The lead actors with an average normalized profit greater than 2 have a track record of appearing in movies with strong financial results, and should be hired on future movies."
   ]
  },
  {
   "cell_type": "code",
   "execution_count": 22,
   "metadata": {},
   "outputs": [],
   "source": [
    "# define values to be used to as filters\n",
    "num_movies_acted = 4\n",
    "profit_baseline = 2"
   ]
  },
  {
   "cell_type": "code",
   "execution_count": 23,
   "metadata": {},
   "outputs": [
    {
     "data": {
      "text/plain": [
       "actor_1_name       48\n",
       "profit_millions    48\n",
       "profit_pct_mean    48\n",
       "dtype: int64"
      ]
     },
     "execution_count": 23,
     "metadata": {},
     "output_type": "execute_result"
    }
   ],
   "source": [
    "# actor1 (actors who have been the lead actor in at least 4 movies)\n",
    "# calculate number of movies per actor\n",
    "actor1_counts = movies['actor_1_name'].value_counts()\n",
    "\n",
    "# create a list that contains all lead actors who have appeared (as lead actor) in at least 4 movies\n",
    "actor1_list = actor1_counts[actor1_counts >= num_movies_acted].index.tolist()\n",
    "\n",
    "# filter movies df to show only lead actors who have appeared in at least 4 movies\n",
    "actors1 = movies[movies['actor_1_name'].isin(actor1_list)]\n",
    "\n",
    "# groupby actor; calculate average profit per actor\n",
    "actor1_total = actors1.groupby(['actor_1_name'], as_index=False)['profit_millions'].mean().sort_values(by='profit_millions', ascending=False)\n",
    "\n",
    "# calculate difference from mean\n",
    "actor1_total['profit_pct_mean'] = (actor1_total['profit_millions']/ movies['profit_millions'].mean())\n",
    "\n",
    "# filter df to show only actors with a profit_pct_mean greater than profit_baseline\n",
    "actor1_profit_pct_mean = actor1_total[actor1_total['profit_pct_mean'] > profit_baseline]\n",
    "\n",
    "actor1_profit_count = actor1_profit_pct_mean.count()\n",
    "actor1_profit_count"
   ]
  },
  {
   "cell_type": "markdown",
   "metadata": {},
   "source": [
    "### 1.2 Supporting actors\n",
    "**Method**<br>\n",
    "(1) filter <code>movies</code> to show only actors who have appeared as a supporting actors (<code>actor_2_name</code>, <code>actor_3_name</code>) in at least 4 movies; <br>\n",
    "(2) calculate average profit per actor; <br>\n",
    "(3) divide average profit per actor by overall average profit for all movies to arrive at normalized profit.\n",
    "<br><br>\n",
    "Profit baseline is set at 2 because a normalized profit of 2 indicates that the average profit per actor is equal to twice the overall average profit.\n",
    "<br>\n",
    "<br>\n",
    "**Result**<br>\n",
    "There are 205 supporting actors (<code>actor_2_name</code>, <code>actor_3_name</code>) with an average profit, as a percent of overall average profit greater than 2 - indicating that the movies in which these actors play a supporting role have an average profit that is at least 100% above the overall average (a value of 1 is an average value). \n",
    "<br>\n",
    "<br>\n",
    "**Recommendations**\n",
    "The supporting actors with an average normalized profit greater than 2 have a track record of appearing in movies with strong financial results, and should be hired on future movies."
   ]
  },
  {
   "cell_type": "code",
   "execution_count": 24,
   "metadata": {},
   "outputs": [],
   "source": [
    "# concatenate actor2 and actor3 columns to create df with all supporting actors\n",
    "# create df of actor2_names\n",
    "actor2_names = movies[['actor_2_name']]\n",
    "actor2_names = actor2_names.rename(columns={\"actor_2_name\": \"names\"})\n",
    "\n",
    "# create df of actor2_names\n",
    "actor3_names = movies[['actor_3_name']]\n",
    "actor3_names = actor3_names.rename(columns={\"actor_3_name\": \"names\"})\n",
    "\n",
    "# concatenate actor2, and actor3 columns to create df with all supporting actors\n",
    "actor_supporting_names = pd.concat([actor2_names, actor3_names])\n",
    "\n",
    "# calculate number of supporting role movies per actor\n",
    "actor_supporting_counts = actor_supporting_names['names'].value_counts()\n",
    "\n",
    "# create a list that contains all actors who have appeared in a supporting role at least 4 movies\n",
    "actor_supporting_lst = actor_supporting_counts[actor_supporting_counts >= num_movies_acted].index.tolist()"
   ]
  },
  {
   "cell_type": "code",
   "execution_count": 72,
   "metadata": {},
   "outputs": [],
   "source": [
    "# actor 2\n",
    "# filter movies df to show only actors who have appeared as a supporting actor (either actor2 or actor3) in at least 4 movies\n",
    "actors2 = movies[movies['actor_2_name'].isin(actor_supporting_lst)]\n",
    "\n",
    "# groupby actor; calculate average profit per actor\n",
    "actor2_total = actors2.groupby(['actor_2_name'], as_index=False)['profit_millions'].mean()\n",
    "\n",
    "# calculate difference from mean\n",
    "actor2_total['profit_pct_mean'] = (actor2_total['profit_millions']/ movies['profit_millions'].mean())\n",
    "\n",
    "# filter df to show only actors with a profit_pct_mean greater than profit_baseline\n",
    "actor2_profit_pct_mean = actor2_total[actor2_total['profit_pct_mean'] > profit_baseline]\n",
    "\n",
    "actor2_profit_count = actor2_profit_pct_mean.count()"
   ]
  },
  {
   "cell_type": "code",
   "execution_count": 26,
   "metadata": {},
   "outputs": [],
   "source": [
    "# actor3\n",
    "# filter movies df to show only actors who have appeared as a supporting actor (either actor2 or actor3) in at least 4 movies\n",
    "actors3 = movies[movies['actor_3_name'].isin(actor_supporting_lst)]\n",
    "\n",
    "# groupby actor; calculate average profit per actor\n",
    "actor3_total = actors3.groupby(['actor_3_name'], as_index=False)['profit_millions'].mean()\n",
    "\n",
    "# calculate difference from mean\n",
    "actor3_total['profit_pct_mean'] = (actor3_total['profit_millions']/ movies['profit_millions'].mean())\n",
    "\n",
    "# filter df to show only actors with a profit_pct_mean greater than 2\n",
    "actor3_profit_pct_mean = actor3_total[actor3_total['profit_pct_mean'] > profit_baseline]\n",
    "\n",
    "actor3_profit_count = actor3_profit_pct_mean.count()"
   ]
  },
  {
   "cell_type": "code",
   "execution_count": 27,
   "metadata": {},
   "outputs": [],
   "source": [
    "# concatenate actor2 column from actor2_profit_pct_mean and actor3 column from actor3_profit_pct_mean\n",
    "actor2 = actor2_profit_pct_mean[['actor_2_name']]\n",
    "actor2 = actor2.rename(columns={\"actor_2_name\": \"names\"})\n",
    "\n",
    "actor3 = actor3_profit_pct_mean[['actor_3_name']]\n",
    "actor3 = actor3.rename(columns={\"actor_3_name\": \"names\"})\n",
    "\n",
    "actors_supporting = pd.concat([actor2, actor3])"
   ]
  },
  {
   "cell_type": "code",
   "execution_count": 28,
   "metadata": {},
   "outputs": [
    {
     "data": {
      "text/plain": [
       "names    205\n",
       "dtype: int64"
      ]
     },
     "execution_count": 28,
     "metadata": {},
     "output_type": "execute_result"
    }
   ],
   "source": [
    "# drop duplicates to arrive at a list of supporting actors with a profit_pct_mean greater than 2\n",
    "actors_supporting = actors_supporting.drop_duplicates()\n",
    "\n",
    "actors_supporting_count = actors_supporting.count()\n",
    "actors_supporting_count"
   ]
  },
  {
   "cell_type": "markdown",
   "metadata": {},
   "source": [
    "### 2. ROI per actor (normalized)\n",
    "Calculating ROI per actor, as a percentage of average ROI normalizes the ROI metric and allows for analysis of how each actor's average ROI compares to the overall average. A number greater than 1 is above average; a number less than 1 is below average."
   ]
  },
  {
   "cell_type": "markdown",
   "metadata": {},
   "source": [
    "### 2.1 Lead Actor\n",
    "**Method**<br>\n",
    "(1) filter <code>movies</code> to show only actors who have appeared as the lead actor (<code>actor_1_name</code>) 4 movies; <br>\n",
    "(2) calculate average ROI per actor; <br>\n",
    "(3) divide average ROI per actor by overall average ROI for all actors. \n",
    "<br>\n",
    "<br>\n",
    "**Result**<br>\n",
    "There are 31 main actors (<code>actor_1_name</code>) with an average ROI, as a pct. of overall average ROI greater than 1.5 - indicating that the movies in which these actors play the lead role have an average ROI that is at least 50% above the overall average (a value of 1 is an average value). \n",
    "<br>\n",
    "<br>\n",
    "**Recommendations**<br>\n",
    "The lead actors with an average normalized ROI greater than 1.5 have a track record of appearing in movies with strong financial results, and should be hired on future movies."
   ]
  },
  {
   "cell_type": "code",
   "execution_count": 29,
   "metadata": {},
   "outputs": [],
   "source": [
    "# define value to be used to as filter\n",
    "roi_baseline = 1.5"
   ]
  },
  {
   "cell_type": "code",
   "execution_count": 74,
   "metadata": {},
   "outputs": [
    {
     "data": {
      "text/plain": [
       "actor_1_name    31\n",
       "roi             31\n",
       "roi_pct_mean    31\n",
       "dtype: int64"
      ]
     },
     "execution_count": 74,
     "metadata": {},
     "output_type": "execute_result"
    }
   ],
   "source": [
    "# actor1\n",
    "# groupby actor; calculate average roi per actor\n",
    "actor1_roi = actors1.groupby(['actor_1_name'], as_index=False)['roi'].mean()\n",
    "\n",
    "# calculate pct. difference from mean\n",
    "actor1_roi['roi_pct_mean'] = (actor1_roi['roi']/ movies['roi'].mean())\n",
    "\n",
    "# filter df to show only actors with a roi greater than roi_baseline\n",
    "actor1_roi_pct_mean = actor1_roi[actor1_roi['roi'] >= roi_baseline]\n",
    "\n",
    "actor1_roi_count = actor1_roi_pct_mean.count()\n",
    "actor1_roi_count"
   ]
  },
  {
   "cell_type": "markdown",
   "metadata": {},
   "source": [
    "### 2.2 Supporting Actors\n",
    "**Method**<br>\n",
    "(1) filter <code>movies</code> to show only actors who have appeared as a supporting actor (<code>actor_2_name</code>, <code>actor_3_name</code>) in at least 4 movies; <br>\n",
    "(2) calculate average ROI per actor; <br>\n",
    "(3) divide average ROI per actor by overall average ROI for all actors.\n",
    "<br>\n",
    "<br>\n",
    "**Result**<br>\n",
    "There are 105 supporting actors (<code>actor_2_name</code>, <code>actor_3_name</code>) with an average ROI, as a pct. of overall average ROI greater than 1.5 - indicating that the movies in which these actors play a supporting role have an average ROI that is at least 50% above the overall average (a value of 1 is an average value). \n",
    "<br>\n",
    "<br>\n",
    "**Recommendations** <br>\n",
    "The supporting actors with an average normalized ROI greater than 1.5 have a track record of appearing in movies with strong financial results, and should be hired on future movies."
   ]
  },
  {
   "cell_type": "code",
   "execution_count": 75,
   "metadata": {},
   "outputs": [],
   "source": [
    "# actor2\n",
    "# groupby actor; calculate average roi per actor\n",
    "actor2_roi = actors2.groupby(['actor_2_name'], as_index=False)['roi'].mean().sort_values(by='roi', ascending=False)\n",
    "\n",
    "# calculate pct. difference from mean\n",
    "actor2_roi['roi_pct_mean'] = (actor2_roi['roi']/movies['roi'].mean())\n",
    "\n",
    "# filter df to show only actors with a roi greater than roi_baseline\n",
    "actor2_roi_pct_mean = actor2_roi[actor2_roi['roi'] >= roi_baseline]\n",
    "\n",
    "actor2_roi_count = actor2_roi_pct_mean.count()"
   ]
  },
  {
   "cell_type": "code",
   "execution_count": 32,
   "metadata": {},
   "outputs": [],
   "source": [
    "# actor3\n",
    "# groupby actor; calculate average roi per actor\n",
    "actor3_roi = actors3.groupby(['actor_3_name'], as_index=False)['roi'].mean().sort_values(by='roi', ascending=False)\n",
    "\n",
    "# calculate pct. difference from mean\n",
    "actor3_roi['roi_pct_mean'] = (actor3_roi['roi']/movies['roi'].mean())\n",
    "\n",
    "# filter df to show only actors with a roi greater than roi_baseline\n",
    "actor3_roi_pct_mean = actor3_roi[actor3_roi['roi'] >= roi_baseline]\n",
    "\n",
    "actor3_roi_count = actor3_roi_pct_mean.count()"
   ]
  },
  {
   "cell_type": "code",
   "execution_count": 33,
   "metadata": {},
   "outputs": [
    {
     "data": {
      "text/plain": [
       "names    105\n",
       "dtype: int64"
      ]
     },
     "execution_count": 33,
     "metadata": {},
     "output_type": "execute_result"
    }
   ],
   "source": [
    "# concatenate actor2 column from actor2_roi and actor3 column from actor3_roi\n",
    "actor2 = actor2_roi_pct_mean[['actor_2_name']]\n",
    "actor2 = actor2.rename(columns={\"actor_2_name\": \"names\"})\n",
    "\n",
    "actor3 = actor3_roi_pct_mean[['actor_3_name']]\n",
    "actor3 = actor3.rename(columns={\"actor_3_name\": \"names\"})\n",
    "\n",
    "actors_supporting = pd.concat([actor2, actor3])\n",
    "\n",
    "# drop duplicates to arrive at a list of supporting actors with a roi greater than 1.5\n",
    "actors_supporting = actors_supporting.drop_duplicates()\n",
    "\n",
    "actors_supporting_count = actors_supporting.count()\n",
    "actors_supporting_count"
   ]
  },
  {
   "cell_type": "markdown",
   "metadata": {},
   "source": [
    "### 3. Summary outcomes by actor\n",
    "\n",
    "**Method**<br>\n",
    "Analyze summary outcomes by lead actor (<code>actor_1_name</code>).\n",
    "<br>\n",
    "<br>\n",
    "**Result**<br>\n",
    "The top actors by profit and ROI have only appeared as lead actor in one or two movies and therefore will not be included in the profit per actor or ROI per actor analysis above.\n",
    "<br>\n",
    "<br>\n",
    "**Recommendation**<br>\n",
    "While the studio should aim to work with the actors identified in the previous analysis in order to seek out consistent profit, up-and-coming actor can produce successful movies, and should not be ignored. The studio should consider gathering additional data on actors who have appeared in fewer than 4 movies in order to see if any trends can be identified. The studio may also consider developing programs to identify promising young actors, such as relationships with theatre programs at universities.\n",
    "<br>\n",
    "<br>\n",
    "Further analysis is needed to identify determinants of success for up-and-coming actors."
   ]
  },
  {
   "cell_type": "code",
   "execution_count": 34,
   "metadata": {},
   "outputs": [],
   "source": [
    "# create df with only key financial variables\n",
    "actor1_mean = movies[['actor_1_name','gross_millions','profit_millions','budget_millions','roi']].groupby(['actor_1_name']).mean()"
   ]
  },
  {
   "cell_type": "code",
   "execution_count": 35,
   "metadata": {},
   "outputs": [],
   "source": [
    "# group by actor; count number of movies by counting 'color' column\n",
    "actor1_count = movies[['actor_1_name','color']].groupby(['actor_1_name']).count().sort_values(by='color',ascending = False)\n",
    "\n",
    "# renname 'color' column as 'num_movies'\n",
    "actor1_count = actor1_count.rename(columns = {'color': 'num_movies'})"
   ]
  },
  {
   "cell_type": "code",
   "execution_count": 36,
   "metadata": {},
   "outputs": [],
   "source": [
    "# merge actor data (actor1_mean and actor1_count) into one df\n",
    "\n",
    "# define list of dfs to be merged\n",
    "actor1_df_lst = [actor1_mean, actor1_count]\n",
    "\n",
    "# merge dfs in actor1_df_lst\n",
    "actor1_df = reduce(lambda left,right: pd.merge(left,right,on='actor_1_name'), actor1_df_lst)\n",
    "\n",
    "# rename columns\n",
    "actor1_df = actor1_df.rename(columns = {'gross_millions': 'avg_gross_millions',\n",
    "                                             'budget_millions': 'avg_budget_million',\n",
    "                                              'profit_millions':'avg_profit_millions',\n",
    "                                              'roi':'avg_roi'})\n",
    "\n",
    "#actor1_df.to_csv('actor1_df.csv')"
   ]
  },
  {
   "cell_type": "code",
   "execution_count": 37,
   "metadata": {},
   "outputs": [
    {
     "data": {
      "text/html": [
       "<div>\n",
       "<style scoped>\n",
       "    .dataframe tbody tr th:only-of-type {\n",
       "        vertical-align: middle;\n",
       "    }\n",
       "\n",
       "    .dataframe tbody tr th {\n",
       "        vertical-align: top;\n",
       "    }\n",
       "\n",
       "    .dataframe thead th {\n",
       "        text-align: right;\n",
       "    }\n",
       "</style>\n",
       "<table border=\"1\" class=\"dataframe\">\n",
       "  <thead>\n",
       "    <tr style=\"text-align: right;\">\n",
       "      <th></th>\n",
       "      <th>avg_gross_millions</th>\n",
       "      <th>avg_profit_millions</th>\n",
       "      <th>avg_budget_million</th>\n",
       "      <th>avg_roi</th>\n",
       "      <th>num_movies</th>\n",
       "    </tr>\n",
       "    <tr>\n",
       "      <th>actor_1_name</th>\n",
       "      <th></th>\n",
       "      <th></th>\n",
       "      <th></th>\n",
       "      <th></th>\n",
       "      <th></th>\n",
       "    </tr>\n",
       "  </thead>\n",
       "  <tbody>\n",
       "    <tr>\n",
       "      <th>Robert De Niro</th>\n",
       "      <td>55.952390</td>\n",
       "      <td>14.920132</td>\n",
       "      <td>39.575758</td>\n",
       "      <td>0.504245</td>\n",
       "      <td>33</td>\n",
       "    </tr>\n",
       "    <tr>\n",
       "      <th>Matt Damon</th>\n",
       "      <td>62.769579</td>\n",
       "      <td>9.306904</td>\n",
       "      <td>55.627778</td>\n",
       "      <td>1.924622</td>\n",
       "      <td>28</td>\n",
       "    </tr>\n",
       "    <tr>\n",
       "      <th>Nicolas Cage</th>\n",
       "      <td>53.619232</td>\n",
       "      <td>-7.340768</td>\n",
       "      <td>57.637778</td>\n",
       "      <td>-0.197072</td>\n",
       "      <td>27</td>\n",
       "    </tr>\n",
       "    <tr>\n",
       "      <th>J.K. Simmons</th>\n",
       "      <td>70.235585</td>\n",
       "      <td>19.261511</td>\n",
       "      <td>50.974074</td>\n",
       "      <td>0.550715</td>\n",
       "      <td>27</td>\n",
       "    </tr>\n",
       "    <tr>\n",
       "      <th>Johnny Depp</th>\n",
       "      <td>104.667254</td>\n",
       "      <td>8.725417</td>\n",
       "      <td>96.312500</td>\n",
       "      <td>0.140478</td>\n",
       "      <td>25</td>\n",
       "    </tr>\n",
       "  </tbody>\n",
       "</table>\n",
       "</div>"
      ],
      "text/plain": [
       "                avg_gross_millions  avg_profit_millions  avg_budget_million  \\\n",
       "actor_1_name                                                                  \n",
       "Robert De Niro           55.952390            14.920132           39.575758   \n",
       "Matt Damon               62.769579             9.306904           55.627778   \n",
       "Nicolas Cage             53.619232            -7.340768           57.637778   \n",
       "J.K. Simmons             70.235585            19.261511           50.974074   \n",
       "Johnny Depp             104.667254             8.725417           96.312500   \n",
       "\n",
       "                 avg_roi  num_movies  \n",
       "actor_1_name                          \n",
       "Robert De Niro  0.504245          33  \n",
       "Matt Damon      1.924622          28  \n",
       "Nicolas Cage   -0.197072          27  \n",
       "J.K. Simmons    0.550715          27  \n",
       "Johnny Depp     0.140478          25  "
      ]
     },
     "execution_count": 37,
     "metadata": {},
     "output_type": "execute_result"
    }
   ],
   "source": [
    "# actors who are lead actor in the most movies\n",
    "actor1_df.sort_values(by = 'num_movies', ascending = False).head()"
   ]
  },
  {
   "cell_type": "code",
   "execution_count": 38,
   "metadata": {},
   "outputs": [
    {
     "data": {
      "text/html": [
       "<div>\n",
       "<style scoped>\n",
       "    .dataframe tbody tr th:only-of-type {\n",
       "        vertical-align: middle;\n",
       "    }\n",
       "\n",
       "    .dataframe tbody tr th {\n",
       "        vertical-align: top;\n",
       "    }\n",
       "\n",
       "    .dataframe thead th {\n",
       "        text-align: right;\n",
       "    }\n",
       "</style>\n",
       "<table border=\"1\" class=\"dataframe\">\n",
       "  <thead>\n",
       "    <tr style=\"text-align: right;\">\n",
       "      <th></th>\n",
       "      <th>avg_gross_millions</th>\n",
       "      <th>avg_profit_millions</th>\n",
       "      <th>avg_budget_million</th>\n",
       "      <th>avg_roi</th>\n",
       "      <th>num_movies</th>\n",
       "    </tr>\n",
       "    <tr>\n",
       "      <th>actor_1_name</th>\n",
       "      <th></th>\n",
       "      <th></th>\n",
       "      <th></th>\n",
       "      <th></th>\n",
       "      <th></th>\n",
       "    </tr>\n",
       "  </thead>\n",
       "  <tbody>\n",
       "    <tr>\n",
       "      <th>Rupert Everett</th>\n",
       "      <td>436.47100</td>\n",
       "      <td>286.47100</td>\n",
       "      <td>150.0</td>\n",
       "      <td>1.90980</td>\n",
       "      <td>1</td>\n",
       "    </tr>\n",
       "    <tr>\n",
       "      <th>CCH Pounder</th>\n",
       "      <td>413.68395</td>\n",
       "      <td>253.68395</td>\n",
       "      <td>160.0</td>\n",
       "      <td>1.00725</td>\n",
       "      <td>2</td>\n",
       "    </tr>\n",
       "    <tr>\n",
       "      <th>Catherine Dyer</th>\n",
       "      <td>255.95040</td>\n",
       "      <td>226.95040</td>\n",
       "      <td>29.0</td>\n",
       "      <td>7.82590</td>\n",
       "      <td>1</td>\n",
       "    </tr>\n",
       "    <tr>\n",
       "      <th>Kathleen Freeman</th>\n",
       "      <td>267.65200</td>\n",
       "      <td>207.65200</td>\n",
       "      <td>60.0</td>\n",
       "      <td>3.46090</td>\n",
       "      <td>1</td>\n",
       "    </tr>\n",
       "    <tr>\n",
       "      <th>Phaldut Sharma</th>\n",
       "      <td>274.08500</td>\n",
       "      <td>174.08500</td>\n",
       "      <td>100.0</td>\n",
       "      <td>1.74080</td>\n",
       "      <td>1</td>\n",
       "    </tr>\n",
       "  </tbody>\n",
       "</table>\n",
       "</div>"
      ],
      "text/plain": [
       "                  avg_gross_millions  avg_profit_millions  avg_budget_million  \\\n",
       "actor_1_name                                                                    \n",
       "Rupert Everett             436.47100            286.47100               150.0   \n",
       "CCH Pounder                413.68395            253.68395               160.0   \n",
       "Catherine Dyer             255.95040            226.95040                29.0   \n",
       "Kathleen Freeman           267.65200            207.65200                60.0   \n",
       "Phaldut Sharma             274.08500            174.08500               100.0   \n",
       "\n",
       "                  avg_roi  num_movies  \n",
       "actor_1_name                           \n",
       "Rupert Everett    1.90980           1  \n",
       "CCH Pounder       1.00725           2  \n",
       "Catherine Dyer    7.82590           1  \n",
       "Kathleen Freeman  3.46090           1  \n",
       "Phaldut Sharma    1.74080           1  "
      ]
     },
     "execution_count": 38,
     "metadata": {},
     "output_type": "execute_result"
    }
   ],
   "source": [
    "# actors with top average profit\n",
    "actor1_df.sort_values(by = 'avg_profit_millions', ascending = False).head()"
   ]
  },
  {
   "cell_type": "code",
   "execution_count": 39,
   "metadata": {},
   "outputs": [
    {
     "data": {
      "text/plain": [
       "0.86"
      ]
     },
     "execution_count": 39,
     "metadata": {},
     "output_type": "execute_result"
    }
   ],
   "source": [
    "# calculate percent of the 100 actors with the highest average profit have been lead actor in fewer than 4 movies\n",
    "actor1_df_top_profit = actor1_df.sort_values(by = 'avg_profit_millions', ascending = False).head(100)\n",
    "actor1_df_top_profit = actor1_df_top_profit[actor1_df_top_profit['num_movies'] < 4]\n",
    "len(actor1_df_top_profit) / 100"
   ]
  },
  {
   "cell_type": "code",
   "execution_count": 40,
   "metadata": {},
   "outputs": [
    {
     "data": {
      "text/html": [
       "<div>\n",
       "<style scoped>\n",
       "    .dataframe tbody tr th:only-of-type {\n",
       "        vertical-align: middle;\n",
       "    }\n",
       "\n",
       "    .dataframe tbody tr th {\n",
       "        vertical-align: top;\n",
       "    }\n",
       "\n",
       "    .dataframe thead th {\n",
       "        text-align: right;\n",
       "    }\n",
       "</style>\n",
       "<table border=\"1\" class=\"dataframe\">\n",
       "  <thead>\n",
       "    <tr style=\"text-align: right;\">\n",
       "      <th></th>\n",
       "      <th>avg_gross_millions</th>\n",
       "      <th>avg_profit_millions</th>\n",
       "      <th>avg_budget_million</th>\n",
       "      <th>avg_roi</th>\n",
       "      <th>num_movies</th>\n",
       "    </tr>\n",
       "    <tr>\n",
       "      <th>actor_1_name</th>\n",
       "      <th></th>\n",
       "      <th></th>\n",
       "      <th></th>\n",
       "      <th></th>\n",
       "      <th></th>\n",
       "    </tr>\n",
       "  </thead>\n",
       "  <tbody>\n",
       "    <tr>\n",
       "      <th>Micah Sloat</th>\n",
       "      <td>107.9173</td>\n",
       "      <td>107.9023</td>\n",
       "      <td>0.0150</td>\n",
       "      <td>7193.4867</td>\n",
       "      <td>1</td>\n",
       "    </tr>\n",
       "    <tr>\n",
       "      <th>Greg Ayres</th>\n",
       "      <td>0.5920</td>\n",
       "      <td>0.5918</td>\n",
       "      <td>0.0002</td>\n",
       "      <td>2959.0000</td>\n",
       "      <td>1</td>\n",
       "    </tr>\n",
       "    <tr>\n",
       "      <th>Heather Donahue</th>\n",
       "      <td>140.5301</td>\n",
       "      <td>140.4701</td>\n",
       "      <td>0.0600</td>\n",
       "      <td>2341.1683</td>\n",
       "      <td>1</td>\n",
       "    </tr>\n",
       "    <tr>\n",
       "      <th>Pfeifer Brown</th>\n",
       "      <td>22.7578</td>\n",
       "      <td>22.6578</td>\n",
       "      <td>0.1000</td>\n",
       "      <td>226.5780</td>\n",
       "      <td>1</td>\n",
       "    </tr>\n",
       "    <tr>\n",
       "      <th>Chemeeka Walker</th>\n",
       "      <td>11.5294</td>\n",
       "      <td>11.4644</td>\n",
       "      <td>0.0650</td>\n",
       "      <td>176.3754</td>\n",
       "      <td>1</td>\n",
       "    </tr>\n",
       "  </tbody>\n",
       "</table>\n",
       "</div>"
      ],
      "text/plain": [
       "                 avg_gross_millions  avg_profit_millions  avg_budget_million  \\\n",
       "actor_1_name                                                                   \n",
       "Micah Sloat                107.9173             107.9023              0.0150   \n",
       "Greg Ayres                   0.5920               0.5918              0.0002   \n",
       "Heather Donahue            140.5301             140.4701              0.0600   \n",
       "Pfeifer Brown               22.7578              22.6578              0.1000   \n",
       "Chemeeka Walker             11.5294              11.4644              0.0650   \n",
       "\n",
       "                   avg_roi  num_movies  \n",
       "actor_1_name                            \n",
       "Micah Sloat      7193.4867           1  \n",
       "Greg Ayres       2959.0000           1  \n",
       "Heather Donahue  2341.1683           1  \n",
       "Pfeifer Brown     226.5780           1  \n",
       "Chemeeka Walker   176.3754           1  "
      ]
     },
     "execution_count": 40,
     "metadata": {},
     "output_type": "execute_result"
    }
   ],
   "source": [
    "# actors with top average roi\n",
    "actor1_df.sort_values(by = 'avg_roi', ascending = False).head(5)"
   ]
  },
  {
   "cell_type": "code",
   "execution_count": 41,
   "metadata": {},
   "outputs": [
    {
     "data": {
      "text/plain": [
       "0.95"
      ]
     },
     "execution_count": 41,
     "metadata": {},
     "output_type": "execute_result"
    }
   ],
   "source": [
    "# calculate percent of the 100 actors with the highest average roi have been lead actor in fewer than 4 movies\n",
    "actor1_df_top_roi = actor1_df.sort_values(by = 'avg_roi', ascending = False).head(100)\n",
    "actor1_df_top_roi = actor1_df_top_roi[actor1_df_top_roi['num_movies'] < 4]\n",
    "len(actor1_df_top_roi) / 100"
   ]
  },
  {
   "cell_type": "markdown",
   "metadata": {},
   "source": [
    "## Analyze director success\n",
    "\n",
    "Do certain directors tend to direct more financially successful movies?"
   ]
  },
  {
   "cell_type": "markdown",
   "metadata": {},
   "source": [
    "### 1. Profit per director (normalized)\n",
    "Calculating profit per director, as a percentage of average profit normalizes the profit metric and allows for analysis of how each director's average profit compares to the overall average. A number greater than 1 is above average; a number less than 1 is below average.\n",
    "<br>\n",
    "<br>\n",
    "**Method**<br>\n",
    "(1) filter <code>movies</code> to show only directors (<code>director_name</code>) who have directed at least 4 movies; <br>\n",
    "(2) calculate average profit per director; <br>\n",
    "(3) divide average profit per actor by overall average profit for all directors.\n",
    "<br>\n",
    "<br>\n",
    "**Result**<br>\n",
    "There are 77 directors with average profit, as a pct. of overall average profit greater than 2 - indicating that the movies these directors direct have an average profit that is at least 100% above the overall average (a value of 1 is an average value). The actors that appear on these list have a track record of appearing in movies with above-average profit, and should be hired on future movies.\n",
    "<br>\n",
    "<br>\n",
    "**Recommendation**<br>\n",
    "The directors whose movies have profits, as a percentage of average profit, of at least 2 have a track record of directing movies with strong profits and should be hired on future movies."
   ]
  },
  {
   "cell_type": "code",
   "execution_count": 42,
   "metadata": {},
   "outputs": [],
   "source": [
    "# define values to be used to as filter\n",
    "num_movies_directed = 4\n",
    "profit_baseline = 2"
   ]
  },
  {
   "cell_type": "code",
   "execution_count": 43,
   "metadata": {},
   "outputs": [
    {
     "data": {
      "text/plain": [
       "director_name      77\n",
       "profit_millions    77\n",
       "profit_pct_mean    77\n",
       "dtype: int64"
      ]
     },
     "execution_count": 43,
     "metadata": {},
     "output_type": "execute_result"
    }
   ],
   "source": [
    "#calculating profit as a pct. of average profit for directors\n",
    "director_counts = movies['director_name'].value_counts()\n",
    "\n",
    "#creating a list with a condition of having appeared in at least 5 movies\n",
    "director_list = director_counts[director_counts >= num_movies_directed].index.tolist()\n",
    "\n",
    "#creating a dataframe with actors in 5 or more movies\n",
    "director = movies[movies['director_name'].isin(director_list)]\n",
    "\n",
    "#creating a dataframe with actors and the average profit\n",
    "director_total = director.groupby(['director_name'], as_index=False)['profit_millions'].mean().sort_values (by='profit_millions', ascending=False)\n",
    "\n",
    "#creating the profit_pct_mean value feature\n",
    "director_total['profit_pct_mean'] = (director_total['profit_millions']/ movies['profit_millions'].mean())\n",
    "director_profit_pct_mean = director_total[director_total['profit_pct_mean'] > profit_baseline] \n",
    "\n",
    "director_profit_pct_mean_count = director_profit_pct_mean.count()\n",
    "director_profit_pct_mean_count"
   ]
  },
  {
   "cell_type": "markdown",
   "metadata": {},
   "source": [
    "### 2. ROI per director (normalized)\n",
    "Calculating ROI per director, as a percentage of average ROI normalizes the ROI metric and allows for analysis of how each director's average ROI compares to the overall average. A number greater than 1 is above average; a number less than 1 is below average.\n",
    "<br>\n",
    "<br>\n",
    "**Method**<br>\n",
    "(1) filter <code>movies</code> to show only directors (<code>director_name</code>) who have directed at least 5 movies; <br>\n",
    "(2) calculate average ROI per director; <br>\n",
    "(3) divide average ROI per actor by overall average profit for all directors.\n",
    "<br>\n",
    "<br>\n",
    "**Result**<br>\n",
    "There are 4 directors with average ROI, as a pct. of overall average greater than 1.5 - indicating that the movies these directors direct have an average ROI that is at least 50% above the overall average (a value of 1 is an average value).\n",
    "<br>\n",
    "<br>\n",
    "**Recommendation**<br>\n",
    "The directors whose movies have an ROI, as a percentage of average ROI, of at least 1.5 have a track record of directing movies with above-average ROI and should be hired on future movies."
   ]
  },
  {
   "cell_type": "code",
   "execution_count": 44,
   "metadata": {},
   "outputs": [],
   "source": [
    "#director_total['roi_pct_mean'].describe()"
   ]
  },
  {
   "cell_type": "code",
   "execution_count": 45,
   "metadata": {},
   "outputs": [],
   "source": [
    "# define values to be used to as filter\n",
    "num_movies_directed = 4\n",
    "roi_baseline = 1.5"
   ]
  },
  {
   "cell_type": "code",
   "execution_count": 46,
   "metadata": {},
   "outputs": [
    {
     "data": {
      "text/plain": [
       "director_name    5\n",
       "roi              5\n",
       "roi_pct_mean     5\n",
       "dtype: int64"
      ]
     },
     "execution_count": 46,
     "metadata": {},
     "output_type": "execute_result"
    }
   ],
   "source": [
    "# calculating profit as a pct. of average profit for directors\n",
    "director_counts = movies['director_name'].value_counts()\n",
    "\n",
    "# creating a list with a condition of having appeared in at least 5 movies\n",
    "director_list = director_counts[director_counts >= num_movies_directed].index.tolist()\n",
    "\n",
    "# creating a dataframe with actors in 5 or more movies\n",
    "director = movies[movies['director_name'].isin(director_list)]\n",
    "\n",
    "# creating a dataframe with actors and the average profit\n",
    "director_total = director.groupby(['director_name'], as_index=False)['roi'].mean().sort_values (by='roi', ascending=False)\n",
    "\n",
    "# creating the profit_pct_mean value feature\n",
    "director_total['roi_pct_mean'] = (director_total['roi']/ movies['roi'].mean())\n",
    "director_roi_pct_mean = director_total[director_total['roi_pct_mean'] > roi_baseline] \n",
    "\n",
    "director_roi_pct_mean_count = director_roi_pct_mean.count()\n",
    "director_roi_pct_mean_count"
   ]
  },
  {
   "cell_type": "markdown",
   "metadata": {},
   "source": [
    "### 3. Summary outcomes by director\n",
    "\n",
    "**Method**<br>\n",
    "Analyze summary outcomes by director.\n",
    "<br><br>\n",
    "**Result**<br>\n",
    "Several of the top directors by profit and ROI have only directed one or two movies and therefore will not be included in the profit per director analysis.<br> \n",
    "\n",
    "**Recommendation**<br>\n",
    "While the studio should aim to work with directors with a track record of financial success in order to seek out consistent profit, the most profitable directors, and those whose movies have the highest ROIs, are can often be up-and-coming directors. Therefore, the studio should not ignore new talent and should look for opportunities to engage with aspiring directors.\n",
    "<br>\n",
    "<br>\n",
    "Further analysis is needed to determine determinants of success for up-and-coming directors."
   ]
  },
  {
   "cell_type": "code",
   "execution_count": 47,
   "metadata": {},
   "outputs": [],
   "source": [
    "# group by director; calculate average of key financial variables\n",
    "directors_mean = movies[['director_name','gross_millions','profit_millions','budget_millions','roi']].groupby(['director_name']).mean()"
   ]
  },
  {
   "cell_type": "code",
   "execution_count": 48,
   "metadata": {},
   "outputs": [],
   "source": [
    "# group by director; count number of movies by counting 'color' column\n",
    "directors_count = movies[['director_name','color']].groupby(['director_name']).count().sort_values(by='color',ascending = False)\n",
    "\n",
    "# renname 'color' column as 'count'\n",
    "directors_count = directors_count.rename(columns = {'color': 'num_movies'})"
   ]
  },
  {
   "cell_type": "code",
   "execution_count": 49,
   "metadata": {},
   "outputs": [],
   "source": [
    "# merge director data (directors_mean, directors_count) into one df\n",
    "\n",
    "# define list of dfs to be merged\n",
    "directors_df_lst = [directors_mean, directors_count]\n",
    "\n",
    "# merge dfs in directors_df_lst\n",
    "directors_df = reduce(lambda left,right: pd.merge(left,right,on='director_name'), directors_df_lst)\n",
    "\n",
    "# rename columns\n",
    "directors_df = directors_df.rename(columns = {'gross_millions': 'avg_gross_millions',\n",
    "                                             'budget_millions': 'avg_budget_million',\n",
    "                                              'profit_millions':'avg_profit_millions',\n",
    "                                              'roi':'avg_roi'})\n",
    "\n",
    "#directors_df.to_csv('directors_df.csv')"
   ]
  },
  {
   "cell_type": "code",
   "execution_count": 50,
   "metadata": {},
   "outputs": [
    {
     "data": {
      "text/html": [
       "<div>\n",
       "<style scoped>\n",
       "    .dataframe tbody tr th:only-of-type {\n",
       "        vertical-align: middle;\n",
       "    }\n",
       "\n",
       "    .dataframe tbody tr th {\n",
       "        vertical-align: top;\n",
       "    }\n",
       "\n",
       "    .dataframe thead th {\n",
       "        text-align: right;\n",
       "    }\n",
       "</style>\n",
       "<table border=\"1\" class=\"dataframe\">\n",
       "  <thead>\n",
       "    <tr style=\"text-align: right;\">\n",
       "      <th></th>\n",
       "      <th>avg_gross_millions</th>\n",
       "      <th>avg_profit_millions</th>\n",
       "      <th>avg_budget_million</th>\n",
       "      <th>avg_roi</th>\n",
       "      <th>num_movies</th>\n",
       "    </tr>\n",
       "    <tr>\n",
       "      <th>director_name</th>\n",
       "      <th></th>\n",
       "      <th></th>\n",
       "      <th></th>\n",
       "      <th></th>\n",
       "      <th></th>\n",
       "    </tr>\n",
       "  </thead>\n",
       "  <tbody>\n",
       "    <tr>\n",
       "      <th>Woody Allen</th>\n",
       "      <td>15.347033</td>\n",
       "      <td>-1.552967</td>\n",
       "      <td>16.900000</td>\n",
       "      <td>0.033160</td>\n",
       "      <td>15</td>\n",
       "    </tr>\n",
       "    <tr>\n",
       "      <th>Steven Spielberg</th>\n",
       "      <td>133.659013</td>\n",
       "      <td>45.259013</td>\n",
       "      <td>88.400000</td>\n",
       "      <td>0.661140</td>\n",
       "      <td>15</td>\n",
       "    </tr>\n",
       "    <tr>\n",
       "      <th>Clint Eastwood</th>\n",
       "      <td>78.882093</td>\n",
       "      <td>30.896379</td>\n",
       "      <td>47.985714</td>\n",
       "      <td>0.834993</td>\n",
       "      <td>14</td>\n",
       "    </tr>\n",
       "    <tr>\n",
       "      <th>Steven Soderbergh</th>\n",
       "      <td>73.975315</td>\n",
       "      <td>29.206085</td>\n",
       "      <td>44.769231</td>\n",
       "      <td>1.462954</td>\n",
       "      <td>13</td>\n",
       "    </tr>\n",
       "    <tr>\n",
       "      <th>Ridley Scott</th>\n",
       "      <td>88.017692</td>\n",
       "      <td>-2.065642</td>\n",
       "      <td>90.083333</td>\n",
       "      <td>-0.085708</td>\n",
       "      <td>12</td>\n",
       "    </tr>\n",
       "  </tbody>\n",
       "</table>\n",
       "</div>"
      ],
      "text/plain": [
       "                   avg_gross_millions  avg_profit_millions  \\\n",
       "director_name                                                \n",
       "Woody Allen                 15.347033            -1.552967   \n",
       "Steven Spielberg           133.659013            45.259013   \n",
       "Clint Eastwood              78.882093            30.896379   \n",
       "Steven Soderbergh           73.975315            29.206085   \n",
       "Ridley Scott                88.017692            -2.065642   \n",
       "\n",
       "                   avg_budget_million   avg_roi  num_movies  \n",
       "director_name                                                \n",
       "Woody Allen                 16.900000  0.033160          15  \n",
       "Steven Spielberg            88.400000  0.661140          15  \n",
       "Clint Eastwood              47.985714  0.834993          14  \n",
       "Steven Soderbergh           44.769231  1.462954          13  \n",
       "Ridley Scott                90.083333 -0.085708          12  "
      ]
     },
     "execution_count": 50,
     "metadata": {},
     "output_type": "execute_result"
    }
   ],
   "source": [
    "# directors who directed the largest number of movies\n",
    "directors_df.sort_values(by = 'num_movies', ascending = False).head()"
   ]
  },
  {
   "cell_type": "code",
   "execution_count": 51,
   "metadata": {},
   "outputs": [
    {
     "data": {
      "text/html": [
       "<div>\n",
       "<style scoped>\n",
       "    .dataframe tbody tr th:only-of-type {\n",
       "        vertical-align: middle;\n",
       "    }\n",
       "\n",
       "    .dataframe tbody tr th {\n",
       "        vertical-align: top;\n",
       "    }\n",
       "\n",
       "    .dataframe thead th {\n",
       "        text-align: right;\n",
       "    }\n",
       "</style>\n",
       "<table border=\"1\" class=\"dataframe\">\n",
       "  <thead>\n",
       "    <tr style=\"text-align: right;\">\n",
       "      <th></th>\n",
       "      <th>avg_gross_millions</th>\n",
       "      <th>avg_profit_millions</th>\n",
       "      <th>avg_budget_million</th>\n",
       "      <th>avg_roi</th>\n",
       "      <th>num_movies</th>\n",
       "    </tr>\n",
       "    <tr>\n",
       "      <th>director_name</th>\n",
       "      <th></th>\n",
       "      <th></th>\n",
       "      <th></th>\n",
       "      <th></th>\n",
       "      <th></th>\n",
       "    </tr>\n",
       "  </thead>\n",
       "  <tbody>\n",
       "    <tr>\n",
       "      <th>James Cameron</th>\n",
       "      <td>709.58905</td>\n",
       "      <td>491.089050</td>\n",
       "      <td>218.500000</td>\n",
       "      <td>2.251150</td>\n",
       "      <td>2</td>\n",
       "    </tr>\n",
       "    <tr>\n",
       "      <th>Tim Miller</th>\n",
       "      <td>363.02430</td>\n",
       "      <td>305.024300</td>\n",
       "      <td>58.000000</td>\n",
       "      <td>5.259000</td>\n",
       "      <td>1</td>\n",
       "    </tr>\n",
       "    <tr>\n",
       "      <th>George Lucas</th>\n",
       "      <td>388.49430</td>\n",
       "      <td>274.160967</td>\n",
       "      <td>114.333333</td>\n",
       "      <td>2.397733</td>\n",
       "      <td>3</td>\n",
       "    </tr>\n",
       "    <tr>\n",
       "      <th>Kyle Balda</th>\n",
       "      <td>336.02960</td>\n",
       "      <td>262.029600</td>\n",
       "      <td>74.000000</td>\n",
       "      <td>3.540900</td>\n",
       "      <td>1</td>\n",
       "    </tr>\n",
       "    <tr>\n",
       "      <th>Colin Trevorrow</th>\n",
       "      <td>328.09255</td>\n",
       "      <td>252.717550</td>\n",
       "      <td>75.375000</td>\n",
       "      <td>3.845750</td>\n",
       "      <td>2</td>\n",
       "    </tr>\n",
       "  </tbody>\n",
       "</table>\n",
       "</div>"
      ],
      "text/plain": [
       "                 avg_gross_millions  avg_profit_millions  avg_budget_million  \\\n",
       "director_name                                                                  \n",
       "James Cameron             709.58905           491.089050          218.500000   \n",
       "Tim Miller                363.02430           305.024300           58.000000   \n",
       "George Lucas              388.49430           274.160967          114.333333   \n",
       "Kyle Balda                336.02960           262.029600           74.000000   \n",
       "Colin Trevorrow           328.09255           252.717550           75.375000   \n",
       "\n",
       "                  avg_roi  num_movies  \n",
       "director_name                          \n",
       "James Cameron    2.251150           2  \n",
       "Tim Miller       5.259000           1  \n",
       "George Lucas     2.397733           3  \n",
       "Kyle Balda       3.540900           1  \n",
       "Colin Trevorrow  3.845750           2  "
      ]
     },
     "execution_count": 51,
     "metadata": {},
     "output_type": "execute_result"
    }
   ],
   "source": [
    "# directors with top average profit\n",
    "directors_df.sort_values(by = 'avg_profit_millions', ascending = False).head()"
   ]
  },
  {
   "cell_type": "code",
   "execution_count": 52,
   "metadata": {},
   "outputs": [
    {
     "data": {
      "text/plain": [
       "0.75"
      ]
     },
     "execution_count": 52,
     "metadata": {},
     "output_type": "execute_result"
    }
   ],
   "source": [
    "# calculate percent of the 100 directors with the highest average profit who directed fewer than 4 movies\n",
    "directors_df_top_profit = directors_df.sort_values(by = 'avg_profit_millions', ascending = False).head(100)\n",
    "directors_df_top_profit = directors_df_top_profit[directors_df_top_profit['num_movies'] < 4]\n",
    "len(directors_df_top_profit) / 100"
   ]
  },
  {
   "cell_type": "code",
   "execution_count": 53,
   "metadata": {},
   "outputs": [
    {
     "data": {
      "text/html": [
       "<div>\n",
       "<style scoped>\n",
       "    .dataframe tbody tr th:only-of-type {\n",
       "        vertical-align: middle;\n",
       "    }\n",
       "\n",
       "    .dataframe tbody tr th {\n",
       "        vertical-align: top;\n",
       "    }\n",
       "\n",
       "    .dataframe thead th {\n",
       "        text-align: right;\n",
       "    }\n",
       "</style>\n",
       "<table border=\"1\" class=\"dataframe\">\n",
       "  <thead>\n",
       "    <tr style=\"text-align: right;\">\n",
       "      <th></th>\n",
       "      <th>avg_gross_millions</th>\n",
       "      <th>avg_profit_millions</th>\n",
       "      <th>avg_budget_million</th>\n",
       "      <th>avg_roi</th>\n",
       "      <th>num_movies</th>\n",
       "    </tr>\n",
       "    <tr>\n",
       "      <th>director_name</th>\n",
       "      <th></th>\n",
       "      <th></th>\n",
       "      <th></th>\n",
       "      <th></th>\n",
       "      <th></th>\n",
       "    </tr>\n",
       "  </thead>\n",
       "  <tbody>\n",
       "    <tr>\n",
       "      <th>Oren Peli</th>\n",
       "      <td>107.917300</td>\n",
       "      <td>107.9023</td>\n",
       "      <td>2.5075</td>\n",
       "      <td>7193.486700</td>\n",
       "      <td>2</td>\n",
       "    </tr>\n",
       "    <tr>\n",
       "      <th>Jonathan Caouette</th>\n",
       "      <td>0.592000</td>\n",
       "      <td>0.5918</td>\n",
       "      <td>0.0002</td>\n",
       "      <td>2959.000000</td>\n",
       "      <td>1</td>\n",
       "    </tr>\n",
       "    <tr>\n",
       "      <th>Daniel Myrick</th>\n",
       "      <td>140.530100</td>\n",
       "      <td>140.4701</td>\n",
       "      <td>0.0600</td>\n",
       "      <td>2341.168300</td>\n",
       "      <td>1</td>\n",
       "    </tr>\n",
       "    <tr>\n",
       "      <th>Travis Cluff</th>\n",
       "      <td>22.757800</td>\n",
       "      <td>22.6578</td>\n",
       "      <td>0.1000</td>\n",
       "      <td>226.578000</td>\n",
       "      <td>1</td>\n",
       "    </tr>\n",
       "    <tr>\n",
       "      <th>Alex Kendrick</th>\n",
       "      <td>26.049467</td>\n",
       "      <td>25.1828</td>\n",
       "      <td>0.6550</td>\n",
       "      <td>60.970367</td>\n",
       "      <td>4</td>\n",
       "    </tr>\n",
       "  </tbody>\n",
       "</table>\n",
       "</div>"
      ],
      "text/plain": [
       "                   avg_gross_millions  avg_profit_millions  \\\n",
       "director_name                                                \n",
       "Oren Peli                  107.917300             107.9023   \n",
       "Jonathan Caouette            0.592000               0.5918   \n",
       "Daniel Myrick              140.530100             140.4701   \n",
       "Travis Cluff                22.757800              22.6578   \n",
       "Alex Kendrick               26.049467              25.1828   \n",
       "\n",
       "                   avg_budget_million      avg_roi  num_movies  \n",
       "director_name                                                   \n",
       "Oren Peli                      2.5075  7193.486700           2  \n",
       "Jonathan Caouette              0.0002  2959.000000           1  \n",
       "Daniel Myrick                  0.0600  2341.168300           1  \n",
       "Travis Cluff                   0.1000   226.578000           1  \n",
       "Alex Kendrick                  0.6550    60.970367           4  "
      ]
     },
     "execution_count": 53,
     "metadata": {},
     "output_type": "execute_result"
    }
   ],
   "source": [
    "# directors with top average roi\n",
    "directors_df.sort_values(by = 'avg_roi', ascending = False).head()"
   ]
  },
  {
   "cell_type": "code",
   "execution_count": 54,
   "metadata": {},
   "outputs": [
    {
     "data": {
      "text/plain": [
       "0.21"
      ]
     },
     "execution_count": 54,
     "metadata": {},
     "output_type": "execute_result"
    }
   ],
   "source": [
    "# calculate percent of the 100 directors with the highest average profit who directed fewer than 4 movies\n",
    "directors_df_top_roi = directors_df.sort_values(by = 'avg_roi', ascending = False).head(100)\n",
    "directors_df_top_roi = directors_df_top_roi[directors_df_top_roi['avg_roi'] < 4]\n",
    "len(directors_df_top_roi) / 100"
   ]
  },
  {
   "cell_type": "markdown",
   "metadata": {},
   "source": [
    "## Analzye Genre Success\n",
    "Which movie genres are the most financially successful?\n",
    "\n",
    "Movies can be classified under more than one genre. Any movie that is classified under a genre is included in that genre's analysis. For example - a movie whose genres are \"romance\" and \"comedy\" is included in the analyses for both genres.\n",
    "\n",
    "**Method** <br>\n",
    "Analyze outcomes by genre.\n",
    "\n",
    "**Results** \n",
    "- Gross\n",
    "  - Adventure, Animation, Family, Fantasy and Sci-fi movies are the highest grossing, on average.\n",
    "    - Despite high average gross, Animation had low total gross due to the fact that only 2% of movies are Animations.\n",
    "    - The Adventure, Family, Fantasy, and Sci-fi genres each represent 4.3% - 6.3% of all movies.\n",
    "- Profit\n",
    "  - Animation and Family have the highest average profits.\n",
    "  - Action, Crime, Drama, and Thriller tend have below-average profits. Action, thriller, and crime movies are relatively common - representing 8.1% 10.7%, and 6.5% of all movies, respectively. Drama is the most common genre; 18.6% of all movies are Dramas.\n",
    "  - Comedies have the highest total profit; comedies are common (15% of all movies) and have above-average profitability.\n",
    "  \n",
    "**Recommendations** <br>\n",
    "Focus on growth in two categories:\n",
    "- Blockbusters (high margin, low volume)\n",
    "  - Genres: Action, Adventure, and Fantasy movies\n",
    "  - Budget: High-budget\n",
    "  - Frequency: low frequency\n",
    "- Crowd-pleasers (low margin, high volume)\n",
    "  - Genres: Romance, Comedy, Animation, Family\n",
    "  - Budget: low-budget\n",
    "  - Frequency: high frequency\n",
    "  \n",
    "De-emphasize less profitable genres - including Action, Crime, Thiller, and Drama."
   ]
  },
  {
   "cell_type": "code",
   "execution_count": 77,
   "metadata": {},
   "outputs": [
    {
     "data": {
      "text/plain": [
       "Comedy                                                    169\n",
       "Drama                                                     164\n",
       "Comedy|Drama                                              154\n",
       "Comedy|Drama|Romance                                      148\n",
       "Comedy|Romance                                            139\n",
       "                                                         ... \n",
       "Fantasy|Horror|Mystery                                      1\n",
       "Action|Comedy|Mystery                                       1\n",
       "Drama|History|Horror                                        1\n",
       "Comedy|Fantasy|Horror|Musical                               1\n",
       "Adventure|Animation|Comedy|Drama|Family|Fantasy|Sci-Fi      1\n",
       "Name: genres, Length: 731, dtype: int64"
      ]
     },
     "execution_count": 77,
     "metadata": {},
     "output_type": "execute_result"
    }
   ],
   "source": [
    "movies['genres'].value_counts()"
   ]
  },
  {
   "cell_type": "code",
   "execution_count": 56,
   "metadata": {},
   "outputs": [
    {
     "name": "stderr",
     "output_type": "stream",
     "text": [
      "/Users/kristinkent/miniconda3/lib/python3.7/site-packages/ipykernel_launcher.py:28: SettingWithCopyWarning: \n",
      "A value is trying to be set on a copy of a slice from a DataFrame\n",
      "\n",
      "See the caveats in the documentation: https://pandas.pydata.org/pandas-docs/stable/user_guide/indexing.html#returning-a-view-versus-a-copy\n",
      "/Users/kristinkent/miniconda3/lib/python3.7/site-packages/ipykernel_launcher.py:30: SettingWithCopyWarning: \n",
      "A value is trying to be set on a copy of a slice from a DataFrame\n",
      "\n",
      "See the caveats in the documentation: https://pandas.pydata.org/pandas-docs/stable/user_guide/indexing.html#returning-a-view-versus-a-copy\n"
     ]
    }
   ],
   "source": [
    "# add binary genre variable to movies df\n",
    "\n",
    "# create list of genres\n",
    "genre_lst = ['Action',\n",
    "             'Adventure',\n",
    "             'Animation',\n",
    "             'Comedy',\n",
    "             'Crime',\n",
    "             'Documentary',\n",
    "             'Drama',\n",
    "             'Family',\n",
    "             'Fantasy',\n",
    "             'Music',\n",
    "             'Mystery',\n",
    "             'Thriller',\n",
    "             'Horror',\n",
    "             'Romance',\n",
    "             'Sci-Fi']\n",
    "\n",
    "# create column for each genre in genre_lst\n",
    "for x in genre_lst:\n",
    "    movies['genre_' + x.lower()] = \"\"\n",
    "\n",
    "# populate columns with binary field\n",
    "for x in range(len(movies['genres'])):\n",
    "    for y in genre_lst:\n",
    "        if y in movies['genres'][x]:\n",
    "            movies['genre_' + y.lower()][x] = y.lower()\n",
    "        else:\n",
    "            movies['genre_' + y.lower()][x] = 'not ' + y.lower()"
   ]
  },
  {
   "cell_type": "code",
   "execution_count": 57,
   "metadata": {},
   "outputs": [],
   "source": [
    "# create df to analyze count by genre\n",
    "genre_count = pd.DataFrame()\n",
    "for x in genre_lst:\n",
    "    x = movies.groupby(['genre_' + x.lower()]).count()\n",
    "    x = x.rename_axis('genre', axis= 0)\n",
    "    genre_count = genre_count.append(x)\n",
    "\n",
    "genre_count = genre_count[genre_count.index.str.contains(\"not\")==False]\n",
    "\n",
    "genre_count['pct_total']= genre_count['color'] / genre_count['color'].sum()\n",
    "\n",
    "genre_count = genre_count[['color','pct_total']].copy()\n",
    "genre_count = genre_count.rename(columns={\"color\": \"count\"})"
   ]
  },
  {
   "cell_type": "markdown",
   "metadata": {},
   "source": [
    "### Average outcome by genre"
   ]
  },
  {
   "cell_type": "code",
   "execution_count": 58,
   "metadata": {},
   "outputs": [],
   "source": [
    "# create df to analyze average outcome by genre\n",
    "genre_avg = pd.DataFrame()\n",
    "for x in genre_lst:\n",
    "    x = movies.groupby(['genre_' + x.lower()]).mean()\n",
    "    x = x.rename_axis('genre', axis= 0)\n",
    "    genre_avg = genre_avg.append(x)\n",
    "\n",
    "genre_avg = genre_avg[genre_avg.index.str.contains(\"not\")==False]\n",
    "\n",
    "genre_avg = genre_avg[['budget_millions','gross_millions','profit_millions','roi']]"
   ]
  },
  {
   "cell_type": "code",
   "execution_count": 59,
   "metadata": {},
   "outputs": [
    {
     "data": {
      "text/html": [
       "<div>\n",
       "<style scoped>\n",
       "    .dataframe tbody tr th:only-of-type {\n",
       "        vertical-align: middle;\n",
       "    }\n",
       "\n",
       "    .dataframe tbody tr th {\n",
       "        vertical-align: top;\n",
       "    }\n",
       "\n",
       "    .dataframe thead th {\n",
       "        text-align: right;\n",
       "    }\n",
       "</style>\n",
       "<table border=\"1\" class=\"dataframe\">\n",
       "  <thead>\n",
       "    <tr style=\"text-align: right;\">\n",
       "      <th></th>\n",
       "      <th>avg_budget_million</th>\n",
       "      <th>avg_gross_millions</th>\n",
       "      <th>avg_profit_millions</th>\n",
       "      <th>avg_roi</th>\n",
       "      <th>count</th>\n",
       "      <th>pct_total</th>\n",
       "    </tr>\n",
       "    <tr>\n",
       "      <th>genre</th>\n",
       "      <th></th>\n",
       "      <th></th>\n",
       "      <th></th>\n",
       "      <th></th>\n",
       "      <th></th>\n",
       "      <th></th>\n",
       "    </tr>\n",
       "  </thead>\n",
       "  <tbody>\n",
       "    <tr>\n",
       "      <th>doc.</th>\n",
       "      <td>4.894068</td>\n",
       "      <td>12.128262</td>\n",
       "      <td>6.630271</td>\n",
       "      <td>56.924669</td>\n",
       "      <td>103</td>\n",
       "      <td>0.010600</td>\n",
       "    </tr>\n",
       "    <tr>\n",
       "      <th>horror</th>\n",
       "      <td>19.474574</td>\n",
       "      <td>34.660050</td>\n",
       "      <td>11.470893</td>\n",
       "      <td>37.122135</td>\n",
       "      <td>397</td>\n",
       "      <td>0.040856</td>\n",
       "    </tr>\n",
       "    <tr>\n",
       "      <th>mystery</th>\n",
       "      <td>35.860326</td>\n",
       "      <td>47.086040</td>\n",
       "      <td>9.389785</td>\n",
       "      <td>1.206741</td>\n",
       "      <td>376</td>\n",
       "      <td>0.038695</td>\n",
       "    </tr>\n",
       "    <tr>\n",
       "      <th>comedy</th>\n",
       "      <td>33.623446</td>\n",
       "      <td>47.929497</td>\n",
       "      <td>14.500878</td>\n",
       "      <td>1.111212</td>\n",
       "      <td>1460</td>\n",
       "      <td>0.150252</td>\n",
       "    </tr>\n",
       "    <tr>\n",
       "      <th>drama</th>\n",
       "      <td>27.970061</td>\n",
       "      <td>33.243072</td>\n",
       "      <td>5.343215</td>\n",
       "      <td>1.063906</td>\n",
       "      <td>1813</td>\n",
       "      <td>0.186580</td>\n",
       "    </tr>\n",
       "    <tr>\n",
       "      <th>romance</th>\n",
       "      <td>30.233450</td>\n",
       "      <td>40.095752</td>\n",
       "      <td>10.279925</td>\n",
       "      <td>1.026118</td>\n",
       "      <td>799</td>\n",
       "      <td>0.082227</td>\n",
       "    </tr>\n",
       "    <tr>\n",
       "      <th>thriller</th>\n",
       "      <td>39.119974</td>\n",
       "      <td>47.526337</td>\n",
       "      <td>4.954355</td>\n",
       "      <td>0.924541</td>\n",
       "      <td>1037</td>\n",
       "      <td>0.106720</td>\n",
       "    </tr>\n",
       "    <tr>\n",
       "      <th>music</th>\n",
       "      <td>28.392785</td>\n",
       "      <td>38.740977</td>\n",
       "      <td>12.027151</td>\n",
       "      <td>0.845425</td>\n",
       "      <td>230</td>\n",
       "      <td>0.023670</td>\n",
       "    </tr>\n",
       "    <tr>\n",
       "      <th>family</th>\n",
       "      <td>65.333377</td>\n",
       "      <td>87.231641</td>\n",
       "      <td>20.085309</td>\n",
       "      <td>0.599959</td>\n",
       "      <td>419</td>\n",
       "      <td>0.043120</td>\n",
       "    </tr>\n",
       "    <tr>\n",
       "      <th>sci-fi</th>\n",
       "      <td>67.267909</td>\n",
       "      <td>84.312389</td>\n",
       "      <td>13.753866</td>\n",
       "      <td>0.502094</td>\n",
       "      <td>425</td>\n",
       "      <td>0.043738</td>\n",
       "    </tr>\n",
       "    <tr>\n",
       "      <th>fantasy</th>\n",
       "      <td>70.834450</td>\n",
       "      <td>88.529675</td>\n",
       "      <td>16.207542</td>\n",
       "      <td>0.469444</td>\n",
       "      <td>418</td>\n",
       "      <td>0.043017</td>\n",
       "    </tr>\n",
       "    <tr>\n",
       "      <th>animation</th>\n",
       "      <td>81.286702</td>\n",
       "      <td>109.828187</td>\n",
       "      <td>25.892274</td>\n",
       "      <td>0.444599</td>\n",
       "      <td>194</td>\n",
       "      <td>0.019965</td>\n",
       "    </tr>\n",
       "    <tr>\n",
       "      <th>adventure</th>\n",
       "      <td>84.330275</td>\n",
       "      <td>102.900651</td>\n",
       "      <td>16.790618</td>\n",
       "      <td>0.382039</td>\n",
       "      <td>615</td>\n",
       "      <td>0.063291</td>\n",
       "    </tr>\n",
       "    <tr>\n",
       "      <th>crime</th>\n",
       "      <td>31.818620</td>\n",
       "      <td>37.491894</td>\n",
       "      <td>4.837784</td>\n",
       "      <td>0.251857</td>\n",
       "      <td>640</td>\n",
       "      <td>0.065864</td>\n",
       "    </tr>\n",
       "    <tr>\n",
       "      <th>action</th>\n",
       "      <td>67.647873</td>\n",
       "      <td>80.109331</td>\n",
       "      <td>7.406759</td>\n",
       "      <td>0.142374</td>\n",
       "      <td>791</td>\n",
       "      <td>0.081404</td>\n",
       "    </tr>\n",
       "  </tbody>\n",
       "</table>\n",
       "</div>"
      ],
      "text/plain": [
       "           avg_budget_million  avg_gross_millions  avg_profit_millions  \\\n",
       "genre                                                                    \n",
       "doc.                 4.894068           12.128262             6.630271   \n",
       "horror              19.474574           34.660050            11.470893   \n",
       "mystery             35.860326           47.086040             9.389785   \n",
       "comedy              33.623446           47.929497            14.500878   \n",
       "drama               27.970061           33.243072             5.343215   \n",
       "romance             30.233450           40.095752            10.279925   \n",
       "thriller            39.119974           47.526337             4.954355   \n",
       "music               28.392785           38.740977            12.027151   \n",
       "family              65.333377           87.231641            20.085309   \n",
       "sci-fi              67.267909           84.312389            13.753866   \n",
       "fantasy             70.834450           88.529675            16.207542   \n",
       "animation           81.286702          109.828187            25.892274   \n",
       "adventure           84.330275          102.900651            16.790618   \n",
       "crime               31.818620           37.491894             4.837784   \n",
       "action              67.647873           80.109331             7.406759   \n",
       "\n",
       "             avg_roi  count  pct_total  \n",
       "genre                                   \n",
       "doc.       56.924669    103   0.010600  \n",
       "horror     37.122135    397   0.040856  \n",
       "mystery     1.206741    376   0.038695  \n",
       "comedy      1.111212   1460   0.150252  \n",
       "drama       1.063906   1813   0.186580  \n",
       "romance     1.026118    799   0.082227  \n",
       "thriller    0.924541   1037   0.106720  \n",
       "music       0.845425    230   0.023670  \n",
       "family      0.599959    419   0.043120  \n",
       "sci-fi      0.502094    425   0.043738  \n",
       "fantasy     0.469444    418   0.043017  \n",
       "animation   0.444599    194   0.019965  \n",
       "adventure   0.382039    615   0.063291  \n",
       "crime       0.251857    640   0.065864  \n",
       "action      0.142374    791   0.081404  "
      ]
     },
     "execution_count": 59,
     "metadata": {},
     "output_type": "execute_result"
    }
   ],
   "source": [
    "# merge genre count and genre average outcome data into one df\n",
    "genre_df_lst = [genre_avg, genre_count]\n",
    "\n",
    "#directors_df = reduce(lambda left,right: pd.merge(left,right,on='director_name'), directors_df_lst)\n",
    "\n",
    "genre_avg_df = reduce(lambda left,right: pd.merge(left, right, left_index=True, right_index=True), genre_df_lst)\n",
    "genre_avg_df = genre_avg_df.rename(columns = {'gross_millions': 'avg_gross_millions',\n",
    "                                             'budget_millions': 'avg_budget_million',\n",
    "                                              'profit_millions':'avg_profit_millions',\n",
    "                                              'roi':'avg_roi',\n",
    "                                     'color':'total_num'})\n",
    "\n",
    "genre_avg_df = genre_avg_df.rename(index={'documentary':'doc.'})\n",
    "\n",
    "genre_avg_df.sort_values(by = 'avg_roi', ascending = False)\n",
    "\n",
    "#genre_df.to_csv('genre_df.csv')"
   ]
  },
  {
   "cell_type": "markdown",
   "metadata": {},
   "source": [
    "#### barplot - average gross by genre"
   ]
  },
  {
   "cell_type": "code",
   "execution_count": 78,
   "metadata": {},
   "outputs": [
    {
     "data": {
      "image/png": "[encoded data removed]",
      "text/plain": [
       "<Figure size 720x360 with 1 Axes>"
      ]
     },
     "metadata": {},
     "output_type": "display_data"
    }
   ],
   "source": [
    "plt.clf()\n",
    "genre_avg_gross = sns.barplot(x= genre_avg_df.index, y=\"avg_gross_millions\", data=genre_avg_df)\n",
    "genre_avg_gross.set_xticklabels(genre_avg_gross.get_xticklabels(),rotation=90, fontsize = 14)\n",
    "genre_avg_gross.set_yticklabels([0,20,40,60,80,100], fontsize = 14)\n",
    "genre_avg_gross.set_ylabel(\"Avg. Gross (millions USD)\", fontsize = 14)\n",
    "genre_avg_gross.set_xlabel('', fontsize = 14)\n",
    "genre_avg_gross.axhline(movies['gross_millions'].mean())\n",
    "sns.set(rc={'figure.figsize':(10,5)})\n",
    "\n",
    "plt.savefig('genre_avg_gross.png', dpi = 100, bbox_inches = 'tight')"
   ]
  },
  {
   "cell_type": "markdown",
   "metadata": {},
   "source": [
    "#### barplot - average profit by genre"
   ]
  },
  {
   "cell_type": "code",
   "execution_count": 61,
   "metadata": {},
   "outputs": [
    {
     "data": {
      "image/png": "[encoded data removed]",
      "text/plain": [
       "<Figure size 720x360 with 1 Axes>"
      ]
     },
     "metadata": {},
     "output_type": "display_data"
    }
   ],
   "source": [
    "plt.clf()\n",
    "\n",
    "genre_avg_profit = sns.barplot(x= genre_avg_df.index, y=\"avg_profit_millions\", data=genre_avg_df)\n",
    "genre_avg_profit.set_xticklabels(genre_avg_profit.get_xticklabels(),rotation=90,fontsize = 14)\n",
    "genre_avg_profit.set_yticklabels([0,5,10,15,20,25], fontsize = 14)\n",
    "genre_avg_profit.set_ylabel(\"Avg. Profit (millions USD)\", fontsize = 14)\n",
    "genre_avg_profit.set_xlabel('', fontsize = 18)\n",
    "genre_avg_profit.axhline(movies['profit_millions'].mean())\n",
    "\n",
    "sns.set(rc={'figure.figsize':(10,5)})\n",
    "\n",
    "plt.savefig('genre_avg_profit.png', dpi = 100, bbox_inches = 'tight')"
   ]
  },
  {
   "cell_type": "markdown",
   "metadata": {},
   "source": [
    "### Total outcome (sum) by genre"
   ]
  },
  {
   "cell_type": "code",
   "execution_count": 62,
   "metadata": {},
   "outputs": [],
   "source": [
    "genre_sum = pd.DataFrame()\n",
    "for x in genre_lst:\n",
    "    x = movies.groupby(['genre_' + x.lower()]).sum()\n",
    "    x = x.rename_axis('genre', axis= 0)\n",
    "    genre_sum = genre_sum.append(x)\n",
    "\n",
    "genre_sum = genre_sum[genre_sum.index.str.contains(\"not\")==False]\n",
    "genre_sum = genre_sum[['budget_millions','gross_millions','profit_millions']]"
   ]
  },
  {
   "cell_type": "code",
   "execution_count": 63,
   "metadata": {},
   "outputs": [
    {
     "data": {
      "text/html": [
       "<div>\n",
       "<style scoped>\n",
       "    .dataframe tbody tr th:only-of-type {\n",
       "        vertical-align: middle;\n",
       "    }\n",
       "\n",
       "    .dataframe tbody tr th {\n",
       "        vertical-align: top;\n",
       "    }\n",
       "\n",
       "    .dataframe thead th {\n",
       "        text-align: right;\n",
       "    }\n",
       "</style>\n",
       "<table border=\"1\" class=\"dataframe\">\n",
       "  <thead>\n",
       "    <tr style=\"text-align: right;\">\n",
       "      <th></th>\n",
       "      <th>total_budget_million</th>\n",
       "      <th>total_gross_millions</th>\n",
       "      <th>total_profit_millions</th>\n",
       "      <th>count</th>\n",
       "      <th>pct_total</th>\n",
       "    </tr>\n",
       "    <tr>\n",
       "      <th>genre</th>\n",
       "      <th></th>\n",
       "      <th></th>\n",
       "      <th></th>\n",
       "      <th></th>\n",
       "      <th></th>\n",
       "    </tr>\n",
       "  </thead>\n",
       "  <tbody>\n",
       "    <tr>\n",
       "      <th>comedy</th>\n",
       "      <td>45223.5352</td>\n",
       "      <td>64321.3845</td>\n",
       "      <td>18097.0954</td>\n",
       "      <td>1460</td>\n",
       "      <td>0.150252</td>\n",
       "    </tr>\n",
       "    <tr>\n",
       "      <th>adventure</th>\n",
       "      <td>50598.1650</td>\n",
       "      <td>60196.8807</td>\n",
       "      <td>9654.6053</td>\n",
       "      <td>615</td>\n",
       "      <td>0.063291</td>\n",
       "    </tr>\n",
       "    <tr>\n",
       "      <th>action</th>\n",
       "      <td>52156.5100</td>\n",
       "      <td>56957.7346</td>\n",
       "      <td>5184.7316</td>\n",
       "      <td>791</td>\n",
       "      <td>0.081404</td>\n",
       "    </tr>\n",
       "    <tr>\n",
       "      <th>drama</th>\n",
       "      <td>46010.7508</td>\n",
       "      <td>53920.2620</td>\n",
       "      <td>7945.3610</td>\n",
       "      <td>1813</td>\n",
       "      <td>0.186580</td>\n",
       "    </tr>\n",
       "    <tr>\n",
       "      <th>thriller</th>\n",
       "      <td>38533.1744</td>\n",
       "      <td>42203.3871</td>\n",
       "      <td>4240.9283</td>\n",
       "      <td>1037</td>\n",
       "      <td>0.106720</td>\n",
       "    </tr>\n",
       "    <tr>\n",
       "      <th>fantasy</th>\n",
       "      <td>28333.7800</td>\n",
       "      <td>34349.5139</td>\n",
       "      <td>6142.6583</td>\n",
       "      <td>418</td>\n",
       "      <td>0.043017</td>\n",
       "    </tr>\n",
       "    <tr>\n",
       "      <th>family</th>\n",
       "      <td>26198.6840</td>\n",
       "      <td>33933.1085</td>\n",
       "      <td>7531.9909</td>\n",
       "      <td>419</td>\n",
       "      <td>0.043120</td>\n",
       "    </tr>\n",
       "    <tr>\n",
       "      <th>sci-fi</th>\n",
       "      <td>27445.3070</td>\n",
       "      <td>32544.5820</td>\n",
       "      <td>5212.7152</td>\n",
       "      <td>425</td>\n",
       "      <td>0.043738</td>\n",
       "    </tr>\n",
       "    <tr>\n",
       "      <th>romance</th>\n",
       "      <td>22463.4532</td>\n",
       "      <td>29550.5692</td>\n",
       "      <td>7062.3085</td>\n",
       "      <td>799</td>\n",
       "      <td>0.082227</td>\n",
       "    </tr>\n",
       "    <tr>\n",
       "      <th>crime</th>\n",
       "      <td>19377.5398</td>\n",
       "      <td>21782.7904</td>\n",
       "      <td>2670.4566</td>\n",
       "      <td>640</td>\n",
       "      <td>0.065864</td>\n",
       "    </tr>\n",
       "    <tr>\n",
       "      <th>animation</th>\n",
       "      <td>15281.9000</td>\n",
       "      <td>19769.0736</td>\n",
       "      <td>4582.9325</td>\n",
       "      <td>194</td>\n",
       "      <td>0.019965</td>\n",
       "    </tr>\n",
       "    <tr>\n",
       "      <th>mystery</th>\n",
       "      <td>12658.6950</td>\n",
       "      <td>15585.4794</td>\n",
       "      <td>2985.9515</td>\n",
       "      <td>376</td>\n",
       "      <td>0.038695</td>\n",
       "    </tr>\n",
       "    <tr>\n",
       "      <th>horror</th>\n",
       "      <td>7147.1688</td>\n",
       "      <td>10120.7345</td>\n",
       "      <td>3211.8500</td>\n",
       "      <td>397</td>\n",
       "      <td>0.040856</td>\n",
       "    </tr>\n",
       "    <tr>\n",
       "      <th>music</th>\n",
       "      <td>5678.5570</td>\n",
       "      <td>7980.6412</td>\n",
       "      <td>2176.9143</td>\n",
       "      <td>230</td>\n",
       "      <td>0.023670</td>\n",
       "    </tr>\n",
       "    <tr>\n",
       "      <th>doc.</th>\n",
       "      <td>396.4195</td>\n",
       "      <td>970.2610</td>\n",
       "      <td>384.5557</td>\n",
       "      <td>103</td>\n",
       "      <td>0.010600</td>\n",
       "    </tr>\n",
       "  </tbody>\n",
       "</table>\n",
       "</div>"
      ],
      "text/plain": [
       "           total_budget_million  total_gross_millions  total_profit_millions  \\\n",
       "genre                                                                          \n",
       "comedy               45223.5352            64321.3845             18097.0954   \n",
       "adventure            50598.1650            60196.8807              9654.6053   \n",
       "action               52156.5100            56957.7346              5184.7316   \n",
       "drama                46010.7508            53920.2620              7945.3610   \n",
       "thriller             38533.1744            42203.3871              4240.9283   \n",
       "fantasy              28333.7800            34349.5139              6142.6583   \n",
       "family               26198.6840            33933.1085              7531.9909   \n",
       "sci-fi               27445.3070            32544.5820              5212.7152   \n",
       "romance              22463.4532            29550.5692              7062.3085   \n",
       "crime                19377.5398            21782.7904              2670.4566   \n",
       "animation            15281.9000            19769.0736              4582.9325   \n",
       "mystery              12658.6950            15585.4794              2985.9515   \n",
       "horror                7147.1688            10120.7345              3211.8500   \n",
       "music                 5678.5570             7980.6412              2176.9143   \n",
       "doc.                   396.4195              970.2610               384.5557   \n",
       "\n",
       "           count  pct_total  \n",
       "genre                        \n",
       "comedy      1460   0.150252  \n",
       "adventure    615   0.063291  \n",
       "action       791   0.081404  \n",
       "drama       1813   0.186580  \n",
       "thriller    1037   0.106720  \n",
       "fantasy      418   0.043017  \n",
       "family       419   0.043120  \n",
       "sci-fi       425   0.043738  \n",
       "romance      799   0.082227  \n",
       "crime        640   0.065864  \n",
       "animation    194   0.019965  \n",
       "mystery      376   0.038695  \n",
       "horror       397   0.040856  \n",
       "music        230   0.023670  \n",
       "doc.         103   0.010600  "
      ]
     },
     "execution_count": 63,
     "metadata": {},
     "output_type": "execute_result"
    }
   ],
   "source": [
    "# merge genre count and genre average outcome data into one df\n",
    "genre_df_lst = [genre_sum, genre_count]\n",
    "\n",
    "#directors_df = reduce(lambda left,right: pd.merge(left,right,on='director_name'), directors_df_lst)\n",
    "\n",
    "genre_sum_df = reduce(lambda left,right: pd.merge(left, right, left_index=True, right_index=True), genre_df_lst)\n",
    "genre_sum_df = genre_sum_df.rename(columns = {'gross_millions': 'total_gross_millions',\n",
    "                                             'budget_millions': 'total_budget_million',\n",
    "                                              'profit_millions':'total_profit_millions',\n",
    "                                     'color':'total_num'})\n",
    "genre_sum_df = genre_sum_df.rename(index={'documentary':'doc.'})\n",
    "\n",
    "genre_sum_df.sort_values(by = 'total_gross_millions', ascending = False)\n",
    "\n",
    "#genre_df.to_csv('genre_df.csv')"
   ]
  },
  {
   "cell_type": "markdown",
   "metadata": {},
   "source": [
    "#### barplot - total gross by genre"
   ]
  },
  {
   "cell_type": "code",
   "execution_count": 64,
   "metadata": {},
   "outputs": [
    {
     "data": {
      "image/png": "[encoded data removed]",
      "text/plain": [
       "<Figure size 720x360 with 1 Axes>"
      ]
     },
     "metadata": {},
     "output_type": "display_data"
    }
   ],
   "source": [
    "plt.clf()\n",
    "genre_sum_gross = sns.barplot(x= genre_sum_df.index, y=\"total_gross_millions\", data=genre_sum_df)\n",
    "genre_sum_gross.set_xticklabels(genre_sum_gross.get_xticklabels(),rotation=90)\n",
    "#genre_sum_gross.set_yticklabels([0,20,40,60,80,100], fontsize = 14)\n",
    "genre_sum_gross.set_ylabel(\"Total Gross (millions USD)\", fontsize = 14)\n",
    "genre_sum_gross.set_xlabel('', fontsize = 14)\n",
    "sns.set(rc={'figure.figsize':(10,5)})\n",
    "plt.savefig('genre_sum_gross.png', dpi = 100, bbox_inches = 'tight')"
   ]
  },
  {
   "cell_type": "markdown",
   "metadata": {},
   "source": [
    "#### barplot - total profit by genre"
   ]
  },
  {
   "cell_type": "code",
   "execution_count": 65,
   "metadata": {},
   "outputs": [
    {
     "data": {
      "image/png": "[encoded data removed]",
      "text/plain": [
       "<Figure size 720x360 with 1 Axes>"
      ]
     },
     "metadata": {},
     "output_type": "display_data"
    }
   ],
   "source": [
    "plt.clf()\n",
    "genre_sum_profit = sns.barplot(x= genre_sum_df.index, y=\"total_profit_millions\", data=genre_sum_df)\n",
    "genre_sum_profit.set_xticklabels(genre_sum_profit.get_xticklabels(),rotation=90)\n",
    "genre_sum_profit.set_ylabel(\"Total Profit (millions USD)\", fontsize = 14)\n",
    "genre_sum_profit.set_xlabel('', fontsize = 14)\n",
    "sns.set(rc={'figure.figsize':(10,5)})\n",
    "plt.savefig('genre_sum_profit.png', dpi = 100, bbox_inches = 'tight')"
   ]
  },
  {
   "cell_type": "markdown",
   "metadata": {},
   "source": [
    "## Keyword Analysis"
   ]
  },
  {
   "cell_type": "markdown",
   "metadata": {},
   "source": [
    "Which keywords are associated with the greatest financial success?\n",
    "<br>\n",
    "<br>\n",
    "**Method**<br>\n",
    "(1) filter <code>movies</code>  to show only keywords that are associated with at least 30 movies; <br>\n",
    "(2) calculate average outcomes per keyword. <br>\n",
    "<br>\n",
    "<br>\n",
    "**Result**<br>\n",
    "There are only 6 keywords with average normalized profit greater than 2, and none with average normalized ROI greater than 1.5. This indicates that there is likely large variation in the outcomes for any given keyword. Because the normalized profit and ROI analysis did not produce many keywords of interest, we will instead look at the highest grossing and most profitable keywords.\n",
    "\n",
    "Highest grossing and most profitable keywords:\n",
    "- Movies with the plot keywords 'sequel','battle','spy', 'alien', and 'island' the highest grossing, on average. \n",
    "- Movies with the plot keywords 'wedding', 'island', 'high school', 'female nudity', and 'hospital' are the most profitable, on average. \n",
    "- Movies with the plot keywords 'small town', 'writer', 'escape', 'scientist', 'boy', 'future', and 'box office flop' are not profitable, on average.\n",
    "\n",
    "**Result**<br>\n",
    "The plot keywords with the highest average gross and profit are likely to be associated with financially succesful films. Future films should consider these plot themes."
   ]
  },
  {
   "cell_type": "code",
   "execution_count": 66,
   "metadata": {},
   "outputs": [],
   "source": [
    "# create list of plot keywords\n",
    "movies['plot_keywords'] = movies['plot_keywords'].astype(str)\n",
    "lst = movies['plot_keywords'].tolist()\n",
    "\n",
    "# define empty list\n",
    "lst_keywords = []\n",
    "\n",
    "# split keywords on |; append keywords to lst_keywords\n",
    "for i in lst:\n",
    "    lst_keywords.append(i.split('|'))\n",
    "\n",
    "# define function to flatten list of lists into one list (function pulled from stack overflow: https://stackoverflow.com/questions/952914/how-to-make-a-flat-list-out-of-a-list-of-lists)\n",
    "def flatten(t):\n",
    "    return [item for sublist in t for item in sublist]\n",
    "\n",
    "# apply flatten() to lst_keywords to create list of all keywords\n",
    "keywords = pd.DataFrame(flatten(lst_keywords),columns=['keywords'])"
   ]
  },
  {
   "cell_type": "code",
   "execution_count": 67,
   "metadata": {},
   "outputs": [],
   "source": [
    "#calculate value counts for each keyword\n",
    "keyword_counts = keywords['keywords'].value_counts()\n",
    "\n",
    "#create a list of keywords that are associated with at least 50 movies\n",
    "keyword_lst = keyword_counts[keyword_counts >= 30].index.tolist()\n",
    "\n",
    "#create a dataframe with keywords associated with 50 or more movies\n",
    "keyword = movies[movies['plot_keywords'].isin(keyword_lst)]"
   ]
  },
  {
   "cell_type": "code",
   "execution_count": 68,
   "metadata": {},
   "outputs": [
    {
     "name": "stderr",
     "output_type": "stream",
     "text": [
      "/Users/kristinkent/miniconda3/lib/python3.7/site-packages/ipykernel_launcher.py:14: SettingWithCopyWarning: \n",
      "A value is trying to be set on a copy of a slice from a DataFrame\n",
      "\n",
      "See the caveats in the documentation: https://pandas.pydata.org/pandas-docs/stable/user_guide/indexing.html#returning-a-view-versus-a-copy\n",
      "  \n",
      "/Users/kristinkent/miniconda3/lib/python3.7/site-packages/ipykernel_launcher.py:12: SettingWithCopyWarning: \n",
      "A value is trying to be set on a copy of a slice from a DataFrame\n",
      "\n",
      "See the caveats in the documentation: https://pandas.pydata.org/pandas-docs/stable/user_guide/indexing.html#returning-a-view-versus-a-copy\n",
      "  if sys.path[0] == '':\n"
     ]
    }
   ],
   "source": [
    "# add binary keyword variable to movies df\n",
    "movies_kw = movies\n",
    "\n",
    "# create column for each genre in genre_lst\n",
    "for x in keyword_lst:\n",
    "    movies_kw['keyword_' + x.lower()] = \"\"\n",
    "\n",
    "# populate columns with binary field\n",
    "for x in range(len(movies_kw['plot_keywords'])):\n",
    "    for y in keyword_lst:\n",
    "        if y in movies_kw['plot_keywords'][x]:\n",
    "            movies_kw['keyword_' + y.lower()][x] = y.lower()\n",
    "        else:\n",
    "            movies_kw['keyword_' + y.lower()][x] = 'not ' + y.lower()"
   ]
  },
  {
   "cell_type": "markdown",
   "metadata": {},
   "source": [
    "### Create df to analyze average outcome by keyword"
   ]
  },
  {
   "cell_type": "code",
   "execution_count": 69,
   "metadata": {},
   "outputs": [
    {
     "data": {
      "text/html": [
       "<div>\n",
       "<style scoped>\n",
       "    .dataframe tbody tr th:only-of-type {\n",
       "        vertical-align: middle;\n",
       "    }\n",
       "\n",
       "    .dataframe tbody tr th {\n",
       "        vertical-align: top;\n",
       "    }\n",
       "\n",
       "    .dataframe thead th {\n",
       "        text-align: right;\n",
       "    }\n",
       "</style>\n",
       "<table border=\"1\" class=\"dataframe\">\n",
       "  <thead>\n",
       "    <tr style=\"text-align: right;\">\n",
       "      <th></th>\n",
       "      <th>budget_millions</th>\n",
       "      <th>gross_millions</th>\n",
       "      <th>profit_millions</th>\n",
       "      <th>roi</th>\n",
       "    </tr>\n",
       "    <tr>\n",
       "      <th>keyword</th>\n",
       "      <th></th>\n",
       "      <th></th>\n",
       "      <th></th>\n",
       "      <th></th>\n",
       "    </tr>\n",
       "  </thead>\n",
       "  <tbody>\n",
       "    <tr>\n",
       "      <th>wedding</th>\n",
       "      <td>28.698864</td>\n",
       "      <td>51.316095</td>\n",
       "      <td>24.116329</td>\n",
       "      <td>0.734705</td>\n",
       "    </tr>\n",
       "    <tr>\n",
       "      <th>island</th>\n",
       "      <td>46.929762</td>\n",
       "      <td>70.969746</td>\n",
       "      <td>23.616500</td>\n",
       "      <td>0.296215</td>\n",
       "    </tr>\n",
       "    <tr>\n",
       "      <th>high school</th>\n",
       "      <td>18.035000</td>\n",
       "      <td>38.581123</td>\n",
       "      <td>22.418203</td>\n",
       "      <td>6.621748</td>\n",
       "    </tr>\n",
       "    <tr>\n",
       "      <th>female nudity</th>\n",
       "      <td>20.799730</td>\n",
       "      <td>40.099836</td>\n",
       "      <td>22.259837</td>\n",
       "      <td>1.104181</td>\n",
       "    </tr>\n",
       "    <tr>\n",
       "      <th>hospital</th>\n",
       "      <td>27.102500</td>\n",
       "      <td>49.144468</td>\n",
       "      <td>21.050572</td>\n",
       "      <td>1.069261</td>\n",
       "    </tr>\n",
       "  </tbody>\n",
       "</table>\n",
       "</div>"
      ],
      "text/plain": [
       "               budget_millions  gross_millions  profit_millions       roi\n",
       "keyword                                                                  \n",
       "wedding              28.698864       51.316095        24.116329  0.734705\n",
       "island               46.929762       70.969746        23.616500  0.296215\n",
       "high school          18.035000       38.581123        22.418203  6.621748\n",
       "female nudity        20.799730       40.099836        22.259837  1.104181\n",
       "hospital             27.102500       49.144468        21.050572  1.069261"
      ]
     },
     "execution_count": 69,
     "metadata": {},
     "output_type": "execute_result"
    }
   ],
   "source": [
    "kw_avg = pd.DataFrame()\n",
    "for x in keyword_lst:\n",
    "    x = movies.groupby(['keyword_' + x.lower()]).mean()\n",
    "    x = x.rename_axis('keyword', axis= 0)\n",
    "    kw_avg = kw_avg.append(x)\n",
    "\n",
    "kw_avg = kw_avg[kw_avg.index.str.contains(\"not\")==False]\n",
    "\n",
    "kw_avg = kw_avg[['budget_millions','gross_millions','profit_millions','roi']]\n",
    "\n",
    "kw_avg.sort_values(by = 'profit_millions', ascending = False).head()"
   ]
  },
  {
   "cell_type": "code",
   "execution_count": 70,
   "metadata": {},
   "outputs": [
    {
     "data": {
      "text/plain": [
       "budget_millions    6\n",
       "gross_millions     6\n",
       "profit_millions    6\n",
       "roi                6\n",
       "profit_pct_mean    6\n",
       "dtype: int64"
      ]
     },
     "execution_count": 70,
     "metadata": {},
     "output_type": "execute_result"
    }
   ],
   "source": [
    "#creating the profit_pct_mean value feature\n",
    "kw_avg['profit_pct_mean'] = (kw_avg['profit_millions']/ movies['profit_millions'].mean())\n",
    "kw_profit_pct_mean = kw_avg[kw_avg['profit_pct_mean'] > 2] \n",
    "\n",
    "kw_profit_pct_mean_count = kw_profit_pct_mean.count()\n",
    "kw_profit_pct_mean_count"
   ]
  },
  {
   "cell_type": "code",
   "execution_count": 71,
   "metadata": {},
   "outputs": [
    {
     "data": {
      "text/plain": [
       "budget_millions    0\n",
       "gross_millions     0\n",
       "profit_millions    0\n",
       "roi                0\n",
       "profit_pct_mean    0\n",
       "roi_pct_mean       0\n",
       "dtype: int64"
      ]
     },
     "execution_count": 71,
     "metadata": {},
     "output_type": "execute_result"
    }
   ],
   "source": [
    "#creating the profit_pct_mean value feature\n",
    "kw_avg['roi_pct_mean'] = (kw_avg['roi']/ movies['roi'].mean())\n",
    "kw_roi_pct_mean = kw_avg[kw_avg['roi_pct_mean'] > 1.5] \n",
    "\n",
    "kw_roi_pct_mean_count = kw_roi_pct_mean.count()\n",
    "kw_roi_pct_mean_count"
   ]
  },
  {
   "cell_type": "markdown",
   "metadata": {},
   "source": [
    "# Ideas for additional analysis\n",
    "\n",
    "- How successful are sequels and series'?\n",
    "<br>\n",
    "- Closer look at popular groupings of genres (i.e. romance and comedy; action and adventure).\n",
    "<br>\n",
    "- Closer look at popular groupings of keywords. \n",
    "- Group similar keywords together.\n",
    "- Analysis of outcomes by content rating."
   ]
  },
  {
   "cell_type": "code",
   "execution_count": null,
   "metadata": {},
   "outputs": [],
   "source": []
  },
  {
   "cell_type": "code",
   "execution_count": null,
   "metadata": {},
   "outputs": [],
   "source": []
  },
  {
   "cell_type": "code",
   "execution_count": null,
   "metadata": {},
   "outputs": [],
   "source": []
  }
 ],
 "metadata": {
  "kernelspec": {
   "display_name": "Python 3",
   "language": "python",
   "name": "python3"
  },
  "language_info": {
   "codemirror_mode": {
    "name": "ipython",
    "version": 3
   },
   "file_extension": ".py",
   "mimetype": "text/x-python",
   "name": "python",
   "nbconvert_exporter": "python",
   "pygments_lexer": "ipython3",
   "version": "3.7.6"
  }
 },
 "nbformat": 4,
 "nbformat_minor": 4
}
